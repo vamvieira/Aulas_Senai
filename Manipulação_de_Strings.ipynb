{
  "nbformat": 4,
  "nbformat_minor": 0,
  "metadata": {
    "colab": {
      "provenance": [],
      "authorship_tag": "ABX9TyNfeszvVrlA4I5GcbiggPn0",
      "include_colab_link": true
    },
    "kernelspec": {
      "name": "python3",
      "display_name": "Python 3"
    },
    "language_info": {
      "name": "python"
    }
  },
  "cells": [
    {
      "cell_type": "markdown",
      "metadata": {
        "id": "view-in-github",
        "colab_type": "text"
      },
      "source": [
        "<a href=\"https://colab.research.google.com/github/vamvieira/Aulas_Senai/blob/main/Manipula%C3%A7%C3%A3o_de_Strings.ipynb\" target=\"_parent\"><img src=\"https://colab.research.google.com/assets/colab-badge.svg\" alt=\"Open In Colab\"/></a>"
      ]
    },
    {
      "cell_type": "markdown",
      "source": [
        "# MANIPULAÇÃO DE STRINGS"
      ],
      "metadata": {
        "id": "TJYrvH4hfK2r"
      }
    },
    {
      "cell_type": "code",
      "source": [
        "# FATIAMENTO DE STRINGS\n",
        "\n",
        "\n",
        "texto = \"Curso de Python\"\n",
        "\n",
        "\n",
        "print(texto[6])          # 7º caracterer\n",
        "print(texto[9:15])       # 10º ao 15º caracterer\n",
        "print(texto[9:15:2])     # 10º ao 15º caracterer de 2 em 2\n",
        "print(texto[:5])         # Até o 5º caracterer\n",
        "print(texto[9:])         # 10º caracterer em diante\n",
        "print(texto[::-1])       # Inverter o texto\n",
        "print(texto[-1])         # Último caracter\n"
      ],
      "metadata": {
        "colab": {
          "base_uri": "https://localhost:8080/"
        },
        "id": "_QF7yYCrfPry",
        "outputId": "302b2880-9082-42e0-bccb-fa53cbeaebbf"
      },
      "execution_count": 1,
      "outputs": [
        {
          "output_type": "stream",
          "name": "stdout",
          "text": [
            "d\n",
            "Python\n",
            "Pto\n",
            "Curso\n",
            "Python\n",
            "nohtyP ed osruC\n",
            "n\n"
          ]
        }
      ]
    },
    {
      "cell_type": "code",
      "source": [],
      "metadata": {
        "id": "YSXWc22PfSHU"
      },
      "execution_count": null,
      "outputs": []
    }
  ]
}