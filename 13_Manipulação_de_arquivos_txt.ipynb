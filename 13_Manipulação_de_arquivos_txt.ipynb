{
  "nbformat": 4,
  "nbformat_minor": 0,
  "metadata": {
    "colab": {
      "provenance": [],
      "authorship_tag": "ABX9TyMe502qeIQg8z7RxaGWxnGb",
      "include_colab_link": true
    },
    "kernelspec": {
      "name": "python3",
      "display_name": "Python 3"
    },
    "language_info": {
      "name": "python"
    }
  },
  "cells": [
    {
      "cell_type": "markdown",
      "metadata": {
        "id": "view-in-github",
        "colab_type": "text"
      },
      "source": [
        "<a href=\"https://colab.research.google.com/github/vamvieira/Aulas_Senai/blob/main/13_Manipula%C3%A7%C3%A3o_de_arquivos_txt.ipynb\" target=\"_parent\"><img src=\"https://colab.research.google.com/assets/colab-badge.svg\" alt=\"Open In Colab\"/></a>"
      ]
    },
    {
      "cell_type": "code",
      "source": [
        "# CONECTAR E SINCRONIZAR PASTA DO GOOGLE DRIVE\n",
        "\n",
        "\n",
        "from google.colab import drive\n",
        "drive.mount('/content/drive')"
      ],
      "metadata": {
        "colab": {
          "base_uri": "https://localhost:8080/"
        },
        "id": "qAq4JVwPKTQk",
        "outputId": "3e4775f1-99ae-4706-f767-e02d0fec3423"
      },
      "execution_count": 2,
      "outputs": [
        {
          "output_type": "stream",
          "name": "stdout",
          "text": [
            "Drive already mounted at /content/drive; to attempt to forcibly remount, call drive.mount(\"/content/drive\", force_remount=True).\n"
          ]
        }
      ]
    },
    {
      "cell_type": "code",
      "execution_count": 1,
      "metadata": {
        "id": "UxUhnyMIIhco"
      },
      "outputs": [],
      "source": [
        "caminho = '/content/drive/MyDrive/Colab Notebooks/Senai Python/Programação Python/arquivos'"
      ]
    },
    {
      "cell_type": "code",
      "source": [
        "# EXEMPLO 01 (w write)\n",
        "\n",
        "\n",
        "arq = 'dados.txt'\n",
        "\n",
        "\n",
        "with open(f\"{caminho}/{arq}\", 'w') as arquivo:\n",
        "    arquivo.write(\"Vitor Vieira\")"
      ],
      "metadata": {
        "id": "Na6KADHIJm0V"
      },
      "execution_count": 4,
      "outputs": []
    },
    {
      "cell_type": "code",
      "source": [
        "# EXEMPLO 02\n",
        "\n",
        "\n",
        "arq = 'dadosOrcamento.txt'\n",
        "\n",
        "\n",
        "with open(f\"{caminho}/{arq}\", 'w') as arquivo:\n",
        "    arquivo.write(\"\"\"São Paulo, 12 de setembro de 2024\n",
        "\n",
        "\n",
        "Segue valor do orçamento solicitado:\n",
        "\n",
        "\n",
        "100 Peças X: R$ 200,00\n",
        "200 Peças Y: R$ 150,00\n",
        "Total: R$ 350,00\n",
        "\n",
        "\n",
        "Atenciosamente,\n",
        "Fabio\"\"\")"
      ],
      "metadata": {
        "id": "aQmq8wVcLV72"
      },
      "execution_count": 5,
      "outputs": []
    },
    {
      "cell_type": "code",
      "source": [
        "# EXEMPLO 03\n",
        "\n",
        "\n",
        "arq = 'dadosAnimais.txt'\n",
        "\n",
        "\n",
        "with open(f\"{caminho}/{arq}\", 'w') as arquivo:\n",
        "    arquivo.write('Cachorro\\n')\n",
        "    arquivo.write('Gato\\n')\n",
        "    arquivo.write('Passarinho\\n')"
      ],
      "metadata": {
        "id": "qnB7TNbmMibV"
      },
      "execution_count": 6,
      "outputs": []
    },
    {
      "cell_type": "code",
      "source": [
        "# EXEMPLO 04\n",
        "import random\n",
        "\n",
        "\n",
        "arq = 'dadosNumeros.txt'\n",
        "\n",
        "\n",
        "with open(f\"{caminho}/{arq}\", 'w') as arquivo:\n",
        "    for i in range(6):\n",
        "        numero = random.randint(1, 60)\n",
        "        n = str(numero)+'\\n'\n",
        "        arquivo.write(n)"
      ],
      "metadata": {
        "id": "ciro2i9NNi4k"
      },
      "execution_count": 7,
      "outputs": []
    },
    {
      "cell_type": "code",
      "source": [
        "# EXEMPLO 05 (a append)\n",
        "\n",
        "\n",
        "arq = 'dadosAnimais.txt'\n",
        "\n",
        "\n",
        "with open(f\"{caminho}/{arq}\", 'a') as arquivo:\n",
        "    arquivo.write('Girafa\\n')\n",
        "    arquivo.write('Cavalo\\n')\n",
        "    arquivo.write('Leão\\n')"
      ],
      "metadata": {
        "id": "e-UbWJs8PrjF"
      },
      "execution_count": 8,
      "outputs": []
    },
    {
      "cell_type": "code",
      "source": [
        "# EXEMPLO 06\n",
        "\n",
        "\n",
        "animais = ['Jacaré', 'Onça', 'Papagaio', 'Camelo', 'Anta']\n",
        "\n",
        "\n",
        "arq = 'dadosAnimais.txt'\n",
        "\n",
        "\n",
        "with open(f\"{caminho}/{arq}\", 'a') as arquivo:\n",
        "    for animal in animais:\n",
        "        arquivo.write(f'{animal}\\n')\n",
        "        print(f'Animal {animal} gravado com sucesso!')"
      ],
      "metadata": {
        "colab": {
          "base_uri": "https://localhost:8080/"
        },
        "id": "QNbcRh2CPtFl",
        "outputId": "d7b5703e-74a8-41bf-e1cb-77c469f3faf7"
      },
      "execution_count": 9,
      "outputs": [
        {
          "output_type": "stream",
          "name": "stdout",
          "text": [
            "Animal Jacaré gravado com sucesso!\n",
            "Animal Onça gravado com sucesso!\n",
            "Animal Papagaio gravado com sucesso!\n",
            "Animal Camelo gravado com sucesso!\n",
            "Animal Anta gravado com sucesso!\n"
          ]
        }
      ]
    },
    {
      "cell_type": "code",
      "source": [
        "# EXEMPLO 07 (r read)\n",
        "\n",
        "\n",
        "arq = 'dadosOrcamento.txt'\n",
        "\n",
        "\n",
        "with open(f\"{caminho}/{arq}\", 'r') as arquivo:\n",
        "    print(arquivo.read())"
      ],
      "metadata": {
        "colab": {
          "base_uri": "https://localhost:8080/"
        },
        "id": "M_htU9FqPus1",
        "outputId": "8a7bc1cd-b2ec-4274-c0e2-15c1a7a105f8"
      },
      "execution_count": 10,
      "outputs": [
        {
          "output_type": "stream",
          "name": "stdout",
          "text": [
            "São Paulo, 12 de setembro de 2024\n",
            "\n",
            "\n",
            "Segue valor do orçamento solicitado:\n",
            "\n",
            "\n",
            "100 Peças X: R$ 200,00\n",
            "200 Peças Y: R$ 150,00\n",
            "Total: R$ 350,00\n",
            "\n",
            "\n",
            "Atenciosamente,\n",
            "Fabio\n"
          ]
        }
      ]
    },
    {
      "cell_type": "code",
      "source": [
        "# EXEMPLO 08\n",
        "\n",
        "arq = 'dadosOrcamento.txt'\n",
        "\n",
        "with open(f\"{caminho}/{arq}\", 'r') as arquivo:\n",
        "    print(arquivo.readline())\n",
        "    print(arquivo.readline())\n",
        "    print(arquivo.readline())"
      ],
      "metadata": {
        "colab": {
          "base_uri": "https://localhost:8080/"
        },
        "id": "zyxtyB63QixV",
        "outputId": "1b877a32-a675-49dd-b485-b3d04d7ff24c"
      },
      "execution_count": 12,
      "outputs": [
        {
          "output_type": "stream",
          "name": "stdout",
          "text": [
            "São Paulo, 12 de setembro de 2024\n",
            "\n",
            "\n",
            "\n",
            "\n",
            "\n"
          ]
        }
      ]
    },
    {
      "cell_type": "code",
      "source": [
        "# EXEMPLO 09\n",
        "\n",
        "\n",
        "arq = 'dadosOrcamento.txt'\n",
        "\n",
        "\n",
        "with open(f\"{caminho}/{arq}\", 'r') as arquivo:\n",
        "    texto = arquivo.readline()\n",
        "    print(texto[0:20])"
      ],
      "metadata": {
        "colab": {
          "base_uri": "https://localhost:8080/"
        },
        "id": "Bzc1mpN1Qkh0",
        "outputId": "eaa43bfb-6459-4b68-cd03-efff28acfc87"
      },
      "execution_count": 13,
      "outputs": [
        {
          "output_type": "stream",
          "name": "stdout",
          "text": [
            "São Paulo, 12 de set\n"
          ]
        }
      ]
    },
    {
      "cell_type": "code",
      "source": [
        "# EXEMPLO 10 (verificar tipagem)\n",
        "\n",
        "\n",
        "arq = 'dadosOrcamento.txt'\n",
        "\n",
        "\n",
        "with open(f\"{caminho}/{arq}\", 'r') as arquivo:\n",
        "    print(arquivo.readlines())\n",
        "    print(type(arquivo.readlines()))"
      ],
      "metadata": {
        "colab": {
          "base_uri": "https://localhost:8080/"
        },
        "id": "gwEZxQQyRFfk",
        "outputId": "0f914a1b-41de-4236-c466-0d293142b72a"
      },
      "execution_count": 14,
      "outputs": [
        {
          "output_type": "stream",
          "name": "stdout",
          "text": [
            "['São Paulo, 12 de setembro de 2024\\n', '\\n', '\\n', 'Segue valor do orçamento solicitado:\\n', '\\n', '\\n', '100 Peças X: R$ 200,00\\n', '200 Peças Y: R$ 150,00\\n', 'Total: R$ 350,00\\n', '\\n', '\\n', 'Atenciosamente,\\n', 'Fabio']\n",
            "<class 'list'>\n"
          ]
        }
      ]
    },
    {
      "cell_type": "code",
      "source": [
        "# EXEMPLO 10\n",
        "\n",
        "\n",
        "arq = 'dadosOrcamento.txt'\n",
        "\n",
        "\n",
        "with open(f\"{caminho}/{arq}\", 'r') as arquivo:\n",
        "    for linha in arquivo:\n",
        "        print(linha.strip('\\n'))"
      ],
      "metadata": {
        "colab": {
          "base_uri": "https://localhost:8080/"
        },
        "id": "rilkDxBtRIOF",
        "outputId": "fa9e1d4c-359b-44e4-ff00-7cb1ee3a29bf"
      },
      "execution_count": 15,
      "outputs": [
        {
          "output_type": "stream",
          "name": "stdout",
          "text": [
            "São Paulo, 12 de setembro de 2024\n",
            "\n",
            "\n",
            "Segue valor do orçamento solicitado:\n",
            "\n",
            "\n",
            "100 Peças X: R$ 200,00\n",
            "200 Peças Y: R$ 150,00\n",
            "Total: R$ 350,00\n",
            "\n",
            "\n",
            "Atenciosamente,\n",
            "Fabio\n"
          ]
        }
      ]
    },
    {
      "cell_type": "markdown",
      "source": [
        "# Desafios"
      ],
      "metadata": {
        "id": "t59qZK5NR1u1"
      }
    },
    {
      "cell_type": "code",
      "source": [
        "# DESAFIO 01\n",
        "\"\"\"\n",
        "Exibir apenas a linha do total.\n",
        "\"\"\"\n",
        "\n",
        "arq = 'dadosOrcamento.txt'\n",
        "\n",
        "with open(f'{caminho}/{arq}', 'r') as arquivo:\n",
        "  for linha in arquivo:\n",
        "    if 'total' in linha.lower():\n",
        "      print(linha.strip('\\n'))"
      ],
      "metadata": {
        "colab": {
          "base_uri": "https://localhost:8080/"
        },
        "id": "avWhEFyDRc_F",
        "outputId": "7610bfc7-e0dd-460b-e867-edb97714b090"
      },
      "execution_count": 22,
      "outputs": [
        {
          "output_type": "stream",
          "name": "stdout",
          "text": [
            "Total: R$ 350,00\n"
          ]
        }
      ]
    },
    {
      "cell_type": "code",
      "source": [
        "# DESAFIO 02\n",
        "\"\"\"\n",
        "Crie um sistema de login que faça a leitura do arquivo login.txt que está na seguinte disposição:\n",
        "root\n",
        "1234\n",
        "Leandro Toniati\n",
        "Caso digite o login(root) e senha(1234) buscando as informações no arquivo, será apresentada\n",
        "uma mensagem de boas vindas com o nome do usuário, caso contrário informe 'Usuário ou senha não conferem'\n",
        "\"\"\"\n",
        "import getpass\n",
        "arq = 'login.txt'\n",
        "\n",
        "with open(f\"{caminho}/{arq}\", 'r') as arquivo:\n",
        "    arq = arquivo.readlines()\n",
        "    user = arq[0].strip('\\n')\n",
        "    pw = arq[1].strip('\\n')\n",
        "    nome = arq[2].strip('\\n')\n",
        "\n",
        "\n",
        "login = input(\"Digite seu usuário: \")\n",
        "senha = getpass.getpass(\"Digite a senha: \")\n",
        "\n",
        "\n",
        "if login == user and senha == pw:\n",
        "    print(f\"\\nSeja bem-vindo, {nome}!\")\n",
        "else:\n",
        "    print(\"\\nLogin ou senha incorretos...\")"
      ],
      "metadata": {
        "colab": {
          "base_uri": "https://localhost:8080/",
          "height": 211
        },
        "id": "8aoBfvhZVmyG",
        "outputId": "4bfeb318-0d05-4e0b-8a18-918777078aee"
      },
      "execution_count": 23,
      "outputs": [
        {
          "output_type": "error",
          "ename": "FileNotFoundError",
          "evalue": "[Errno 2] No such file or directory: '/content/drive/MyDrive/Colab Notebooks/Senai Python/Programação Python/arquivos/login.txt'",
          "traceback": [
            "\u001b[0;31m---------------------------------------------------------------------------\u001b[0m",
            "\u001b[0;31mFileNotFoundError\u001b[0m                         Traceback (most recent call last)",
            "\u001b[0;32m/tmp/ipython-input-23-3935840934.py\u001b[0m in \u001b[0;36m<cell line: 0>\u001b[0;34m()\u001b[0m\n\u001b[1;32m     11\u001b[0m \u001b[0marq\u001b[0m \u001b[0;34m=\u001b[0m \u001b[0;34m'login.txt'\u001b[0m\u001b[0;34m\u001b[0m\u001b[0;34m\u001b[0m\u001b[0m\n\u001b[1;32m     12\u001b[0m \u001b[0;34m\u001b[0m\u001b[0m\n\u001b[0;32m---> 13\u001b[0;31m \u001b[0;32mwith\u001b[0m \u001b[0mopen\u001b[0m\u001b[0;34m(\u001b[0m\u001b[0;34mf\"{caminho}/{arq}\"\u001b[0m\u001b[0;34m,\u001b[0m \u001b[0;34m'r'\u001b[0m\u001b[0;34m)\u001b[0m \u001b[0;32mas\u001b[0m \u001b[0marquivo\u001b[0m\u001b[0;34m:\u001b[0m\u001b[0;34m\u001b[0m\u001b[0;34m\u001b[0m\u001b[0m\n\u001b[0m\u001b[1;32m     14\u001b[0m     \u001b[0marq\u001b[0m \u001b[0;34m=\u001b[0m \u001b[0marquivo\u001b[0m\u001b[0;34m.\u001b[0m\u001b[0mreadlines\u001b[0m\u001b[0;34m(\u001b[0m\u001b[0;34m)\u001b[0m\u001b[0;34m\u001b[0m\u001b[0;34m\u001b[0m\u001b[0m\n\u001b[1;32m     15\u001b[0m     \u001b[0muser\u001b[0m \u001b[0;34m=\u001b[0m \u001b[0marq\u001b[0m\u001b[0;34m[\u001b[0m\u001b[0;36m0\u001b[0m\u001b[0;34m]\u001b[0m\u001b[0;34m.\u001b[0m\u001b[0mstrip\u001b[0m\u001b[0;34m(\u001b[0m\u001b[0;34m'\\n'\u001b[0m\u001b[0;34m)\u001b[0m\u001b[0;34m\u001b[0m\u001b[0;34m\u001b[0m\u001b[0m\n",
            "\u001b[0;31mFileNotFoundError\u001b[0m: [Errno 2] No such file or directory: '/content/drive/MyDrive/Colab Notebooks/Senai Python/Programação Python/arquivos/login.txt'"
          ]
        }
      ]
    },
    {
      "cell_type": "code",
      "source": [
        "# DESAFIO 02 v2\n",
        "\n",
        "\n",
        "from google.colab import output\n",
        "import getpass\n",
        "arq = 'login.txt'\n",
        "\n",
        "\n",
        "with open(f\"{caminho}/{arq}\", 'r') as arquivo:\n",
        "    lista = arquivo.readlines()\n",
        "    l = lista[0].strip('\\n')\n",
        "    s = lista[1].strip('\\n')\n",
        "    n = lista[2].strip('\\n')\n",
        "\n",
        "\n",
        "while True:\n",
        "    if input(\"Login: \") != l:\n",
        "        output.clear()\n",
        "        print(\"Usuário não encontrado\")\n",
        "        continue\n",
        "    output.clear()\n",
        "    break\n",
        "\n",
        "\n",
        "print(f\"Olá {n}!\")\n",
        "while True:\n",
        "    if getpass.getpass(\"Senha: \") != s:\n",
        "        output.clear()\n",
        "        print(f\"Olá {n}!\")\n",
        "        print(f\"Senha não confere...\")\n",
        "        continue\n",
        "    output.clear()\n",
        "    break\n",
        "\n",
        "\n",
        "print(f\"Boa tarde, {n}!\\n\\033[32mLogin efetuado com sucesso!\\033[0m\")"
      ],
      "metadata": {
        "colab": {
          "base_uri": "https://localhost:8080/",
          "height": 211
        },
        "id": "fEIRf-ZoW3YX",
        "outputId": "446fdf54-50d8-43a7-b233-f1b710e66484"
      },
      "execution_count": 20,
      "outputs": [
        {
          "output_type": "error",
          "ename": "FileNotFoundError",
          "evalue": "[Errno 2] No such file or directory: '/content/drive/MyDrive/Colab Notebooks/Senai Python/Programação Python/arquivos/login.txt'",
          "traceback": [
            "\u001b[0;31m---------------------------------------------------------------------------\u001b[0m",
            "\u001b[0;31mFileNotFoundError\u001b[0m                         Traceback (most recent call last)",
            "\u001b[0;32m/tmp/ipython-input-20-2704678319.py\u001b[0m in \u001b[0;36m<cell line: 0>\u001b[0;34m()\u001b[0m\n\u001b[1;32m      7\u001b[0m \u001b[0;34m\u001b[0m\u001b[0m\n\u001b[1;32m      8\u001b[0m \u001b[0;34m\u001b[0m\u001b[0m\n\u001b[0;32m----> 9\u001b[0;31m \u001b[0;32mwith\u001b[0m \u001b[0mopen\u001b[0m\u001b[0;34m(\u001b[0m\u001b[0;34mf\"{caminho}/{arq}\"\u001b[0m\u001b[0;34m,\u001b[0m \u001b[0;34m'r'\u001b[0m\u001b[0;34m)\u001b[0m \u001b[0;32mas\u001b[0m \u001b[0marquivo\u001b[0m\u001b[0;34m:\u001b[0m\u001b[0;34m\u001b[0m\u001b[0;34m\u001b[0m\u001b[0m\n\u001b[0m\u001b[1;32m     10\u001b[0m     \u001b[0mlista\u001b[0m \u001b[0;34m=\u001b[0m \u001b[0marquivo\u001b[0m\u001b[0;34m.\u001b[0m\u001b[0mreadlines\u001b[0m\u001b[0;34m(\u001b[0m\u001b[0;34m)\u001b[0m\u001b[0;34m\u001b[0m\u001b[0;34m\u001b[0m\u001b[0m\n\u001b[1;32m     11\u001b[0m     \u001b[0ml\u001b[0m \u001b[0;34m=\u001b[0m \u001b[0mlista\u001b[0m\u001b[0;34m[\u001b[0m\u001b[0;36m0\u001b[0m\u001b[0;34m]\u001b[0m\u001b[0;34m.\u001b[0m\u001b[0mstrip\u001b[0m\u001b[0;34m(\u001b[0m\u001b[0;34m'\\n'\u001b[0m\u001b[0;34m)\u001b[0m\u001b[0;34m\u001b[0m\u001b[0;34m\u001b[0m\u001b[0m\n",
            "\u001b[0;31mFileNotFoundError\u001b[0m: [Errno 2] No such file or directory: '/content/drive/MyDrive/Colab Notebooks/Senai Python/Programação Python/arquivos/login.txt'"
          ]
        }
      ]
    },
    {
      "cell_type": "code",
      "source": [
        "# DESAFIO 02 v3\n",
        "\n",
        "\n",
        "import getpass\n",
        "arq = 'login.txt'\n",
        "\n",
        "\n",
        "with open(f\"{caminho}/{arq}\", 'r') as arquivo:\n",
        "    lista = arquivo.readlines()\n",
        "\n",
        "\n",
        "tentativas = 1\n",
        "verifica = True\n",
        "while verifica:\n",
        "    if tentativas > 3:\n",
        "        print(\"Você excedeu o número de tentativas...\")\n",
        "        break\n",
        "    login       = input(\"Login: \")\n",
        "    senha       = getpass.getpass(\"Senha: \")\n",
        "    usuario     = lista[0].strip('\\n')\n",
        "    senhaUser   = lista[1].strip('\\n')\n",
        "    nomeUser    = lista[2].strip('\\n')\n",
        "    if login == usuario and senha == senhaUser:\n",
        "        print(f\"\\nSeja bem-vindo, {nomeUser}!\")\n",
        "        verifica = False\n",
        "    else:\n",
        "        print(f\"Login ou Senha incorretos\")\n",
        "        print(f\"Tentativa ({tentativas}/3)\\n\\n\")\n",
        "    tentativas+=1"
      ],
      "metadata": {
        "colab": {
          "base_uri": "https://localhost:8080/",
          "height": 211
        },
        "id": "bZL1LnHwkQd_",
        "outputId": "844770fe-cdab-496a-ede9-4af9acce3698"
      },
      "execution_count": 21,
      "outputs": [
        {
          "output_type": "error",
          "ename": "FileNotFoundError",
          "evalue": "[Errno 2] No such file or directory: '/content/drive/MyDrive/Colab Notebooks/Senai Python/Programação Python/arquivos/login.txt'",
          "traceback": [
            "\u001b[0;31m---------------------------------------------------------------------------\u001b[0m",
            "\u001b[0;31mFileNotFoundError\u001b[0m                         Traceback (most recent call last)",
            "\u001b[0;32m/tmp/ipython-input-21-4240152839.py\u001b[0m in \u001b[0;36m<cell line: 0>\u001b[0;34m()\u001b[0m\n\u001b[1;32m      6\u001b[0m \u001b[0;34m\u001b[0m\u001b[0m\n\u001b[1;32m      7\u001b[0m \u001b[0;34m\u001b[0m\u001b[0m\n\u001b[0;32m----> 8\u001b[0;31m \u001b[0;32mwith\u001b[0m \u001b[0mopen\u001b[0m\u001b[0;34m(\u001b[0m\u001b[0;34mf\"{caminho}/{arq}\"\u001b[0m\u001b[0;34m,\u001b[0m \u001b[0;34m'r'\u001b[0m\u001b[0;34m)\u001b[0m \u001b[0;32mas\u001b[0m \u001b[0marquivo\u001b[0m\u001b[0;34m:\u001b[0m\u001b[0;34m\u001b[0m\u001b[0;34m\u001b[0m\u001b[0m\n\u001b[0m\u001b[1;32m      9\u001b[0m     \u001b[0mlista\u001b[0m \u001b[0;34m=\u001b[0m \u001b[0marquivo\u001b[0m\u001b[0;34m.\u001b[0m\u001b[0mreadlines\u001b[0m\u001b[0;34m(\u001b[0m\u001b[0;34m)\u001b[0m\u001b[0;34m\u001b[0m\u001b[0;34m\u001b[0m\u001b[0m\n\u001b[1;32m     10\u001b[0m \u001b[0;34m\u001b[0m\u001b[0m\n",
            "\u001b[0;31mFileNotFoundError\u001b[0m: [Errno 2] No such file or directory: '/content/drive/MyDrive/Colab Notebooks/Senai Python/Programação Python/arquivos/login.txt'"
          ]
        }
      ]
    },
    {
      "cell_type": "code",
      "source": [],
      "metadata": {
        "id": "Cc43xQJ7kUU-"
      },
      "execution_count": null,
      "outputs": []
    }
  ]
}