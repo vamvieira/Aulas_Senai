{
  "nbformat": 4,
  "nbformat_minor": 0,
  "metadata": {
    "colab": {
      "provenance": [],
      "authorship_tag": "ABX9TyNP5weWH+P5dm3SC5jXhQn5",
      "include_colab_link": true
    },
    "kernelspec": {
      "name": "python3",
      "display_name": "Python 3"
    },
    "language_info": {
      "name": "python"
    }
  },
  "cells": [
    {
      "cell_type": "markdown",
      "metadata": {
        "id": "view-in-github",
        "colab_type": "text"
      },
      "source": [
        "<a href=\"https://colab.research.google.com/github/vamvieira/Aulas_Senai/blob/main/Semana4_While.ipynb\" target=\"_parent\"><img src=\"https://colab.research.google.com/assets/colab-badge.svg\" alt=\"Open In Colab\"/></a>"
      ]
    },
    {
      "cell_type": "code",
      "execution_count": null,
      "metadata": {
        "colab": {
          "base_uri": "https://localhost:8080/"
        },
        "id": "peSQmbCmYmMt",
        "outputId": "841eeb44-2217-4236-ffc4-b46d7233393c"
      },
      "outputs": [
        {
          "output_type": "stream",
          "name": "stdout",
          "text": [
            "1 2 3 4 5 6 7 8 9 10 "
          ]
        }
      ],
      "source": [
        "#Exemplo 1\n",
        "\n",
        "i = 1\n",
        "while i <= 10:\n",
        "  print(i, end=' ')\n",
        "  i += 1"
      ]
    },
    {
      "cell_type": "code",
      "source": [
        "i = 10\n",
        "while i >= 0:\n",
        "  print(i, end=' ')\n",
        "  i=i-1"
      ],
      "metadata": {
        "colab": {
          "base_uri": "https://localhost:8080/"
        },
        "id": "rCzn-10lY0sK",
        "outputId": "18600f69-0f66-4255-a2f4-b7e1ca03935e"
      },
      "execution_count": null,
      "outputs": [
        {
          "output_type": "stream",
          "name": "stdout",
          "text": [
            "10 9 8 7 6 5 4 3 2 1 0 "
          ]
        }
      ]
    },
    {
      "cell_type": "code",
      "source": [
        "# EXEMPLO 03\n",
        "\n",
        "\n",
        "i=0\n",
        "while i < 5:\n",
        "    i+=1\n",
        "    if i == 3:\n",
        "        print(\"Pulando a iteração 3\")\n",
        "        continue\n",
        "    print(i)\n",
        "else:\n",
        "    print(\"Fim do loop.\")"
      ],
      "metadata": {
        "colab": {
          "base_uri": "https://localhost:8080/"
        },
        "id": "ZRhmTtvpaFJ5",
        "outputId": "ad8ae539-6656-47f5-941e-f003a5205799"
      },
      "execution_count": null,
      "outputs": [
        {
          "output_type": "stream",
          "name": "stdout",
          "text": [
            "1\n",
            "2\n",
            "Pulando a iteração 3\n",
            "4\n",
            "5\n",
            "Fim do loop.\n"
          ]
        }
      ]
    },
    {
      "cell_type": "code",
      "source": [
        "# EXEMPLO 04\n",
        "\n",
        "\n",
        "while True:\n",
        "    r = input(\"Digite (S) para sair ou (C) para continuar\\n\")\n",
        "    if r.upper() == 'S':\n",
        "        print(\"Saindo do loop...\")\n",
        "        break\n",
        "    print(\"\\nContinuando...\\n\")"
      ],
      "metadata": {
        "colab": {
          "base_uri": "https://localhost:8080/"
        },
        "id": "CotpynXzdapJ",
        "outputId": "409ff9ef-9bc5-4f9a-80b5-6a69a569230d"
      },
      "execution_count": null,
      "outputs": [
        {
          "output_type": "stream",
          "name": "stdout",
          "text": [
            "Digite (S) para sair ou (C) para continuar\n",
            "s\n",
            "Saindo do loop...\n"
          ]
        }
      ]
    },
    {
      "cell_type": "code",
      "source": [
        "# EXEMPLO 05\n",
        "\n",
        "\n",
        "while True:\n",
        "    r = input(\"Digite (S) para sair ou (C) para continuar\\n\").upper()\n",
        "    if r != 'S' and r != 'C':\n",
        "        print(\"\\nDeixa de besteira, só vale S e C! 👶\")\n",
        "        continue\n",
        "    if r == 'S':\n",
        "        print(\"Saindo do loop...\")\n",
        "        break\n",
        "    print(\"\\nContinuando...\\n\")"
      ],
      "metadata": {
        "colab": {
          "base_uri": "https://localhost:8080/"
        },
        "id": "YmUPt0I2dbGX",
        "outputId": "d818bdcf-9c83-41b0-ece7-d458200abd76"
      },
      "execution_count": null,
      "outputs": [
        {
          "output_type": "stream",
          "name": "stdout",
          "text": [
            "Digite (S) para sair ou (C) para continuar\n",
            "c\n",
            "\n",
            "Continuando...\n",
            "\n",
            "Digite (S) para sair ou (C) para continuar\n",
            "a\n",
            "\n",
            "Deixa de besteira, só vale S e C! 👶\n",
            "Digite (S) para sair ou (C) para continuar\n",
            "s\n",
            "Saindo do loop...\n"
          ]
        }
      ]
    },
    {
      "cell_type": "code",
      "source": [
        "# EXEMPLO 06\n",
        "from google.colab import output\n",
        "import time\n",
        "\n",
        "\n",
        "while True:\n",
        "    time.sleep(3)\n",
        "    output.clear()\n",
        "    r = input(\"Digite (S) para sair ou (C) para continuar\\n\").upper()\n",
        "    if r != 'S' and r != 'C':\n",
        "        print(\"\\nDeixa de besteira, só vale S e C! 👶\")\n",
        "        continue\n",
        "    if r == 'S':\n",
        "        output.clear()\n",
        "        print(\"Saindo do loop...\")\n",
        "        break\n",
        "    print(\"\\nContinuando...\\n\")"
      ],
      "metadata": {
        "colab": {
          "base_uri": "https://localhost:8080/"
        },
        "id": "FSx6nGi1deRY",
        "outputId": "f83cd9ca-b9ba-4e91-9c89-8200d147673e"
      },
      "execution_count": null,
      "outputs": [
        {
          "output_type": "stream",
          "name": "stdout",
          "text": [
            "Saindo do loop...\n"
          ]
        }
      ]
    },
    {
      "cell_type": "code",
      "source": [
        "# DESAFIO 01\n",
        "\"\"\"\n",
        "Faça um programa que leia o sexo de uma pessoa, mas só aceite os\n",
        "valores ‘M’ ou ‘F’. Caso esteja errado, peça a digitação novamente até\n",
        "ter um valor correto.\n",
        "\"\"\"\n",
        "\n",
        "while True:\n",
        "  sexo = input(\"Informe seu sexo:\\n\").upper().strip()\n",
        "  if sexo != 'M' and sexo != 'F':\n",
        "    print(\"\\nSexo inválido, digite novamente:\\033[0m]\")\n",
        "    continue\n",
        "  print(f'\\nSexo \\033[32m{sexo}\\033[0m cadastrado com suceso!')\n",
        "  break"
      ],
      "metadata": {
        "id": "yJIHzngVdhJ4",
        "colab": {
          "base_uri": "https://localhost:8080/"
        },
        "outputId": "3ae287bf-4e0d-4c01-b875-8f41d666be87"
      },
      "execution_count": 2,
      "outputs": [
        {
          "output_type": "stream",
          "name": "stdout",
          "text": [
            "Informe seu sexo:\n",
            "f\n",
            "\n",
            "Sexo \u001b[32mF\u001b[0m cadastrado com suceso!\n"
          ]
        }
      ]
    },
    {
      "cell_type": "code",
      "source": [
        "# DESAFIO 02\n",
        "\"\"\"\n",
        "Faça um programa onde o computador vai “pensar” em um número entre 1 a 10.\n",
        "O jogador vai tentar adivinhar até acertar, mostrando no final quantos\n",
        "palpites foram necessários para vencer.\n",
        "\"\"\"\n",
        "\n",
        "import random\n",
        "\n",
        "\n",
        "pc = random.randint(1, 10)\n",
        "palpites = 1\n",
        "\n",
        "\n",
        "while True:\n",
        "    pl = int(input(\"Adivinhe o número que o computador pensou (1 a 10):  \"))\n",
        "    if pl == pc:\n",
        "        print(f\"\\n\\033[32mParabéns, você adivinhou com {palpites} palpite(s).\\n\\033[0m😄\")\n",
        "        break\n",
        "    else:\n",
        "        print(\"\\n\\033[31mErrou!\\n\\033[0m😒\")\n",
        "        palpites += 1"
      ],
      "metadata": {
        "colab": {
          "base_uri": "https://localhost:8080/"
        },
        "id": "cFLKcICmV-th",
        "outputId": "0af9f450-4ad0-45dc-b465-886ea46ac5bb"
      },
      "execution_count": 4,
      "outputs": [
        {
          "output_type": "stream",
          "name": "stdout",
          "text": [
            "Adivinhe o número que o computador pensou (1 a 10):  5\n",
            "\n",
            "\u001b[31mErrou!\n",
            "\u001b[0m😒\n",
            "Adivinhe o número que o computador pensou (1 a 10):  4\n",
            "\n",
            "\u001b[31mErrou!\n",
            "\u001b[0m😒\n",
            "Adivinhe o número que o computador pensou (1 a 10):  7\n",
            "\n",
            "\u001b[31mErrou!\n",
            "\u001b[0m😒\n",
            "Adivinhe o número que o computador pensou (1 a 10):  2\n",
            "\n",
            "\u001b[31mErrou!\n",
            "\u001b[0m😒\n",
            "Adivinhe o número que o computador pensou (1 a 10):  3\n",
            "\n",
            "\u001b[31mErrou!\n",
            "\u001b[0m😒\n",
            "Adivinhe o número que o computador pensou (1 a 10):  1\n",
            "\n",
            "\u001b[31mErrou!\n",
            "\u001b[0m😒\n",
            "Adivinhe o número que o computador pensou (1 a 10):  8\n",
            "\n",
            "\u001b[32mParabéns, você adivinhou com 7 palpite(s).\n",
            "\u001b[0m😄\n"
          ]
        }
      ]
    },
    {
      "cell_type": "code",
      "source": [
        "# DESAFIO 02\n",
        "\"\"\"\n",
        "Faça um programa onde o computador vai “pensar” em um número entre 1 a 10.\n",
        "O jogador vai tentar adivinhar até acertar, mostrando no final quantos\n",
        "palpites foram necessários para vencer.\n",
        "\"\"\"\n",
        "\n",
        "from google.colab import output\n",
        "from time import sleep\n",
        "from random import randint\n",
        "pc = randint(1,10)\n",
        "print(pc)\n",
        "while True:\n",
        "  num = int(input(\"Advinhe o numero: \"))\n",
        "  if pc == num:\n",
        "    print('Está correto!')\n",
        "    break\n",
        "  sleep(2)\n",
        "  output.clear()\n",
        "  if num > pc:\n",
        "    print('O número é menor! 👇')\n",
        "  else:\n",
        "    print(\"O número é maior! 👆 \")\n",
        "else:\n",
        "  print(\"Acabou ❌\")"
      ],
      "metadata": {
        "colab": {
          "base_uri": "https://localhost:8080/"
        },
        "id": "8lLp2t-UECLH",
        "outputId": "f3c5d5c0-887b-4122-94d9-d78cd97638a9"
      },
      "execution_count": 3,
      "outputs": [
        {
          "output_type": "stream",
          "name": "stdout",
          "text": [
            "O número é maior! 👆 \n",
            "Advinhe o numero: 61\n",
            "Está correto!\n"
          ]
        }
      ]
    },
    {
      "cell_type": "code",
      "source": [
        "# DESAFIO 03\n",
        "\"\"\"\n",
        "Crie um programa que leia dois valores e mostre um menu na tela:\n",
        "[1] Somar\n",
        "[2] Multiplicar\n",
        "[3] Maior\n",
        "[4] Novos Números\n",
        "[5] Sair do programa\n",
        "\n",
        "Seu programa deverá realizar a operação solicitada em cada caso.\n",
        "\"\"\"\n",
        "#############################################################################\n",
        "\n",
        "from google.colab import output\n",
        "\n",
        "\n",
        "while True:\n",
        "    print(\"\\n\\033[41m\", \" CALCULADORA SENAI \".center(50), \"\\033[0m\")\n",
        "    n1 = float(input(\"\\nDigite o 1º número: \"))\n",
        "    n2 = float(input(\"Digite o 2º número: \"))\n",
        "    op = input(\"\"\"\n",
        "\n",
        "\n",
        "ESCOLHA UMA OPÇÃO:\n",
        "\n",
        "\n",
        "[1] Somar\n",
        "[2] Multiplicar\n",
        "[3] Maior\n",
        "[4] Novos Números\n",
        "[5] Sair do programa\n",
        "\n",
        "\n",
        "\"\"\")\n",
        "    match op:\n",
        "        case '1':\n",
        "            output.clear()\n",
        "            print(f\"Soma: {n1} + {n2} = {n1+n2}\")\n",
        "        case '2':\n",
        "            output.clear()\n",
        "            print(f\"Multiplicação: {n1} x {n2} = {n1*n2}\")\n",
        "        case '3':\n",
        "            output.clear()\n",
        "            print(f\"Maior número: {max(n1, n2)}\")\n",
        "        case '4':\n",
        "            output.clear()\n",
        "            print(\"Escolha os novos números: \")\n",
        "            continue\n",
        "        case '5':\n",
        "            output.clear()\n",
        "            print(\"Saindo...\")\n",
        "            break\n",
        "        case _:\n",
        "            output.clear()\n",
        "            print(\"Algo de errado não está certo! 🤡\")"
      ],
      "metadata": {
        "id": "nczcDaoMEP5e"
      },
      "execution_count": null,
      "outputs": []
    },
    {
      "cell_type": "code",
      "source": [
        "# DESAFIO 04\n",
        "\"\"\"\n",
        "Crie um programa que leia vários números inteiros pelo teclado. O\n",
        "programa só vai parar quando o usuário digitar o valor 999, que é a\n",
        "condição de parada. No final, mostre quantos números foram\n",
        "digitados e qual foi a soma entre eles (desconsiderando o 999).\n",
        "\"\"\"\n",
        "\n",
        "cont = 0\n",
        "soma = 0\n",
        "while True:\n",
        "  n = int(input(\"Digite um nº (999 para sair): \"))\n",
        "  if n == 999:\n",
        "    print(\"FIM!\")\n",
        "    break\n",
        "  soma += n\n",
        "  cont += 1\n",
        "\n",
        "print(f'\\nVocê digitou {cont} números.')\n",
        "print(f'\\nA soma deles é: {soma}.')"
      ],
      "metadata": {
        "id": "Pm-O26MwETKG"
      },
      "execution_count": null,
      "outputs": []
    },
    {
      "cell_type": "code",
      "source": [
        "# DESAFIO 05\n",
        "\"\"\"\n",
        "Crie um programa que leia vários números inteiros pelo teclado. No\n",
        "final da execução, mostre a média entre todos os valores e qual foi o\n",
        "maior e o menor valores lidos. O programa deve perguntar ao usuário\n",
        "se ele quer ou não continuar a digitar valores\n",
        "*Novos métodos para maior e menor (max/min) exemplo:\n",
        "print(max(20, 4, 89, 2))\n",
        "print(min(20, 4, 89, 2))\n",
        "\"\"\"\n",
        "soma = 0\n",
        "qtd = 0\n",
        "maior = float('-inf')\n",
        "menor = float('inf')\n",
        "while True:\n",
        "  num = int(input(\"Digite um numero inteiro: \"))\n",
        "  soma += num\n",
        "  qtd += 1\n",
        "  maior = max(maior, num)\n",
        "  menor = min(menor, num)\n",
        "  continuar = input('Deseja continuar? (S/N): ').upper()\n",
        "  if continuar == 'N':\n",
        "    break\n",
        "\n",
        "print(f'\\nMédia {soma/qtd:,.1f} números.')\n",
        "print(f'\\nMaior {maior}')\n",
        "print(f'\\nMenor {menor}')"
      ],
      "metadata": {
        "colab": {
          "base_uri": "https://localhost:8080/"
        },
        "id": "OCirveQ_EVcl",
        "outputId": "28497dcf-4980-4f13-a40a-e4b9aca7f538"
      },
      "execution_count": 5,
      "outputs": [
        {
          "output_type": "stream",
          "name": "stdout",
          "text": [
            "Digite um numero inteiro: 2\n",
            "Deseja continuar? (S/N): n\n",
            "\n",
            "Média2.0 números.\n",
            "\n",
            "Maior2\n",
            "\n",
            "Menor 2\n"
          ]
        }
      ]
    },
    {
      "cell_type": "code",
      "source": [
        "# DESAFIO 06\n",
        "\"\"\"\n",
        "Escreva um programa que leia um número n inteiro qualquer e mostre\n",
        "na tela os n primeiros elementos de uma sequência de Fibonacci.\n",
        "Exemplo:\n",
        "\n",
        "\n",
        "0 –> 1 –> 1 –> 2 –> 3 –> 5 –> 8\n",
        "\"\"\"\n",
        "anterior = 0\n",
        "atual = 1\n",
        "fibo = 0\n",
        "i = 0\n",
        "num = int(input(\"Digite uma quantidade para sequência Fibonacci: \"))\n",
        "while i < num:\n",
        "    print(fibo, end=' ')\n",
        "    fibo=atual+anterior\n",
        "    anterior=atual\n",
        "    atual=fibo\n",
        "    i+=1"
      ],
      "metadata": {
        "id": "BA-4IvLZEX8u"
      },
      "execution_count": null,
      "outputs": []
    },
    {
      "cell_type": "code",
      "source": [
        "# DESAFIO 06 v2\n",
        "\n",
        "\n",
        "anterior = 0\n",
        "atual    = 1\n",
        "fibo     = 0\n",
        "i        = 1\n",
        "seqFibo  = '0 -> 1 '\n",
        "numero   = int(input(\"Digite uma quantidade para sequência Fibonacci: \"))\n",
        "while i <= numero-2:\n",
        "    fibo     = anterior+atual\n",
        "    seqFibo += f'-> {fibo} '\n",
        "    anterior = atual\n",
        "    atual    = fibo\n",
        "    i+=1\n",
        "\n",
        "\n",
        "print(seqFibo)"
      ],
      "metadata": {
        "id": "xL544-AsjWGm"
      },
      "execution_count": null,
      "outputs": []
    },
    {
      "cell_type": "markdown",
      "source": [
        "## Listas"
      ],
      "metadata": {
        "id": "37AU_sJooCAc"
      }
    },
    {
      "cell_type": "code",
      "source": [
        "# CRIAR LISTA VAZIA\n",
        "\n",
        "\n",
        "lista1 = []\n",
        "lista2 = list()\n",
        "\n",
        "\n",
        "print(type(lista1))\n",
        "print(type(lista2))\n"
      ],
      "metadata": {
        "id": "HONz83RAoAqe"
      },
      "execution_count": null,
      "outputs": []
    }
  ]
}