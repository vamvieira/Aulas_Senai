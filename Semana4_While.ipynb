{
  "nbformat": 4,
  "nbformat_minor": 0,
  "metadata": {
    "colab": {
      "provenance": [],
      "authorship_tag": "ABX9TyNhZYqFNkB5CoFXmwdMJxNk",
      "include_colab_link": true
    },
    "kernelspec": {
      "name": "python3",
      "display_name": "Python 3"
    },
    "language_info": {
      "name": "python"
    }
  },
  "cells": [
    {
      "cell_type": "markdown",
      "metadata": {
        "id": "view-in-github",
        "colab_type": "text"
      },
      "source": [
        "<a href=\"https://colab.research.google.com/github/vamvieira/Aulas_Senai/blob/main/Semana4_While.ipynb\" target=\"_parent\"><img src=\"https://colab.research.google.com/assets/colab-badge.svg\" alt=\"Open In Colab\"/></a>"
      ]
    },
    {
      "cell_type": "code",
      "execution_count": 1,
      "metadata": {
        "colab": {
          "base_uri": "https://localhost:8080/"
        },
        "id": "peSQmbCmYmMt",
        "outputId": "841eeb44-2217-4236-ffc4-b46d7233393c"
      },
      "outputs": [
        {
          "output_type": "stream",
          "name": "stdout",
          "text": [
            "1 2 3 4 5 6 7 8 9 10 "
          ]
        }
      ],
      "source": [
        "#Exemplo 1\n",
        "\n",
        "i = 1\n",
        "while i <= 10:\n",
        "  print(i, end=' ')\n",
        "  i += 1"
      ]
    },
    {
      "cell_type": "code",
      "source": [
        "i = 10\n",
        "while i >= 0:\n",
        "  print(i, end=' ')\n",
        "  i=i-1"
      ],
      "metadata": {
        "colab": {
          "base_uri": "https://localhost:8080/"
        },
        "id": "rCzn-10lY0sK",
        "outputId": "18600f69-0f66-4255-a2f4-b7e1ca03935e"
      },
      "execution_count": 3,
      "outputs": [
        {
          "output_type": "stream",
          "name": "stdout",
          "text": [
            "10 9 8 7 6 5 4 3 2 1 0 "
          ]
        }
      ]
    },
    {
      "cell_type": "code",
      "source": [
        "# EXEMPLO 03\n",
        "\n",
        "\n",
        "i=0\n",
        "while i < 5:\n",
        "    i+=1\n",
        "    if i == 3:\n",
        "        print(\"Pulando a iteração 3\")\n",
        "        continue\n",
        "    print(i)\n",
        "else:\n",
        "    print(\"Fim do loop.\")"
      ],
      "metadata": {
        "colab": {
          "base_uri": "https://localhost:8080/"
        },
        "id": "ZRhmTtvpaFJ5",
        "outputId": "ad8ae539-6656-47f5-941e-f003a5205799"
      },
      "execution_count": 4,
      "outputs": [
        {
          "output_type": "stream",
          "name": "stdout",
          "text": [
            "1\n",
            "2\n",
            "Pulando a iteração 3\n",
            "4\n",
            "5\n",
            "Fim do loop.\n"
          ]
        }
      ]
    },
    {
      "cell_type": "code",
      "source": [
        "# EXEMPLO 04\n",
        "\n",
        "\n",
        "while True:\n",
        "    r = input(\"Digite (S) para sair ou (C) para continuar\\n\")\n",
        "    if r.upper() == 'S':\n",
        "        print(\"Saindo do loop...\")\n",
        "        break\n",
        "    print(\"\\nContinuando...\\n\")"
      ],
      "metadata": {
        "colab": {
          "base_uri": "https://localhost:8080/"
        },
        "id": "CotpynXzdapJ",
        "outputId": "409ff9ef-9bc5-4f9a-80b5-6a69a569230d"
      },
      "execution_count": 5,
      "outputs": [
        {
          "output_type": "stream",
          "name": "stdout",
          "text": [
            "Digite (S) para sair ou (C) para continuar\n",
            "s\n",
            "Saindo do loop...\n"
          ]
        }
      ]
    },
    {
      "cell_type": "code",
      "source": [
        "# EXEMPLO 05\n",
        "\n",
        "\n",
        "while True:\n",
        "    r = input(\"Digite (S) para sair ou (C) para continuar\\n\").upper()\n",
        "    if r != 'S' and r != 'C':\n",
        "        print(\"\\nDeixa de besteira, só vale S e C! 👶\")\n",
        "        continue\n",
        "    if r == 'S':\n",
        "        print(\"Saindo do loop...\")\n",
        "        break\n",
        "    print(\"\\nContinuando...\\n\")"
      ],
      "metadata": {
        "colab": {
          "base_uri": "https://localhost:8080/"
        },
        "id": "YmUPt0I2dbGX",
        "outputId": "d818bdcf-9c83-41b0-ece7-d458200abd76"
      },
      "execution_count": 6,
      "outputs": [
        {
          "output_type": "stream",
          "name": "stdout",
          "text": [
            "Digite (S) para sair ou (C) para continuar\n",
            "c\n",
            "\n",
            "Continuando...\n",
            "\n",
            "Digite (S) para sair ou (C) para continuar\n",
            "a\n",
            "\n",
            "Deixa de besteira, só vale S e C! 👶\n",
            "Digite (S) para sair ou (C) para continuar\n",
            "s\n",
            "Saindo do loop...\n"
          ]
        }
      ]
    },
    {
      "cell_type": "code",
      "source": [
        "# EXEMPLO 06\n",
        "from google.colab import output\n",
        "import time\n",
        "\n",
        "\n",
        "while True:\n",
        "    time.sleep(3)\n",
        "    output.clear()\n",
        "    r = input(\"Digite (S) para sair ou (C) para continuar\\n\").upper()\n",
        "    if r != 'S' and r != 'C':\n",
        "        print(\"\\nDeixa de besteira, só vale S e C! 👶\")\n",
        "        continue\n",
        "    if r == 'S':\n",
        "        output.clear()\n",
        "        print(\"Saindo do loop...\")\n",
        "        break\n",
        "    print(\"\\nContinuando...\\n\")"
      ],
      "metadata": {
        "colab": {
          "base_uri": "https://localhost:8080/"
        },
        "id": "FSx6nGi1deRY",
        "outputId": "f83cd9ca-b9ba-4e91-9c89-8200d147673e"
      },
      "execution_count": 7,
      "outputs": [
        {
          "output_type": "stream",
          "name": "stdout",
          "text": [
            "Saindo do loop...\n"
          ]
        }
      ]
    },
    {
      "cell_type": "code",
      "source": [
        "# DESAFIO 01\n",
        "\"\"\"\n",
        "Faça um programa que leia o sexo de uma pessoa, mas só aceite os\n",
        "valores ‘M’ ou ‘F’. Caso esteja errado, peça a digitação novamente até\n",
        "ter um valor correto.\n",
        "\"\"\"\n",
        "\n",
        "while True:\n",
        "  sair = input(\"Informe seu sexo:\\n\").upper().strip()\n",
        "  if r != 'M' and r != 'F':\n",
        "    break\n",
        "    print(\"\\nDeixa de besteira, só vale S e C! 👶\")\n",
        "        continue\n",
        "    if r == 'S':\n",
        "        print(\"Saindo do loop...\")\n",
        "        break\n",
        "    print(\"\\nContinuando...\\n\")"
      ],
      "metadata": {
        "id": "yJIHzngVdhJ4"
      },
      "execution_count": null,
      "outputs": []
    }
  ]
}