{
  "nbformat": 4,
  "nbformat_minor": 0,
  "metadata": {
    "colab": {
      "provenance": [],
      "authorship_tag": "ABX9TyOaDwnsYAnuyagxYz3qIXZ2",
      "include_colab_link": true
    },
    "kernelspec": {
      "name": "python3",
      "display_name": "Python 3"
    },
    "language_info": {
      "name": "python"
    }
  },
  "cells": [
    {
      "cell_type": "markdown",
      "metadata": {
        "id": "view-in-github",
        "colab_type": "text"
      },
      "source": [
        "<a href=\"https://colab.research.google.com/github/vamvieira/Aulas_Senai/blob/main/Semana1.ipynb\" target=\"_parent\"><img src=\"https://colab.research.google.com/assets/colab-badge.svg\" alt=\"Open In Colab\"/></a>"
      ]
    },
    {
      "cell_type": "markdown",
      "source": [
        "# Aula 20/05"
      ],
      "metadata": {
        "id": "rbX-8CME5wKe"
      }
    },
    {
      "cell_type": "code",
      "source": [
        "print(\"Hello World\")"
      ],
      "metadata": {
        "colab": {
          "base_uri": "https://localhost:8080/"
        },
        "id": "2tK74tg24EM1",
        "outputId": "095cdb3f-826b-47dd-db1c-b5b3f7cf2704"
      },
      "execution_count": null,
      "outputs": [
        {
          "output_type": "stream",
          "name": "stdout",
          "text": [
            "Hello World\n"
          ]
        }
      ]
    },
    {
      "cell_type": "code",
      "source": [
        "def print_name(name):\n",
        "  print(\"Meu nome é \" + name + \"!\")\n",
        "\n",
        "print_name(\"Vitor\")"
      ],
      "metadata": {
        "colab": {
          "base_uri": "https://localhost:8080/"
        },
        "id": "Xh4R6uJd4HWN",
        "outputId": "da5f51a0-c753-4c56-8ab3-147614d238a2"
      },
      "execution_count": null,
      "outputs": [
        {
          "output_type": "stream",
          "name": "stdout",
          "text": [
            "Meu nome é Vitor!\n"
          ]
        }
      ]
    },
    {
      "cell_type": "code",
      "source": [
        "def print_name(name):\n",
        "    print(\"Hello, \" + name + \"!\")\n",
        "\n",
        "print_name(\"Vitor\")"
      ],
      "metadata": {
        "colab": {
          "base_uri": "https://localhost:8080/"
        },
        "id": "aih7qvdj4KTt",
        "outputId": "a3879a87-d093-427e-c6dc-66f60effc61e"
      },
      "execution_count": null,
      "outputs": [
        {
          "output_type": "stream",
          "name": "stdout",
          "text": [
            "Hello, Vitor!\n"
          ]
        }
      ]
    },
    {
      "cell_type": "markdown",
      "source": [
        "# Aula 21/05"
      ],
      "metadata": {
        "id": "qOII6PEj52tG"
      }
    },
    {
      "cell_type": "markdown",
      "source": [
        "###Algoritmo Simples: Lanche de Presunto e Queijo\n",
        "\n",
        "1.   Pegue 2 fatias de pão.\n",
        "2.   Coloque 1 fatia de queijo sobre uma fatia de pão.\n",
        "3.   Coloque 1 fatia de presunto sobre o queijo.\n",
        "4.   Feche com a outra fatia de pão.\n",
        "5.   Sirva."
      ],
      "metadata": {
        "id": "WiYv0wReDXJP"
      }
    },
    {
      "cell_type": "code",
      "source": [
        "print(\"1. Pegue 2 fatias de pão.\")\n",
        "print(\"2. Coloque 1 fatia de queijo sobre uma fatia de pão.\")\n",
        "print(\"3. Coloque 1 fatia de presunto sobre o queijo.\")\n",
        "print(\"4. Feche com a outra fatia de pão.\")\n",
        "print(\"5. Sirva.\")"
      ],
      "metadata": {
        "colab": {
          "base_uri": "https://localhost:8080/"
        },
        "id": "iKz-9daR46ct",
        "outputId": "38add572-ec80-4533-d13b-1a7a271ad9db"
      },
      "execution_count": null,
      "outputs": [
        {
          "output_type": "stream",
          "name": "stdout",
          "text": [
            "1. Pegue 2 fatias de pão.\n",
            "2. Coloque 1 fatia de queijo sobre uma fatia de pão.\n",
            "3. Coloque 1 fatia de presunto sobre o queijo.\n",
            "4. Feche com a outra fatia de pão.\n",
            "5. Sirva.\n"
          ]
        }
      ]
    },
    {
      "cell_type": "markdown",
      "source": [
        "Abstração Lógica: Cafeteira\n",
        "\n",
        "1. Reservatório de Água: Armazena a água que será aquecida para o café.\n",
        "\n",
        "2. Sistema de Aquecimento: Aquece a água do reservatório.\n",
        "\n",
        "3. Sensor de Temperatura: Monitora a temperatura da água e desliga o aquecedor.\n",
        "\n",
        "4. Bomba d'Água: Move a água do reservatório até o filtro.\n",
        "\n",
        "5. Porta-filtro: Filtra a água quente.\n",
        "\n",
        "6. Jarra: Recebe o café líquido filtrado.\n",
        "\n",
        "7. Placa de Aquecimento: Mantém o café quente após o preparo.\n",
        "\n",
        "8. Fonte de Energia: Alimenta todos os componentes elétricos."
      ],
      "metadata": {
        "id": "lKLGYPjGNJIL"
      }
    },
    {
      "cell_type": "markdown",
      "source": [
        "# Desafio Barril d'água\n",
        "##Como fazer para deixar os barris A e B com 4L cada e o C vazio?\n",
        "\n",
        "1. Retirar toda água (3L) do barril C e colocar no A.\n",
        "\n",
        "2. Retirar apenas 1L do barril B e colocar no barril A."
      ],
      "metadata": {
        "id": "-wl210ckZw6y"
      }
    },
    {
      "cell_type": "code",
      "source": [
        "# DESAFIO TROCA DE VARIÁVEIS\n",
        "\n",
        "# Adquirindo uma nova variavél\n",
        "a = 5\n",
        "b = 2\n",
        "c = 0\n",
        "\n",
        "d = a\n",
        "a = b\n",
        "b = d\n",
        "\n",
        "d = b\n",
        "b = c\n",
        "c = d\n",
        "\n",
        "print(a, b, c)\n",
        "\n",
        "# SIMPLIFICADO da aula\n",
        "\n",
        "c = a\n",
        "a = b\n",
        "b = c"
      ],
      "metadata": {
        "colab": {
          "base_uri": "https://localhost:8080/"
        },
        "id": "Y3AL42xlDtj5",
        "outputId": "16796202-79fc-48a5-f057-fb93d51a035a"
      },
      "execution_count": null,
      "outputs": [
        {
          "output_type": "stream",
          "name": "stdout",
          "text": [
            "2 0 5\n"
          ]
        }
      ]
    },
    {
      "cell_type": "code",
      "source": [
        "# Troca silmultânea\n",
        "a = 5\n",
        "b = 2\n",
        "c = 0\n",
        "\n",
        "a,b = b, a\n",
        "\n",
        "print(a,b)"
      ],
      "metadata": {
        "colab": {
          "base_uri": "https://localhost:8080/"
        },
        "id": "mnpzW5LFFVp6",
        "outputId": "2c0805af-a147-4072-deec-26f67493f88e"
      },
      "execution_count": null,
      "outputs": [
        {
          "output_type": "stream",
          "name": "stdout",
          "text": [
            "2 5\n"
          ]
        }
      ]
    },
    {
      "cell_type": "code",
      "source": [
        "# Atribuição de variavél em uma linha\n",
        "\n",
        "nome, idade, sexo = 'Vitor', 25, 'Masc'\n",
        "\n",
        "print('Nome:', nome)\n",
        "print('Idade:', idade)\n",
        "print('Sexo:', sexo)"
      ],
      "metadata": {
        "colab": {
          "base_uri": "https://localhost:8080/"
        },
        "id": "tzelQOkvLj0q",
        "outputId": "110a5d56-c33d-4991-be18-0b855eb0064b"
      },
      "execution_count": null,
      "outputs": [
        {
          "output_type": "stream",
          "name": "stdout",
          "text": [
            "Nome: Vitor\n",
            "Idade: 25\n",
            "Sexo: Masc\n"
          ]
        }
      ]
    },
    {
      "cell_type": "code",
      "source": [
        "a, b, c = 10, 5, (a + b)\n",
        "print(a,b, c)"
      ],
      "metadata": {
        "colab": {
          "base_uri": "https://localhost:8080/"
        },
        "id": "2K3h5PDXNPj6",
        "outputId": "0a96c409-beb6-407a-d408-3cc16982dbf2"
      },
      "execution_count": null,
      "outputs": [
        {
          "output_type": "stream",
          "name": "stdout",
          "text": [
            "10 5 15\n"
          ]
        }
      ]
    },
    {
      "cell_type": "code",
      "source": [
        "x, y, z = 2, 3, ((x*y)+y)\n",
        "print(z)"
      ],
      "metadata": {
        "colab": {
          "base_uri": "https://localhost:8080/"
        },
        "id": "tJSSrMwDOxDJ",
        "outputId": "11c7befe-6e95-4bcd-e52c-6de5dde0fa62"
      },
      "execution_count": null,
      "outputs": [
        {
          "output_type": "stream",
          "name": "stdout",
          "text": [
            "9\n"
          ]
        }
      ]
    },
    {
      "cell_type": "code",
      "source": [
        "def validador_nota():\n",
        "    nota1 = float(input(\"Digite a 1ª nota: \"))\n",
        "    nota2 = float(input(\"Digite a 2ª nota: \"))\n",
        "    media = (nota1 + nota2)/2\n",
        "\n",
        "    if media >= 5:\n",
        "        print(\"Aprovado\")\n",
        "    else:\n",
        "        print(\"Reprovado\")\n",
        "\n",
        "validador_nota()"
      ],
      "metadata": {
        "id": "zOW6VO6tSXUJ",
        "colab": {
          "base_uri": "https://localhost:8080/"
        },
        "outputId": "c701e249-9280-45dd-c0cd-b9f3abe8b6c6"
      },
      "execution_count": null,
      "outputs": [
        {
          "output_type": "stream",
          "name": "stdout",
          "text": [
            "Digite a 1ª nota: 7\n",
            "Digite a 2ª nota: 7\n",
            "Aprovado\n"
          ]
        }
      ]
    },
    {
      "cell_type": "code",
      "source": [
        "nota1= 0\n",
        "nota2= 0\n",
        "media= 0\n",
        "\n",
        "nota1 = float(input(\"Digite a 1ª nota: \"))\n",
        "nota2 = float(input(\"Digite a 2ª nota: \"))\n",
        "media = (nota1 + nota2)/2\n",
        "\n",
        "if media >= 5:\n",
        "    print(\"Aprovado\")\n",
        "else:\n",
        "    print(\"Reprovado\")"
      ],
      "metadata": {
        "colab": {
          "base_uri": "https://localhost:8080/"
        },
        "id": "RKO4ZU5hhhCL",
        "outputId": "0f642a7c-6779-4282-e1ca-5bd1ef5d81f0"
      },
      "execution_count": null,
      "outputs": [
        {
          "output_type": "stream",
          "name": "stdout",
          "text": [
            "Digite a 1ª nota: 4\n",
            "Digite a 2ª nota: 3\n",
            "Reprovado\n"
          ]
        }
      ]
    },
    {
      "cell_type": "code",
      "source": [
        "# Operadores aritméticos\n",
        "\n",
        "\n",
        "a = 10\n",
        "b = 3\n",
        "\n",
        "\n",
        "print(a +  b)     # 13      (adição)\n",
        "print(a -  b)     # 7       (subtração)\n",
        "print(a *  b)     # 30      (multiplicação)\n",
        "print(a /  b)     # 3.3333  (divisão)\n",
        "print(a // b)     # 3       (divisão inteira)\n",
        "print(a %  b)     # 1       (módulo/resto da divisão)\n",
        "print(a ** b)     # 1000    (exponenciação)\n",
        "print(a ** (1/b)) # 2.14    (radiciação)"
      ],
      "metadata": {
        "id": "NTjmHvKniMe6"
      },
      "execution_count": null,
      "outputs": []
    },
    {
      "cell_type": "markdown",
      "source": [
        "#Aula 23/05"
      ],
      "metadata": {
        "id": "xhFJtL6cTNZ8"
      }
    },
    {
      "cell_type": "code",
      "source": [
        "# Operadores relacionais ou de comparação\n",
        "\n",
        "\n",
        "a = 10\n",
        "b = 3\n",
        "\n",
        "\n",
        "print(a == b)  # False  Igual\n",
        "print(a != b)  # True   Diferente\n",
        "print(a >  b)  # True   Maior\n",
        "print(a <  b)  # False  Menor\n",
        "print(a >= b)  # True   Maior ou igual\n",
        "print(a <= b)  # False  Menor ou igual"
      ],
      "metadata": {
        "id": "Eqv4I32Nl8Sa"
      },
      "execution_count": null,
      "outputs": []
    },
    {
      "cell_type": "code",
      "source": [
        "# Operadores lógicos\n",
        "\n",
        "a = True\n",
        "b =  False\n",
        "\n",
        "print(a and b)  # False\n",
        "print(a or b)   # True\n",
        "print(not a)    # False"
      ],
      "metadata": {
        "colab": {
          "base_uri": "https://localhost:8080/"
        },
        "id": "Dh8lwGLXOJld",
        "outputId": "e84917e9-d810-483a-e4fe-331f21c606c4"
      },
      "execution_count": null,
      "outputs": [
        {
          "output_type": "stream",
          "name": "stdout",
          "text": [
            "False\n",
            "True\n",
            "False\n"
          ]
        }
      ]
    },
    {
      "cell_type": "code",
      "source": [
        "# Operadores de atribuição\n",
        "\n",
        "\n",
        "a = 10\n",
        "a += 2  # a = a + 2\n",
        "print(a) # 12\n",
        "\n",
        "\n",
        "b = 10\n",
        "b -= 2  # b = b - 2\n",
        "print(b) # 8\n",
        "\n",
        "\n",
        "c = 10\n",
        "c *= c  # c = c * c\n",
        "print(c) # 100\n",
        "\n",
        "\n",
        "d = 10\n",
        "d /= 2 # d = d / 2\n",
        "print(d) # 5.0\n",
        "\n",
        "\n",
        "d = 10\n",
        "d **= 2 # d = d ** 2\n",
        "print(d) # 100\n",
        "\n",
        "\n",
        "d = 10\n",
        "d //= 2\n",
        "print(d)\n",
        "\n",
        "\n",
        "d = 10\n",
        "d %= 2\n",
        "print(d) # 5.0\n"
      ],
      "metadata": {
        "colab": {
          "base_uri": "https://localhost:8080/"
        },
        "id": "ZMZjEWl9OOJv",
        "outputId": "bf23c9ac-b72d-4a4a-9f45-4071b85336a5"
      },
      "execution_count": null,
      "outputs": [
        {
          "output_type": "stream",
          "name": "stdout",
          "text": [
            "12\n",
            "8\n",
            "100\n",
            "5.0\n",
            "100\n",
            "5\n",
            "0\n"
          ]
        }
      ]
    },
    {
      "cell_type": "code",
      "source": [
        "# EXPRESSÕES\n",
        "\"\"\"\n",
        "1) PARÊNTESES\n",
        "2) POTÊNCIA E RAIZ\n",
        "3) MULTIPLICAÇÃO E DIVISÃO\n",
        "4) ADIÇÃO E SUBTRAÇÃO\n",
        "\"\"\"\n",
        "print(2+2*5**2)\n",
        "print((2+2)*5**2)\n",
        "print(((2+2)*5)**2)\n"
      ],
      "metadata": {
        "colab": {
          "base_uri": "https://localhost:8080/"
        },
        "id": "YTC6-_KURKnu",
        "outputId": "34a1113a-ba7d-4e64-d35f-71ccb7a89541"
      },
      "execution_count": null,
      "outputs": [
        {
          "output_type": "stream",
          "name": "stdout",
          "text": [
            "52\n",
            "100\n",
            "400\n"
          ]
        }
      ]
    },
    {
      "cell_type": "code",
      "source": [
        "#REFATORAÇÃO DE CÓDIGO\n",
        "\n",
        "#ORIGINAL\n",
        "a = 10\n",
        "b = 20\n",
        "c = a+b\n",
        "print('original', c)\n",
        "\n",
        "#Refatorado\n",
        "def soma(x,y):\n",
        "    return x+y\n",
        "\n",
        "print('Refatorado', soma(45,48))\n"
      ],
      "metadata": {
        "colab": {
          "base_uri": "https://localhost:8080/"
        },
        "id": "AWt_v6kuRLIt",
        "outputId": "6122bc21-74f3-4d12-f692-1e9c7325e9a1"
      },
      "execution_count": null,
      "outputs": [
        {
          "output_type": "stream",
          "name": "stdout",
          "text": [
            "original 30\n",
            "Refatorado 93\n"
          ]
        }
      ]
    },
    {
      "cell_type": "code",
      "source": [],
      "metadata": {
        "id": "iEy_QjUwVeZ_"
      },
      "execution_count": null,
      "outputs": []
    }
  ]
}