{
  "nbformat": 4,
  "nbformat_minor": 0,
  "metadata": {
    "colab": {
      "provenance": [],
      "authorship_tag": "ABX9TyOzoR90UJ5so58tmKdvfFmR",
      "include_colab_link": true
    },
    "kernelspec": {
      "name": "python3",
      "display_name": "Python 3"
    },
    "language_info": {
      "name": "python"
    }
  },
  "cells": [
    {
      "cell_type": "markdown",
      "metadata": {
        "id": "view-in-github",
        "colab_type": "text"
      },
      "source": [
        "<a href=\"https://colab.research.google.com/github/vamvieira/Aulas_Senai/blob/main/Listas_Python.ipynb\" target=\"_parent\"><img src=\"https://colab.research.google.com/assets/colab-badge.svg\" alt=\"Open In Colab\"/></a>"
      ]
    },
    {
      "cell_type": "code",
      "source": [
        "# CRIAR LISTA VAZIA\n",
        "\n",
        "\n",
        "lista1 = []\n",
        "lista2 = list()\n",
        "\n",
        "\n",
        "print(type(lista1))\n",
        "print(type(lista2))"
      ],
      "metadata": {
        "colab": {
          "base_uri": "https://localhost:8080/"
        },
        "id": "4JdcxHu1NnD0",
        "outputId": "03314d5d-c440-4ee9-ed0a-a12078a131ca"
      },
      "execution_count": 1,
      "outputs": [
        {
          "output_type": "stream",
          "name": "stdout",
          "text": [
            "<class 'list'>\n",
            "<class 'list'>\n"
          ]
        }
      ]
    },
    {
      "cell_type": "code",
      "source": [
        "# MANIPULAÇÃO DE LISTAS\n",
        "\n",
        "\n",
        "bancos = ['Banco do Brasil', 'CEF', 'Santander']\n",
        "print(bancos)\n",
        "print(bancos[1])\n",
        "\n",
        "\n",
        "# SUBSTITUIR ITEM DA LISTA\n",
        "bancos[1] = 'Itaú'\n",
        "print(bancos)\n",
        "\n",
        "\n",
        "# SUBSTITUIR ÚLTIMO ITEM DA LISTA\n",
        "bancos[-1] = 'C6'\n",
        "print(bancos)\n",
        "\n",
        "\n",
        "# AGREGAR ITENS A LISTA\n",
        "bancos = bancos + ['Safra']\n",
        "print(bancos)\n",
        "\n",
        "\n",
        "# AGREGAR ITENS A LISTA (Operador de atribuição)\n",
        "bancos += ['Bradesco', 'Nubank']\n",
        "print(bancos)"
      ],
      "metadata": {
        "colab": {
          "base_uri": "https://localhost:8080/"
        },
        "id": "D2xHmqwCNkv0",
        "outputId": "51341930-1f29-4d71-ab67-1eba52d09515"
      },
      "execution_count": 2,
      "outputs": [
        {
          "output_type": "stream",
          "name": "stdout",
          "text": [
            "['Banco do Brasil', 'CEF', 'Santander']\n",
            "CEF\n",
            "['Banco do Brasil', 'Itaú', 'Santander']\n",
            "['Banco do Brasil', 'Itaú', 'C6']\n",
            "['Banco do Brasil', 'Itaú', 'C6', 'Safra']\n",
            "['Banco do Brasil', 'Itaú', 'C6', 'Safra', 'Bradesco', 'Nubank']\n"
          ]
        }
      ]
    },
    {
      "cell_type": "code",
      "execution_count": 3,
      "metadata": {
        "colab": {
          "base_uri": "https://localhost:8080/"
        },
        "id": "-9yBeO6RNgsD",
        "outputId": "ae8acee2-0c52-47f4-d8d4-672cc992e57e"
      },
      "outputs": [
        {
          "output_type": "stream",
          "name": "stdout",
          "text": [
            "[4, 5, 3, 5]\n",
            "[4, 5, 3, 5, 2]\n",
            "[4, 5, -3, 3, 5, 2]\n",
            "2\n",
            "6\n",
            "1\n",
            "[2, 5, 3, -3, 5, 4]\n",
            "[-3, 2, 3, 4, 5, 5]\n",
            "[-3, 2, 3, 4, 5]\n",
            "5\n",
            "[-3, 2, 3, 4]\n",
            "[-3, 4]\n",
            "[]\n"
          ]
        }
      ],
      "source": [
        "# MÉTODOS PARA LISTAS\n",
        "\n",
        "\n",
        "lista = [4, 5, 3, 5]\n",
        "print(lista)\n",
        "\n",
        "\n",
        "# ADICIONAR ITENS A LISTA\n",
        "lista.append(2)\n",
        "print(lista)\n",
        "\n",
        "\n",
        "# ADICIONAR VALOR NO ÍNDICE ESPECÍFICO\n",
        "lista.insert(2, -3)\n",
        "print(lista)\n",
        "\n",
        "\n",
        "# CONTAR VALORES\n",
        "print(lista.count(5))\n",
        "\n",
        "\n",
        "# VERIFICAR TAMANHO DA LISTA\n",
        "print(len(lista))\n",
        "\n",
        "\n",
        "# OBTER ÍNDICE DO ITEM DA LISTA\n",
        "print(lista.index(5))\n",
        "\n",
        "\n",
        "# REVERTER ITENS DA LISTA\n",
        "lista.reverse() # Não atribuir a uma variável\n",
        "print(lista)\n",
        "\n",
        "\n",
        "# ORDENAR A LISTA\n",
        "lista.sort() # Não atribuir a uma variável\n",
        "print(lista)\n",
        "\n",
        "\n",
        "# REMOVER ITEM ATRAVÉS DO VALOR\n",
        "lista.remove(5)\n",
        "print(lista)\n",
        "\n",
        "\n",
        "# REMOVER ÚLTIMO ITEM DA LISTA (recebe valor removido)\n",
        "removeu = lista.pop()\n",
        "print(removeu)\n",
        "print(lista)\n",
        "\n",
        "\n",
        "# REMOVER INTERVALO OU ÍNDICE\n",
        "del lista[1:3]\n",
        "print(lista)\n",
        "\n",
        "\n",
        "# LIMPAR LISTA\n",
        "lista.clear()\n",
        "print(lista)"
      ]
    },
    {
      "cell_type": "code",
      "source": [
        "# LISTA DENTRO DE LISTA\n",
        "\n",
        "\n",
        "compras = [10.2, 3.35, 16.3, ['Tomate', 'Cebola', 'Pimentão']]\n",
        "print(compras)\n",
        "print(compras[3])\n",
        "\n"
      ],
      "metadata": {
        "colab": {
          "base_uri": "https://localhost:8080/"
        },
        "id": "lU017zGjNos7",
        "outputId": "1c383779-dbd6-4481-dfbd-b5a60ce736e0"
      },
      "execution_count": 46,
      "outputs": [
        {
          "output_type": "stream",
          "name": "stdout",
          "text": [
            "[10.2, 3.35, 16.3, ['Tomate', 'Cebola', 'Pimentão']]\n",
            "['Tomate', 'Cebola', 'Pimentão']\n"
          ]
        }
      ]
    },
    {
      "cell_type": "code",
      "source": [
        "print(compras[3][1])"
      ],
      "metadata": {
        "colab": {
          "base_uri": "https://localhost:8080/"
        },
        "id": "18A7DeaSRt63",
        "outputId": "f521e323-b127-40e3-9db9-2e536d9e637f"
      },
      "execution_count": 47,
      "outputs": [
        {
          "output_type": "stream",
          "name": "stdout",
          "text": [
            "Cebola\n"
          ]
        }
      ]
    },
    {
      "cell_type": "code",
      "source": [
        "print(f'O {compras[3][0]} custa R${compras[0]:,.2f}'\n",
        "      f'\\nA {compras[3][1]} custa R${compras[1]:,.2f}'\n",
        "      f'\\nO {compras[3][2]} custa R${compras[2]:,.2f}')\n",
        "#print(f'A soma total é: {list, compras.sum([0][1][2])}')\n",
        "print(f'A soma total é: {compras[0]+compras[1]+compras[2]:,.2f}')\n"
      ],
      "metadata": {
        "colab": {
          "base_uri": "https://localhost:8080/"
        },
        "id": "GFhQwlepSEA1",
        "outputId": "60f39666-f3e9-44f9-e601-d8a8bebdf7a3"
      },
      "execution_count": 99,
      "outputs": [
        {
          "output_type": "stream",
          "name": "stdout",
          "text": [
            "O Tomate custa R$10.20\n",
            "A Cebola custa R$3.35\n",
            "O Pimentão custa R$16.30 \n",
            "A soma total é: 29.85\n"
          ]
        }
      ]
    },
    {
      "cell_type": "code",
      "source": [
        "#Do professor\n",
        "# EXEMPLO\n",
        "\n",
        "\n",
        "compras = [10.2, 3.35, 16.3, ['Tomate', 'Cebola', 'Pimentão']]\n",
        "\n",
        "\n",
        "print(f\"O {compras[3][0]} custa R$ {compras[0]:,.2f}\")\n",
        "print(f\"A {compras[3][1]} custa R$ {compras[1]:,.2f}\")\n",
        "print(f\"O {compras[3][2]} custa R$ {compras[2]:,.2f}\")\n",
        "\n",
        "\n",
        "print(f\"\\nTotal R$ {compras[0]+compras[1]+compras[2]:,.2f}\")"
      ],
      "metadata": {
        "colab": {
          "base_uri": "https://localhost:8080/"
        },
        "id": "m5nQLxnRZ7Rf",
        "outputId": "22533367-f799-4ff2-8d63-972fd142ea26"
      },
      "execution_count": 101,
      "outputs": [
        {
          "output_type": "stream",
          "name": "stdout",
          "text": [
            "O Tomate custa R$ 10.20\n",
            "A Cebola custa R$ 3.35\n",
            "O Pimentão custa R$ 16.30\n",
            "\n",
            "Total R$ 29.85\n"
          ]
        }
      ]
    },
    {
      "cell_type": "code",
      "source": [
        "print(compras[3][0],compras[0])\n",
        "print(compras[3][1],compras[1])\n",
        "print(compras[3][2],compras[2])"
      ],
      "metadata": {
        "id": "6AQ9iRL1UEtl"
      },
      "execution_count": null,
      "outputs": []
    },
    {
      "cell_type": "code",
      "source": [
        "# PERCORRER UMA LISTA\n",
        "\n",
        "\n",
        "roupas = ['Camiseta', 'Bermuda', 'Calça', 'Meia']\n",
        "for peca in roupas:\n",
        "    print(peca)"
      ],
      "metadata": {
        "colab": {
          "base_uri": "https://localhost:8080/"
        },
        "id": "yhlC6N9ZV-Dm",
        "outputId": "b1c65cf1-c082-4c96-916b-736871bb01de"
      },
      "execution_count": 100,
      "outputs": [
        {
          "output_type": "stream",
          "name": "stdout",
          "text": [
            "Camiseta\n",
            "Bermuda\n",
            "Calça\n",
            "Meia\n"
          ]
        }
      ]
    },
    {
      "cell_type": "code",
      "source": [
        "# PERCORRER UMA LISTA ATRAVÉS DO ÍNDICE\n",
        "\n",
        "\n",
        "roupas = ['Camiseta', 'Bermuda', 'Calça', 'Meia']\n",
        "for i in range(len(roupas)):\n",
        "    print(i+1, roupas[i])"
      ],
      "metadata": {
        "colab": {
          "base_uri": "https://localhost:8080/"
        },
        "id": "FKSi-LypZ4VW",
        "outputId": "26801bc9-5125-4bca-821b-743fee1c3ae1"
      },
      "execution_count": 102,
      "outputs": [
        {
          "output_type": "stream",
          "name": "stdout",
          "text": [
            "1 Camiseta\n",
            "2 Bermuda\n",
            "3 Calça\n",
            "4 Meia\n"
          ]
        }
      ]
    },
    {
      "cell_type": "code",
      "source": [
        "# PERCORRER UMA LISTA COM ÍNDICE E VALOR\n",
        "\n",
        "\n",
        "roupas = ['Camiseta', 'Bermuda', 'Calça', 'Meia']\n",
        "for i, peca in enumerate(roupas):\n",
        "    print(i+1, peca)"
      ],
      "metadata": {
        "colab": {
          "base_uri": "https://localhost:8080/"
        },
        "id": "MZgV-DGPab7l",
        "outputId": "d9a03f58-eb05-4216-dea6-968954d64aa2"
      },
      "execution_count": 103,
      "outputs": [
        {
          "output_type": "stream",
          "name": "stdout",
          "text": [
            "1 Camiseta\n",
            "2 Bermuda\n",
            "3 Calça\n",
            "4 Meia\n"
          ]
        }
      ]
    },
    {
      "cell_type": "code",
      "source": [
        "# VERIFICAR SE UMA LISTA POSSUI ITENS\n",
        "\n",
        "\n",
        "letras = ['a', 'b', 'c', 'd', 'e', 'f']\n",
        "letra = input(\"Digite a letra: \").lower()\n",
        "\n",
        "\n",
        "if letra in letras:\n",
        "    print(\"\\033[32mEstá\")\n",
        "else:\n",
        "    print(\"\\033[31mNão está\")"
      ],
      "metadata": {
        "colab": {
          "base_uri": "https://localhost:8080/"
        },
        "id": "2J-c6_3EcObH",
        "outputId": "2ac674bf-8aa3-49b1-bb23-833b42e7ca4a"
      },
      "execution_count": 104,
      "outputs": [
        {
          "output_type": "stream",
          "name": "stdout",
          "text": [
            "Digite a letra: g\n",
            "\u001b[31mNão está\n"
          ]
        }
      ]
    },
    {
      "cell_type": "code",
      "source": [
        "# VERIFICAR SE UMA LISTA NÃO POSSUI ITENS\n",
        "\n",
        "\n",
        "letras = ['a', 'b', 'c', 'd', 'e', 'f']\n",
        "letra = input(\"Digite a letra: \").lower()\n",
        "\n",
        "\n",
        "if letra not in letras:\n",
        "    print(\"\\033[31mNão está\")\n",
        "else:\n",
        "    print(\"\\033[32mEstá\")"
      ],
      "metadata": {
        "colab": {
          "base_uri": "https://localhost:8080/"
        },
        "id": "4yq0-oMEd-xm",
        "outputId": "3dc34dc5-f2c2-4d28-b6cf-b3f70427ab06"
      },
      "execution_count": 105,
      "outputs": [
        {
          "output_type": "stream",
          "name": "stdout",
          "text": [
            "Digite a letra: b\n",
            "\u001b[32mEstá\n"
          ]
        }
      ]
    },
    {
      "cell_type": "code",
      "source": [
        "#################### DESAFIOS ###################\n",
        "\n",
        "# DESAFIO 01\n",
        "\"\"\"\n",
        "Faça um programa que leia 5 valores numéricos e\n",
        "guarde-os em uma lista. No final, mostre qual foi\n",
        "o maior e o menor valor digitado e as suas respectivas posições na lista.\n",
        "\"\"\"\n",
        "\n",
        "lista_num = []\n",
        "for i in range(1, 6):\n",
        "  num = int(input(f'Digite o {i}º número:'))\n",
        "  lista_num.append(num)\n",
        "\n",
        "print(f'\\nMaior nº {max(lista_num)} na posição {lista_num(max(lista_num))+1}')"
      ],
      "metadata": {
        "colab": {
          "base_uri": "https://localhost:8080/"
        },
        "id": "hpTbFpo8eAG2",
        "outputId": "9e3628c9-f998-4ec7-8b60-b51f4c05271c"
      },
      "execution_count": 129,
      "outputs": [
        {
          "name": "stdout",
          "output_type": "stream",
          "text": [
            "Digite o 1º número:1\n",
            "Digite o 2º número:2\n",
            "Digite o 3º número:3\n",
            "Digite o 4º número:4\n",
            "Digite o 5º número:5\n"
          ]
        }
      ]
    },
    {
      "cell_type": "code",
      "source": [
        "# DESAFIO 02\n",
        "\"\"\"\n",
        "Crie um programa onde o usuário possa digitar vários valores\n",
        "numéricos e cadastre-os em uma lista. Caso o número já exista\n",
        "lá dentro, ele não será adicionado. No final serão exibidos\n",
        "todos os valores únicos digitados, em ordem crescente.\n",
        "\"\"\"\n"
      ],
      "metadata": {
        "id": "5b0y0lWboEXI"
      },
      "execution_count": null,
      "outputs": []
    },
    {
      "cell_type": "code",
      "source": [
        "# DESAFIO 03\n",
        "\"\"\"\n",
        "Crie um programa que vai ler vários números e colocar em uma lista.\n",
        "Depois disso, mostre:\n",
        "A) Quantos números foram digitados.\n",
        "B) A lista de valores, ordenada de forma decrescente.\n",
        "C) Se o valor 5 foi digitado e está ou não na lista.\n",
        "\"\"\"\n"
      ],
      "metadata": {
        "id": "l7OR9Hnbw60B"
      },
      "execution_count": null,
      "outputs": []
    },
    {
      "cell_type": "code",
      "source": [
        "# DESAFIO 04\n",
        "\"\"\"\n",
        "Crie um programa que vai ler vários números e colocar em uma lista.\n",
        "Depois disso, crie duas listas extras que vão conter apenas os\n",
        "valores pares e os valores ímpares digitados, respectivamente.\n",
        "Ao final, mostre o conteúdo das três listas geradas.\n",
        "\"\"\"\n"
      ],
      "metadata": {
        "id": "WJ8uiobhw79h"
      },
      "execution_count": null,
      "outputs": []
    },
    {
      "cell_type": "code",
      "source": [
        "# DESAFIO 05 BÔNUS\n",
        "\"\"\"\n",
        "Crie um programa onde o usuário possa digitar cinco valores numéricos e cadastre-os em uma lista,\n",
        "coloque a lista em ordem sem usar o método sort().\n",
        "No final mostre a lista ordenada na tela.\n",
        "DICA: Atribuição simultânea de variáveis -> a, b = b, a\n",
        "\"\"\"\n"
      ],
      "metadata": {
        "id": "uawVqRKZw97R"
      },
      "execution_count": null,
      "outputs": []
    },
    {
      "cell_type": "code",
      "source": [
        "# DESAFIO 06 BÔNUS\n",
        "\"\"\"\n",
        "Dada a lista abaixo, contendo 3 vetores em cada um de seus elementos, iterar por todos os seus elementos,\n",
        "calculando a soma de todos os elementos presentes na lista.\n",
        "\n",
        "\n",
        "lista_matrizes = [\n",
        "    [[1, 2, 3], [4, 5, 6], [7, 8, 9]],\n",
        "    [[10, 11, 12], [13, 14, 15], [16, 17, 18]],\n",
        "    [[19, 20, 21], [22, 23, 24], [25, 26, 27]]\n",
        "]\n",
        "Resultado esperado: 378\n",
        "\"\"\"\n"
      ],
      "metadata": {
        "id": "5MY4NQT-w-Hp"
      },
      "execution_count": null,
      "outputs": []
    },
    {
      "cell_type": "code",
      "source": [
        "# DESAFIO 07 BÔNUS\n",
        "\"\"\"\n",
        "Dada a lista com 32 Times, faça o sorteio para outras duas listas (A e B).\n",
        "Ao final, cada nova lista deve conter 16 times.\n",
        "random.choice(times)\n",
        "\"\"\"\n",
        "import random\n",
        "times=[\"Flamengo\", \"Palmeiras\", \"São Paulo\", \"Athletico-PR\", \"Atlético-MG\" ,\"Corinthians\" ,\"Fluminense\", \"Grêmio\", \"Fortaleza\", \"Internacional\", \"Bahia\", \"Botafogo\", \"Red Bull Bragantino\", \"Atlético-GO\", \"Ceará\", \"Cuiabá\",\n",
        "        'Goiás', 'Vasco', 'Juventude', 'Sport', 'CRB', 'Vitória', 'Criciúma', 'Sampaio Corrêa' ,'Operário-PR' ,'Botafogo-SP', 'Brusque', 'Ypiranga-RS', 'América-RN', 'Amazonas', 'Águia de Marabá', 'Sousa-PB']\n"
      ],
      "metadata": {
        "id": "tO_Q2kX1w-ZB"
      },
      "execution_count": null,
      "outputs": []
    }
  ]
}