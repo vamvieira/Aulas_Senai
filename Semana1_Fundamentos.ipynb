{
  "nbformat": 4,
  "nbformat_minor": 0,
  "metadata": {
    "colab": {
      "provenance": [],
      "authorship_tag": "ABX9TyPHg7bteOMCk+v6h2UaCi16",
      "include_colab_link": true
    },
    "kernelspec": {
      "name": "python3",
      "display_name": "Python 3"
    },
    "language_info": {
      "name": "python"
    }
  },
  "cells": [
    {
      "cell_type": "markdown",
      "metadata": {
        "id": "view-in-github",
        "colab_type": "text"
      },
      "source": [
        "<a href=\"https://colab.research.google.com/github/vamvieira/Aulas_Senai/blob/main/Semana1_Fundamentos.ipynb\" target=\"_parent\"><img src=\"https://colab.research.google.com/assets/colab-badge.svg\" alt=\"Open In Colab\"/></a>"
      ]
    },
    {
      "cell_type": "code",
      "execution_count": 1,
      "metadata": {
        "colab": {
          "base_uri": "https://localhost:8080/"
        },
        "id": "45V3yaDwHA3H",
        "outputId": "ba21d003-27fc-4064-eb6b-a268868aaecc"
      },
      "outputs": [
        {
          "output_type": "stream",
          "name": "stdout",
          "text": [
            "he's\n",
            "Escolha: S\\N\n"
          ]
        }
      ],
      "source": [
        "print('he\\'s')\n",
        "print(\"Escolha: S\\\\N\")"
      ]
    },
    {
      "cell_type": "markdown",
      "source": [
        "O Argumento posicional \"sep=\" é usado para separar os argumentos por um caracter por padrão ela já usa o '' (espaço)"
      ],
      "metadata": {
        "id": "ERi4Mo6oHOXX"
      }
    },
    {
      "cell_type": "code",
      "source": [
        "print('Meu', 'Nome', 'é', 'Vitor', sep='+')"
      ],
      "metadata": {
        "colab": {
          "base_uri": "https://localhost:8080/"
        },
        "id": "DKB2ADXhHLlp",
        "outputId": "41a1ebb1-0d46-44a9-df90-caf76dc2648d"
      },
      "execution_count": 2,
      "outputs": [
        {
          "output_type": "stream",
          "name": "stdout",
          "text": [
            "Meu+Nome+é+Vitor\n"
          ]
        }
      ]
    },
    {
      "cell_type": "markdown",
      "source": [
        "O Argumento posicional \"end=\" é usado para ajudar com o texto da próxima linha você também pode usar um caracter para juuntar as linhas Ex: end='##'"
      ],
      "metadata": {
        "id": "VWyw7nLQHnkY"
      }
    },
    {
      "cell_type": "code",
      "source": [
        "print('Meu','nome', 'é','Vitor',end='###')\n",
        "print('minha idade é 26 anos')"
      ],
      "metadata": {
        "colab": {
          "base_uri": "https://localhost:8080/"
        },
        "id": "BejZn1UZHm35",
        "outputId": "4a161ef7-fb65-46b3-a1c3-92e68dea526d"
      },
      "execution_count": 3,
      "outputs": [
        {
          "output_type": "stream",
          "name": "stdout",
          "text": [
            "Meu nome é Vitor###minha idade é 26 anos\n"
          ]
        }
      ]
    },
    {
      "cell_type": "code",
      "source": [
        "idade = 25\n",
        "nome = 'Vitor'\n",
        "altura = 1.67\n",
        "print(\"Seu Nome é:\", nome)\n",
        "print(\"Sua Idade é:\", idade)\n",
        "print(\"Sua Altura é:\", altura)"
      ],
      "metadata": {
        "colab": {
          "base_uri": "https://localhost:8080/"
        },
        "id": "XLLyk1fSIm-4",
        "outputId": "4ed19987-13ff-4505-eb43-6f9e65ca637e"
      },
      "execution_count": 8,
      "outputs": [
        {
          "output_type": "stream",
          "name": "stdout",
          "text": [
            "Seu Nome é: Vitor\n",
            "Sua Idade é: 25\n",
            "Sua Altura é: 1.67\n"
          ]
        }
      ]
    },
    {
      "cell_type": "markdown",
      "source": [
        "# Nome de Variáveis"
      ],
      "metadata": {
        "id": "2JDo3qRpRs5_"
      }
    },
    {
      "cell_type": "code",
      "source": [
        "#Variáveis não podem começar ocm numeros ou caracteres especiais\n",
        "#Exceção \"_\" do Underline\n"
      ],
      "metadata": {
        "id": "RFTW2aGJNBdI"
      },
      "execution_count": 9,
      "outputs": []
    },
    {
      "cell_type": "code",
      "source": [
        "peso=67.07"
      ],
      "metadata": {
        "id": "M0_FtOHBSKjq"
      },
      "execution_count": 11,
      "outputs": []
    },
    {
      "cell_type": "code",
      "source": [
        "#Calculo IMC\n",
        "imc = peso/altura**2\n",
        "print(imc)"
      ],
      "metadata": {
        "colab": {
          "base_uri": "https://localhost:8080/"
        },
        "id": "dQQ8otk-T9mX",
        "outputId": "f5766ce1-fb98-4aae-b1aa-2f50e82ff5a3"
      },
      "execution_count": 13,
      "outputs": [
        {
          "output_type": "stream",
          "name": "stdout",
          "text": [
            "24.04890817168059\n"
          ]
        }
      ]
    },
    {
      "cell_type": "markdown",
      "source": [
        "print(f\") permitir colocar as variaveis ou calculos dentro do print com {}\n",
        "Além disso também permiti personalizar a saida para o usuário"
      ],
      "metadata": {
        "id": "Yp70IeufWJjX"
      }
    },
    {
      "cell_type": "code",
      "source": [
        "# :.2f Define o numero de casas após o ponto.\n",
        "print(f'Nome: {nome} \\nIdade: {idade}\\nAltura: {altura}\\nPeso: {peso}')\n",
        "print(f'O imc é {peso/altura**2:.2f}')"
      ],
      "metadata": {
        "colab": {
          "base_uri": "https://localhost:8080/"
        },
        "id": "eK59-mHMUqHm",
        "outputId": "70fb735c-751c-4098-a57b-fd7c6f26043b"
      },
      "execution_count": 24,
      "outputs": [
        {
          "output_type": "stream",
          "name": "stdout",
          "text": [
            "Nome: Vitor \n",
            "Idade: 25\n",
            "Altura: 1.67\n",
            "Peso: 67.07\n",
            "O imc é 24.05\n"
          ]
        }
      ]
    },
    {
      "cell_type": "markdown",
      "source": [
        "input() é a dunção que permite o usuário digitar o valor que vai ser armazenado na variavél"
      ],
      "metadata": {
        "id": "PdkRsEImhk6-"
      }
    },
    {
      "cell_type": "code",
      "source": [
        "idade = input('Digite idade: ')\n",
        "print (type(int(idade)))"
      ],
      "metadata": {
        "colab": {
          "base_uri": "https://localhost:8080/"
        },
        "id": "76fQ8WPYhyd2",
        "outputId": "70e27a50-0c5f-4cbd-ae33-63705d2dde44"
      },
      "execution_count": 31,
      "outputs": [
        {
          "output_type": "stream",
          "name": "stdout",
          "text": [
            "Digite idade: 25\n",
            "<class 'int'>\n"
          ]
        }
      ]
    },
    {
      "cell_type": "code",
      "source": [
        "nome = input('Digite seu nome: ')\n",
        "idade = input('Digite sua idade: ')\n",
        "altura = float(input('Digite sua altura: '))\n",
        "peso = float(input('Digite seu peso: '))\n",
        "imc = peso//altura**2\n",
        "\n",
        "print(f'Olá {nome}, Atualmente você tem {idade} anos. \\nE seu Índice de massa corporal é de: {imc}')\n",
        "\n"
      ],
      "metadata": {
        "colab": {
          "base_uri": "https://localhost:8080/"
        },
        "id": "IVf_osBClZJ3",
        "outputId": "aaa7c6a2-d478-4bdd-f65c-1f2ed1f87c81"
      },
      "execution_count": 36,
      "outputs": [
        {
          "output_type": "stream",
          "name": "stdout",
          "text": [
            "Digite seu nome: Vitor\n",
            "Digite sua idade: 25\n",
            "Digite sua altura: 1.67\n",
            "Digite seu peso: 67.52\n",
            "Olá Vitor, Atualmente você tem 25 anos. \n",
            "E seu Índice de massa corporal é de: 24.0\n"
          ]
        }
      ]
    },
    {
      "cell_type": "code",
      "source": [
        "distancia = float(input(\"Digite sua distância: \"))\n",
        "tempo = float(input(\"Digite seu tempo gasto: \"))\n",
        "vmedia = distancia/tempo\n",
        "print(\"Sua velocidade média é de:\", vmedia)\n"
      ],
      "metadata": {
        "colab": {
          "base_uri": "https://localhost:8080/"
        },
        "id": "dizlBXUqnkiW",
        "outputId": "1b26a088-4ac1-4b7f-b1ef-d94920d3dac9"
      },
      "execution_count": 39,
      "outputs": [
        {
          "output_type": "stream",
          "name": "stdout",
          "text": [
            "Digite sua distância: 50\n",
            "Digite seu tempo gasto: 1.89\n",
            "Sua velocidade média é de: 26.455026455026456\n"
          ]
        }
      ]
    },
    {
      "cell_type": "code",
      "source": [],
      "metadata": {
        "id": "9Uf-FmCuqVux"
      },
      "execution_count": null,
      "outputs": []
    }
  ]
}