{
  "nbformat": 4,
  "nbformat_minor": 0,
  "metadata": {
    "colab": {
      "provenance": [],
      "authorship_tag": "ABX9TyPfUMi8LK8Kh8LdYezP6k3s",
      "include_colab_link": true
    },
    "kernelspec": {
      "name": "python3",
      "display_name": "Python 3"
    },
    "language_info": {
      "name": "python"
    }
  },
  "cells": [
    {
      "cell_type": "markdown",
      "metadata": {
        "id": "view-in-github",
        "colab_type": "text"
      },
      "source": [
        "<a href=\"https://colab.research.google.com/github/vamvieira/Aulas_Senai/blob/main/Semana3_Programacao_Python.ipynb\" target=\"_parent\"><img src=\"https://colab.research.google.com/assets/colab-badge.svg\" alt=\"Open In Colab\"/></a>"
      ]
    },
    {
      "cell_type": "markdown",
      "source": [
        "# ESTRUTURAS CONDICIONAIS\n",
        "\n",
        "\n",
        "\n",
        "```\n",
        "OPERADORES RELACIONAIS (OU DE COMPARAÇÃO)\n",
        "\n",
        "\n",
        ">  MAIOR\n",
        "<  MENOR\n",
        ">= MAIOR OU IGUAL\n",
        "<= MENOR OU IGUAL\n",
        "== IGUAL\n",
        "!= DIFERENTE\n",
        "\n",
        "\n",
        "OPERADORES LÓGICOS\n",
        "\n",
        "\n",
        "and | or | not | in | not in\n",
        "```"
      ],
      "metadata": {
        "id": "oHUvqRjJ2RAm"
      }
    },
    {
      "cell_type": "code",
      "source": [
        "# BLOCO if\n",
        "\n",
        "\n",
        "x = 10\n",
        "if x > 5:\n",
        "    print(\"É maior que 5\")\n",
        "    if x < 8:\n",
        "        print(\"Também é menor que 8\")\n",
        "if x == 10:\n",
        "    print(\"X vale 10\")\n"
      ],
      "metadata": {
        "colab": {
          "base_uri": "https://localhost:8080/"
        },
        "id": "Sz2INjjO2Ved",
        "outputId": "a7bdd39d-794b-4e6f-cb40-d5450c6c5390"
      },
      "execution_count": null,
      "outputs": [
        {
          "output_type": "stream",
          "name": "stdout",
          "text": [
            "É maior que 5\n",
            "X vale 10\n"
          ]
        }
      ]
    },
    {
      "cell_type": "code",
      "source": [
        "# BLOCO if else\n",
        "\n",
        "\n",
        "y = 9\n",
        "if y != 8:\n",
        "    print(\"É diferente de 8\")\n",
        "else:\n",
        "    print(\"É igual a 8\")"
      ],
      "metadata": {
        "colab": {
          "base_uri": "https://localhost:8080/"
        },
        "id": "IZBImmXT2XQv",
        "outputId": "e3dacf75-0f18-406f-b051-f87de62a3e54"
      },
      "execution_count": null,
      "outputs": [
        {
          "output_type": "stream",
          "name": "stdout",
          "text": [
            "É diferente de 8\n"
          ]
        }
      ]
    },
    {
      "cell_type": "code",
      "source": [
        "# BLOCO if elif else\n",
        "\n",
        "\n",
        "z = 15\n",
        "if z <= 10:\n",
        "    print(\"Frio\")\n",
        "elif z <= 20:\n",
        "    print(\"Morno\")\n",
        "elif z <= 30:\n",
        "    print(\"Quente\")\n",
        "else:\n",
        "    print(\"Muito quente\")"
      ],
      "metadata": {
        "colab": {
          "base_uri": "https://localhost:8080/"
        },
        "id": "-Hyk2SeI2Ypu",
        "outputId": "1efdcbe8-ba34-4340-fe14-10fa4e7e787e"
      },
      "execution_count": null,
      "outputs": [
        {
          "output_type": "stream",
          "name": "stdout",
          "text": [
            "Morno\n"
          ]
        }
      ]
    },
    {
      "cell_type": "code",
      "source": [
        "# BLOCO COM and\n",
        "\n",
        "\n",
        "n = 20.1\n",
        "if n >= 10 and n <= 20:\n",
        "    print(\"N está entre 10 e 20 👍\")\n",
        "else:\n",
        "    print(\"N não está entre 10 e 20 👎\")"
      ],
      "metadata": {
        "colab": {
          "base_uri": "https://localhost:8080/"
        },
        "id": "B4YXe-eX2Z5e",
        "outputId": "3b620c03-37e2-43e3-c6b9-dde793301e5b"
      },
      "execution_count": null,
      "outputs": [
        {
          "output_type": "stream",
          "name": "stdout",
          "text": [
            "N não está entre 10 e 20 👎\n"
          ]
        }
      ]
    },
    {
      "cell_type": "code",
      "source": [
        "# BLOCO COM or\n",
        "\n",
        "\n",
        "casado = True\n",
        "filhos = False\n",
        "\n",
        "\n",
        "if casado or filhos:\n",
        "    print(\"Corre!!!!\")\n",
        "else:\n",
        "    print(\"Livre para casar...\")"
      ],
      "metadata": {
        "colab": {
          "base_uri": "https://localhost:8080/"
        },
        "id": "2RCG4frh2bnO",
        "outputId": "9b306846-9743-4366-87bc-3ef5232cee3c"
      },
      "execution_count": null,
      "outputs": [
        {
          "output_type": "stream",
          "name": "stdout",
          "text": [
            "Corre!!!!\n"
          ]
        }
      ]
    },
    {
      "cell_type": "code",
      "source": [
        "# BLOCO COM in\n",
        "\n",
        "\n",
        "escola = \"SENAI Ary Torres\"\n",
        "min = escola.lower()\n",
        "if 'ary' in min:\n",
        "    print(\"Tem Ary no nome!\")\n",
        "else:\n",
        "    print(\"Não tem Ary no nome!\")\n",
        "print('\\n', escola)"
      ],
      "metadata": {
        "colab": {
          "base_uri": "https://localhost:8080/"
        },
        "id": "6j_58pPq2dFO",
        "outputId": "4f41e661-60d8-4f32-b421-6085c0fdb010"
      },
      "execution_count": null,
      "outputs": [
        {
          "output_type": "stream",
          "name": "stdout",
          "text": [
            "Tem Ary no nome!\n",
            "\n",
            " SENAI Ary Torres\n"
          ]
        }
      ]
    },
    {
      "cell_type": "code",
      "source": [
        "# BLOCO COM not in\n",
        "\n",
        "\n",
        "escola = \"SENAI Ary Torres\"\n",
        "\n",
        "\n",
        "if 'Ary' not in escola:\n",
        "    print(\"Não tem Ary no nome!\")\n",
        "else:\n",
        "    print(\"Tem Ary no nome!\")"
      ],
      "metadata": {
        "colab": {
          "base_uri": "https://localhost:8080/"
        },
        "id": "ZdK4piA_2eVt",
        "outputId": "c50828b4-f98b-4867-9ae3-fec13b84f5f8"
      },
      "execution_count": null,
      "outputs": [
        {
          "output_type": "stream",
          "name": "stdout",
          "text": [
            "Tem Ary no nome!\n"
          ]
        }
      ]
    },
    {
      "cell_type": "code",
      "source": [
        "# NÃO UTILIZAR ESSA ESTRUTURA!!!!!!\n",
        "\n",
        "\n",
        "a = 3\n",
        "b = 2\n",
        "c = 1\n",
        "\n",
        "\n",
        "if a>b>c: # if a>b and b>c:\n",
        "    print(\"A é maior\")"
      ],
      "metadata": {
        "colab": {
          "base_uri": "https://localhost:8080/"
        },
        "id": "VdJio1Gz2f_-",
        "outputId": "52bd1035-375a-42fe-bb26-d069c1954e75"
      },
      "execution_count": null,
      "outputs": [
        {
          "output_type": "stream",
          "name": "stdout",
          "text": [
            "A é maior\n"
          ]
        }
      ]
    },
    {
      "cell_type": "code",
      "source": [
        "# DESAFIO 01\n",
        "\"\"\"\n",
        "Crie um programa que leia o nome de um bairro e diga se\n",
        "ele começa ou não com o nome Santo.\n",
        "\"\"\"\n",
        "bairro = input(\"Digite o bairro: \").upper()\n",
        "\n",
        "if bairro.split()[0] == 'SANTO':\n",
        "    print(\"\\n\\033[32mComeça com Santo\")\n",
        "else:\n",
        "    print(\"\\n\\033[31mNão começa com santo\")\n"
      ],
      "metadata": {
        "colab": {
          "base_uri": "https://localhost:8080/"
        },
        "id": "XCSbk5N42nrN",
        "outputId": "ce6de085-376b-4937-9853-d394c18a520e"
      },
      "execution_count": null,
      "outputs": [
        {
          "output_type": "stream",
          "name": "stdout",
          "text": [
            "Digite o bairro: Santo amado\n",
            "\n",
            "\u001b[32mComeça com Santo\n"
          ]
        }
      ]
    },
    {
      "cell_type": "code",
      "source": [
        "# DESAFIO 02\n",
        "\n",
        "#O upper nesse caso converte todo texto em maiusculo para caso o usuário digite pequeno não ocorra o erro de identificação por conta do case-sensitive.\n",
        "\"\"\"\n",
        "Crie um programa que leia o nome de uma pessoa e diga se ela\n",
        "tem \"Silva\" no nome.\n",
        "\"\"\"\n",
        "\n",
        "nome = input(\"Digite seu nome: \").upper().split()\n",
        "\n",
        "if 'SILVA' in nome:\n",
        "  print(\"\\nTem Silva\")\n",
        "else:\n",
        "  print(\"\\nNão tem Silva\")"
      ],
      "metadata": {
        "colab": {
          "base_uri": "https://localhost:8080/"
        },
        "id": "o9O5fOpW2rMd",
        "outputId": "5ac153b1-c353-4b42-edab-2f86f7e47e14"
      },
      "execution_count": null,
      "outputs": [
        {
          "output_type": "stream",
          "name": "stdout",
          "text": [
            "Digite seu nome: SILVA\n",
            "\n",
            "Não tem Silva\n"
          ]
        }
      ]
    },
    {
      "cell_type": "code",
      "source": [
        "# DESAFIO 03\n",
        "\"\"\"\n",
        "Crie um programa que leia uma frase qualquer e diga se ela é um palíndromo, exemplo:\n",
        "APOS A SOPA\n",
        "A SACADA DA CASA\n",
        "A TORRE DA DERROTA\n",
        "SOCORRAM ME SUBI NO ONIBUS EM MARROCOS\n",
        "\"\"\"\n",
        "\n",
        "frase = input(\"Digite uma Frase: \").upper().replace(' ', '')\n",
        "invertida = frase[::-1]\n",
        "\n",
        "if frase == invertida:\n",
        "  print(\"\\n\\033[32mÉ um polídromo!\")\n",
        "else:\n",
        "  print(\"\\n\\033[31mNão é um palídromo!\")"
      ],
      "metadata": {
        "colab": {
          "base_uri": "https://localhost:8080/"
        },
        "id": "5Vt_gOZ42sWN",
        "outputId": "25b66b3e-72c2-4ec9-fb54-cd5717e35b05"
      },
      "execution_count": null,
      "outputs": [
        {
          "output_type": "stream",
          "name": "stdout",
          "text": [
            "Digite uma Frase: apos a sopa\n",
            "\n",
            "\u001b[32mÉ um polídromo!\n"
          ]
        }
      ]
    },
    {
      "cell_type": "code",
      "source": [
        "# DESAFIO 04\n",
        "\"\"\"\n",
        "Escreva um programa que faça o computador sortear um\n",
        "número inteiro entre 1 e 3 e peça para o usuário tentar\n",
        "descobrir qual foi o número escolhido pelo computador.\n",
        "\n",
        "\n",
        "O programa deverá escrever na tela se o usuário venceu ou\n",
        "perdeu.\n",
        "\n",
        "\n",
        "Biblioteca necessária:\n",
        "import random\n",
        "random.randint(0, 1000)\n",
        "\"\"\"\n",
        "import random\n",
        "\n",
        "user = int(input(\"Digite um numero: \"))\n",
        "num = random.randint(1, 3)\n",
        "if num == 1:\n",
        "  print(\"Numero sorteado foi: 1\")\n",
        "elif num == 2:\n",
        "  print(\"Numero sorteado foi: 2\")\n",
        "elif num == 3:\n",
        "  print(\"Numero sorteado foi: 3\")\n",
        "else:\n",
        "  print(\"Ta errado\")\n"
      ],
      "metadata": {
        "id": "CJLp4ye12wpe",
        "colab": {
          "base_uri": "https://localhost:8080/"
        },
        "outputId": "c7a12171-776c-4546-952f-5f99e619d8e1"
      },
      "execution_count": null,
      "outputs": [
        {
          "output_type": "stream",
          "name": "stdout",
          "text": [
            "Digite um numero: 1\n",
            "Numero sorteado foi: 3\n"
          ]
        }
      ]
    },
    {
      "cell_type": "code",
      "source": [
        "import random\n",
        "\n",
        "user = int(input(\"Digite um numero: \"))\n",
        "num = random.randint(1, 3)\n",
        "\n",
        "if num == user:\n",
        "  print(f'\\n\\033[32mGanhou! O Tigrinho soltou a Carta! 🎆🤑🎆')\n",
        "else:\n",
        "  print(f'\\n\\033[31mPerdeu! O Tigrinho estava com a Carta de n° {num} 🐯')"
      ],
      "metadata": {
        "colab": {
          "base_uri": "https://localhost:8080/"
        },
        "id": "3QDws8Mn_cLN",
        "outputId": "d92c94c1-125e-4680-86d0-960875063d94"
      },
      "execution_count": null,
      "outputs": [
        {
          "output_type": "stream",
          "name": "stdout",
          "text": [
            "Digite um numero: 2\n",
            "\n",
            "\u001b[31mPerdeu! O Tigrinho estava com a Carta de n° 1 🐯\n"
          ]
        }
      ]
    },
    {
      "cell_type": "code",
      "source": [
        "import random\n",
        "num = random.randint(1, 3)\n",
        "\n",
        "user = int(input(\"Tente adivinhar o número que o computador sorteou (entre 1 e 3): \"))\n",
        "print(f\"O número sorteado foi: {num}\")\n",
        "if user == num:\n",
        "    print(\"Parabéns! Você acertou. 🎉\")\n",
        "else:\n",
        "    print(\"Você errou. Tente novamente!\")\n"
      ],
      "metadata": {
        "colab": {
          "base_uri": "https://localhost:8080/"
        },
        "id": "hcqZ0I3EB4PD",
        "outputId": "50034d59-73ac-4f8c-dc1c-c0e237bc3452"
      },
      "execution_count": null,
      "outputs": [
        {
          "output_type": "stream",
          "name": "stdout",
          "text": [
            "Tente adivinhar o número que o computador sorteou (entre 1 e 3): 2\n",
            "O número sorteado foi: 3\n",
            "Você errou. Tente novamente!\n"
          ]
        }
      ]
    },
    {
      "cell_type": "code",
      "source": [
        "# DESAFIO 05\n",
        "\"\"\"\n",
        "Escreva um programa que leia a velocidade de um carro.\n",
        "\n",
        "\n",
        "Se ele ultrapassar 80 km/h, mostre uma mensagem dizendo que\n",
        "ele foi multado.\n",
        "\n",
        "\n",
        "A multa custará R$ 7,00 por cada km acima do limite.\n",
        "\"\"\"\n",
        "\n",
        "velo = float(input(\"Digite sua velocidade: \"))\n",
        "if velo > 80:\n",
        "  print(\"O Valor a ser pago é de R$: \", (velo-80)*7)\n",
        "else:\n",
        "  print(\"Não paga nada\")"
      ],
      "metadata": {
        "colab": {
          "base_uri": "https://localhost:8080/"
        },
        "id": "vluOJUUgB4ns",
        "outputId": "1a0ab6ff-3702-4b04-cd4e-dc9d8fc8a8fa"
      },
      "execution_count": null,
      "outputs": [
        {
          "output_type": "stream",
          "name": "stdout",
          "text": [
            "Digite sua velocidade: 25\n",
            "Não paga nada\n"
          ]
        }
      ]
    },
    {
      "cell_type": "code",
      "source": [
        "# DESAFIO 06\n",
        "\"\"\"\n",
        "Crie um programa que leia um número inteiro e mostre na tela\n",
        "se ele é PAR ou IMPAR.\n",
        "\"\"\"\n",
        "num = int(input(\"Digite um número: \"))\n",
        "print(\"É par\" if num%2 == 0 else \"É impar\")\n",
        "\n"
      ],
      "metadata": {
        "colab": {
          "base_uri": "https://localhost:8080/"
        },
        "id": "6Hb7gI93EFC7",
        "outputId": "9e052700-1fd7-4eb8-91f0-544260df899f"
      },
      "execution_count": null,
      "outputs": [
        {
          "output_type": "stream",
          "name": "stdout",
          "text": [
            "Digite um número: 5\n",
            "É impar\n"
          ]
        }
      ]
    },
    {
      "cell_type": "code",
      "source": [
        "# DESAFIO 07\n",
        "\"\"\"\n",
        "Escreva um programa que pergunte o salário de um funcionário\n",
        "e calcule o valor do seu aumento.\n",
        "Para salários superiores a R$ 1.250,00, calcule um aumento de\n",
        "10%.\n",
        "Para salários inferiores ou iguais, o aumento é de 15%.\n",
        "\"\"\"\n",
        "\n",
        "info = float(input(\"Informe seu salário: \"))\n",
        "if info > 1250:\n",
        "  print(f'Aumentou para R${info*1.1:,.2f}')\n",
        "else:\n",
        "  print(f'Aumentou para R${info*1.15:,.2f}')"
      ],
      "metadata": {
        "colab": {
          "base_uri": "https://localhost:8080/"
        },
        "id": "i42fz9MQFCi8",
        "outputId": "21657d68-8131-4bf6-be3f-90af8b6126bb"
      },
      "execution_count": null,
      "outputs": [
        {
          "output_type": "stream",
          "name": "stdout",
          "text": [
            "Informe seu salário: 1.250\n",
            "Aumentou para R$0.0625\n"
          ]
        }
      ]
    },
    {
      "cell_type": "code",
      "source": [
        "# DESAFIO 08\n",
        "\"\"\"\n",
        "Desenvolva um programa que pergunte a distância de uma\n",
        "viagem em Km. Calcule o preço da passagem cobrando R$\n",
        "0,50 por Km para viagens de até 200 Km e R$ 0,45 para\n",
        "viagens mais longas.\n",
        "\"\"\"\n",
        "\n",
        "km = int(input(\"Informe a Km da viagem: \"))\n",
        "if km <= 200:\n",
        "  print(f'O Valor a ser pago é de R${km*0.50}')\n",
        "elif km > 200:\n",
        "    print(f'O Valor a ser pago é de R${km*0.45}')\n",
        "else:\n",
        "  print(\"Não tem corrida\")"
      ],
      "metadata": {
        "id": "6p7EccTrHFts",
        "colab": {
          "base_uri": "https://localhost:8080/"
        },
        "outputId": "95d8fd17-480d-409c-b458-55d2e679ba6e"
      },
      "execution_count": null,
      "outputs": [
        {
          "output_type": "stream",
          "name": "stdout",
          "text": [
            "Informe a Km da viagem: 10\n",
            "O Valor a ser pago é de R$5.0\n"
          ]
        }
      ]
    },
    {
      "cell_type": "code",
      "source": [
        "# DESAFIO 09\n",
        "\"\"\"\n",
        "Escreva um programa para aprovar um empréstimo bancário\n",
        "para a compra de uma casa. O programa vai perguntar o valor\n",
        "da casa, o salário do comprador e em quantos anos ele vai\n",
        "pagar.\n",
        "\n",
        "\n",
        "Calcule o valor da prestação mensal, sabendo que ela não\n",
        "pode exceder 30% do salário ou então o empréstimo será\n",
        "negado.\n",
        "\"\"\"\n",
        "\n",
        "casa = float(input(\"Informe o valor da Casa: \"))\n",
        "salario = float(input(\"Informe o valor do Salário: \"))\n",
        "meses = int(input(\"Informe quantos anos deseja financiar: \"))/12\n",
        "prestacao = casa/meses\n",
        "if prestacao <= salario*0.3:\n",
        "  print(\"Empréstimo negado\")\n",
        "else:\n",
        "  print(\"Empréstimo aprovado\")\n"
      ],
      "metadata": {
        "colab": {
          "base_uri": "https://localhost:8080/"
        },
        "id": "pDKexrptIoHs",
        "outputId": "ff318b6f-372a-4493-ec2e-d17d0876f476"
      },
      "execution_count": null,
      "outputs": [
        {
          "output_type": "stream",
          "name": "stdout",
          "text": [
            "Informe o valor da Casa: 100\n",
            "Informe o valor do Salário: 2000\n",
            "Informe quantos anos deseja financiar: 2\n",
            "Empréstimo negado\n"
          ]
        }
      ]
    },
    {
      "cell_type": "code",
      "source": [
        "# DESAFIO 10\n",
        "\"\"\"\n",
        "Faça um programa que leia o ano de nascimento de um jovem\n",
        "e informe, de acordo com sua idade:\n",
        "\n",
        "\n",
        "Se ele ainda vai se alistar ao serviço militar\n",
        "Se é a hora de se alistar\n",
        "Se já passou o tempo do alistamento\n",
        "\n",
        "\n",
        "Seu programa também deverá mostrar o tempo que falta ou\n",
        "que passou do prazo.\n",
        "\"\"\"\n",
        "ano = 2025\n",
        "idade = ano-int(input(\"Digite o ano do seu nascimento: \"))\n",
        "if idade < 18:\n",
        "  print(\"Ainda irá se alistar\")\n",
        "elif idade == 18:\n",
        "  print(\"Precisa se alistar\")\n",
        "else:\n",
        "  print(\"Já passou o tempo do alistamento\")\n"
      ],
      "metadata": {
        "id": "uigDc0qEJhA7",
        "colab": {
          "base_uri": "https://localhost:8080/"
        },
        "outputId": "157b6c90-29f1-4d68-af23-21927501e382"
      },
      "execution_count": null,
      "outputs": [
        {
          "output_type": "stream",
          "name": "stdout",
          "text": [
            "Digite o ano do seu nascimento: 2007\n",
            "Precisa se alistar\n"
          ]
        }
      ]
    },
    {
      "cell_type": "code",
      "source": [
        "# DESAFIO 11\n",
        "\"\"\"\n",
        "Crie um programa que leia duas notas entre 0 a 10 de um aluno\n",
        "e calcule sua média, mostrando uma mensagem no final, de\n",
        "acordo com a média atingida.\n",
        "\n",
        "\n",
        "Média abaixo de 5.0: REPROVADO\n",
        "Média entre 5.0 a 6.9: RECUPERAÇÃO\n",
        "Média igual ou superior a 7.0: APROVADO\n",
        "\"\"\"\n",
        "nota1 = float(input(\"Digite sua primeira nota: \"))\n",
        "nota2 = float(input(\"Digite sua primeira nota: \"))\n",
        "media = float(nota1+nota2)/2\n",
        "if media >= 7:\n",
        "  print(\"APROVADO\")\n",
        "elif 5.0 <= media <= 6.9:\n",
        "  print(\"RECUPERAÇÃO\")\n",
        "else:\n",
        "  print(\"REPROVADO\")"
      ],
      "metadata": {
        "id": "qDFsinijXAHC",
        "colab": {
          "base_uri": "https://localhost:8080/"
        },
        "outputId": "76bb73c5-81f2-4004-8bd0-ed14095fd0ee"
      },
      "execution_count": null,
      "outputs": [
        {
          "output_type": "stream",
          "name": "stdout",
          "text": [
            "Digite sua primeira nota: 6\n",
            "Digite sua primeira nota: 7\n",
            "RECUPERAÇÃO\n"
          ]
        }
      ]
    },
    {
      "cell_type": "code",
      "source": [
        "# DESAFIO 12\n",
        "\"\"\"\n",
        "Desenvolva um programa que leia o comprimento de três retas\n",
        "e diga ao usuário se elas podem ou não formar um triângulo.\n",
        "Condições Necessárias:\n",
        "a + b > c\n",
        "a + c > b\n",
        "b + c > a\n",
        "\"\"\"\n",
        "\n",
        "a = int(input(\"Digite a reta: \"))\n",
        "b = int(input(\"Digite a reta: \"))\n",
        "c = int(input(\"Digite a reta: \"))\n",
        "if a + b > c:\n",
        "  print(\"Pode formar um triângulo\")\n",
        "elif a + c > b:\n",
        "  print(\"Pode formar um triângulo\")\n",
        "elif b + c > a:\n",
        "  print(\"Pode formar um triângulo\")\n",
        "else:\n",
        "  print(\"não podem formar um triãgulo\")"
      ],
      "metadata": {
        "colab": {
          "base_uri": "https://localhost:8080/"
        },
        "id": "EkQYbh6JKvhN",
        "outputId": "632db9eb-5358-484b-db1c-d11762fa3390"
      },
      "execution_count": null,
      "outputs": [
        {
          "output_type": "stream",
          "name": "stdout",
          "text": [
            "Digite a reta: 10\n",
            "Digite a reta: 8\n",
            "Digite a reta: 1\n",
            "Pode formar um triângulo\n"
          ]
        }
      ]
    },
    {
      "cell_type": "code",
      "source": [
        "# DESAFIO 13\n",
        "\"\"\"\n",
        "Escreva um programa que leia dois números inteiros e\n",
        "compare- os, mostrando na tela uma mensagem:\n",
        "\n",
        "\n",
        "O primeiro valor é maior\n",
        "O segundo valor é maior\n",
        "Não existe valor maior, os dois são iguais\n",
        "\"\"\"\n",
        "\n",
        "a = int(input(\"Informe o primeiro numero:\" ))\n",
        "b = int(input(\"Informe o segundo numero:\" ))\n",
        "if a > b:\n",
        "  print(\"O primeiro valor é maior\")\n",
        "elif a < b:\n",
        "  print(\"O segundo valor é maior\")\n",
        "elif a == b:\n",
        "  print(\"Não existe valor maior, os dois são iguais\")\n",
        "else:\n",
        "  print(\"Qebrou\")"
      ],
      "metadata": {
        "colab": {
          "base_uri": "https://localhost:8080/"
        },
        "id": "Om8uvkdoNQl9",
        "outputId": "14553e81-eed7-4d39-feb7-de91ff520467"
      },
      "execution_count": null,
      "outputs": [
        {
          "output_type": "stream",
          "name": "stdout",
          "text": [
            "Informe o primeiro numero:5\n",
            "Informe o segundo numero:2\n",
            "O primeiro valor é maior\n"
          ]
        }
      ]
    },
    {
      "cell_type": "code",
      "source": [
        "# DESAFIO 14\n",
        "\"\"\"\n",
        "Faça um programa que leia três números e mostre qual é o\n",
        "maior e qual é o menor.\n",
        "\"\"\"\n",
        "a = int(input(\"Informe o primeiro numero:\" ))\n",
        "b = int(input(\"Informe o segundo numero:\" ))\n",
        "c = int(input(\"Informe o segundo numero:\" ))\n",
        "\n",
        "if a > b and a > c:\n",
        "  maior = a\n",
        "elif b > a and b > c:\n",
        "  maior = c\n",
        "else:\n",
        "  maior = c\n",
        "\n",
        "if a < b and a < c:\n",
        "  menor = a\n",
        "elif c < a and c < b:\n",
        "  menor = c\n",
        "else:\n",
        "  menor = c"
      ],
      "metadata": {
        "colab": {
          "base_uri": "https://localhost:8080/"
        },
        "id": "tMeCynqQOgIs",
        "outputId": "6a8d3ca0-a245-4016-89c6-96827451fa0c"
      },
      "execution_count": null,
      "outputs": [
        {
          "name": "stdout",
          "output_type": "stream",
          "text": [
            "Informe o primeiro numero:10\n",
            "Informe o segundo numero:10\n",
            "Informe o segundo numero:10\n"
          ]
        }
      ]
    },
    {
      "cell_type": "code",
      "source": [
        "# DESAFIO 15\n",
        "\"\"\"\n",
        "Escreva um programa que leia um número inteiro e peça para o\n",
        "usuário escolher qual será a base de conversão:\n",
        "\n",
        "\n",
        "1 para binário bin()\n",
        "2 para octal oct()\n",
        "3 para hexadecimal hex()\n",
        "\"\"\"\n",
        "\n",
        "num = int(input(\"Informe um número: \"))\n",
        "conversao = input(\"Informe para qual base deseja converter (bin, oct, hex): \")\n",
        "\n",
        "if conversao == 'bin':\n",
        "    print(f'Seu número {num} em binário é {bin(num)}')\n",
        "elif conversao == 'oct':\n",
        "    print(f'Seu número {num} em octal é {oct(num)}')\n",
        "elif conversao == 'hex':\n",
        "    print(f'Seu número {num} em hexadecimal é {hex(num)}')\n",
        "else:\n",
        "    print(\"Base de conversão inválida. Use 'bin', 'oct' ou 'hex'.\")\n",
        "\n"
      ],
      "metadata": {
        "colab": {
          "base_uri": "https://localhost:8080/"
        },
        "id": "L7GaQU9AQFvt",
        "outputId": "2a019be2-eaaf-459c-82cf-b4f5be765701"
      },
      "execution_count": null,
      "outputs": [
        {
          "output_type": "stream",
          "name": "stdout",
          "text": [
            "Informe um numero: 20\n",
            "Informe para qual base deseja converter: bin\n",
            "Seu 20 fica assim em binário 0b10100\n"
          ]
        }
      ]
    },
    {
      "cell_type": "code",
      "source": [
        "# OPÇÃO ÚNICA\n",
        "\n",
        "\n",
        "operacao = input(\"\"\"\n",
        "ESCOLHA UMA OPÇÃO:\n",
        "\n",
        "\n",
        "[1] Opção 1\n",
        "[2] Opção 2\n",
        "[3] Opção 3\n",
        "\"\"\")\n",
        "\n",
        "\n",
        "match operacao:\n",
        "    case '1':\n",
        "        print(\"Opção 1 foi escolhida...\")\n",
        "    case '2':\n",
        "        print(\"Opção 2 foi escolhida...\")\n",
        "    case '3':\n",
        "        print(\"Opção 3 foi escolhida...\")\n",
        "    case _:\n",
        "        print(\"Opção inválida...\")"
      ],
      "metadata": {
        "colab": {
          "base_uri": "https://localhost:8080/"
        },
        "id": "nuDiA8_GR_0c",
        "outputId": "e006c109-ae3c-4d84-e0b5-711395f94fb9"
      },
      "execution_count": null,
      "outputs": [
        {
          "output_type": "stream",
          "name": "stdout",
          "text": [
            "\n",
            "ESCOLHA UMA OPÇÃO:\n",
            "\n",
            "\n",
            "[1] Opção 1\n",
            "[2] Opção 2\n",
            "[3] Opção 3\n",
            "1\n",
            "Opção 1 foi escolhida...\n"
          ]
        }
      ]
    },
    {
      "cell_type": "code",
      "source": [
        "# OPÇÃO MULTIPLA\n",
        "\n",
        "\n",
        "operacao = input(\"\"\"\n",
        "ESCOLHA UMA OPÇÃO:\n",
        "\n",
        "\n",
        "[1] Opção 1\n",
        "[2] Opção 2\n",
        "[3] Opção 3\n",
        "\"\"\")\n",
        "\n",
        "\n",
        "match operacao:\n",
        "    case '1' | '2':\n",
        "        print(\"Opção 1 ou 2 escolhida...\")\n",
        "    case '3':\n",
        "        print(\"Opção 3 foi escolhida...\")\n",
        "    case _:\n",
        "        print(\"Opção inválida...\")"
      ],
      "metadata": {
        "colab": {
          "base_uri": "https://localhost:8080/"
        },
        "id": "akcuvMIxfq9p",
        "outputId": "53a57941-fb0d-4c9e-c501-c6dc3e1d9887"
      },
      "execution_count": null,
      "outputs": [
        {
          "output_type": "stream",
          "name": "stdout",
          "text": [
            "\n",
            "ESCOLHA UMA OPÇÃO:\n",
            "\n",
            "\n",
            "[1] Opção 1\n",
            "[2] Opção 2\n",
            "[3] Opção 3\n",
            "2\n",
            "Opção 1 ou 2 escolhida...\n"
          ]
        }
      ]
    },
    {
      "cell_type": "code",
      "source": [
        "# OPÇÃO MÚLTIPLA COM CASE _ IF\n",
        "\n",
        "\n",
        "numero = int(input(\"Digite um número: \"))\n",
        "\n",
        "\n",
        "match numero:\n",
        "    case 1 | 3 | 5 | 7 | 9:\n",
        "        print(\"É ímpar entre 0 e 10\")\n",
        "    case _ if numero < 0:\n",
        "        print(\"É negativo\")\n",
        "    case _:\n",
        "        print(\"Um número qualquer...\")"
      ],
      "metadata": {
        "colab": {
          "base_uri": "https://localhost:8080/"
        },
        "id": "nFQPNOh4hZZo",
        "outputId": "d5cb8e1e-b9d1-44ad-d43a-1e9d2c809b39"
      },
      "execution_count": null,
      "outputs": [
        {
          "output_type": "stream",
          "name": "stdout",
          "text": [
            "Digite um número: 26\n",
            "Um número qualquer...\n"
          ]
        }
      ]
    },
    {
      "cell_type": "code",
      "source": [
        "numero = int(input(\"Digite um número: \"))\n",
        "ultimo_numero = str(numero)[-1]\n",
        "\n",
        "\n",
        "match ultimo_numero:\n",
        "    case '1' | '3' | '5' | '7' | '9':\n",
        "        print(f\"\\nO número {numero} é \\033[31mÍMPAR\\033[0m. ☝\")\n",
        "    case _:\n",
        "        print(f\"\\nO número {numero} é \\033[32mPAR\\033[0m. ✌\")"
      ],
      "metadata": {
        "colab": {
          "base_uri": "https://localhost:8080/"
        },
        "id": "C_KKodFdhbbZ",
        "outputId": "576079ee-a129-45ed-a6fc-d8b029daec73"
      },
      "execution_count": null,
      "outputs": [
        {
          "output_type": "stream",
          "name": "stdout",
          "text": [
            "Digite um número: 2\n",
            "\n",
            "O número 2 é \u001b[32mPAR\u001b[0m. ✌\n"
          ]
        }
      ]
    },
    {
      "cell_type": "markdown",
      "source": [
        "#DESAFIO"
      ],
      "metadata": {
        "id": "xjmgkA1siB7J"
      }
    },
    {
      "cell_type": "code",
      "source": [
        "from ast import match_case\n",
        "# DESAFIO 01\n",
        "\"\"\"\n",
        "Escreva um programa que solicite ao usuário uma nota inteira entre 0 e 10.\n",
        "Use o comando `match case` para classificar a nota de acordo com a tabela a seguir:\n",
        "\n",
        "\n",
        "- 0-4: Nota Baixa\n",
        "- 5-7: Nota Média\n",
        "- 8-9: Nota Alta\n",
        "- 10: Nota Excelente\n",
        "\n",
        "\n",
        "Exiba a classificação correspondente.\n",
        "\"\"\"\n",
        "\n",
        "nota = int(input(\"Manda um numero inteiro entre 0 e 10: \"))\n",
        "match nota:\n",
        "  case 0 | 1 | 2 | 3 | 4:\n",
        "    print(\"Nota Baixa\")\n",
        "  case 5 | 6 | 7:\n",
        "    print(\"Nota Média\")\n",
        "  case 8 | 9:\n",
        "    print(\"Nota Alta\")\n",
        "  case 10:\n",
        "    print(\"Nota Excelente\")\n",
        "  case _:\n",
        "    print(\"Nota inválida! Digite um número entre 0 e 10.\")\n",
        "\n",
        "#VERSAO DO PROFESSOR\n",
        "\n",
        "nota = int(input(\"Digite sua nota: \"))\n",
        "\n",
        "\n",
        "match nota:\n",
        "    case 0 | 1 | 2 | 3 | 4:\n",
        "        print(\"\\nNota Baixa\")\n",
        "    case 5 | 6 | 7:\n",
        "        print(\"\\nNota Média\")\n",
        "    case 8 | 9:\n",
        "        print(\"\\nNota Alta\")\n",
        "    case 10:\n",
        "        print(\"\\nNota Excelente\")\n",
        "    case _:\n",
        "        print(\"\\nNota inválida...\")\n"
      ],
      "metadata": {
        "colab": {
          "base_uri": "https://localhost:8080/"
        },
        "id": "fzRmjnS2heE5",
        "outputId": "da7ee6dd-83b3-48b6-83cd-b612d59cdf6e"
      },
      "execution_count": null,
      "outputs": [
        {
          "output_type": "stream",
          "name": "stdout",
          "text": [
            "Manda um numero inteiro entre 0 e 10: 6\n",
            "Nota Média\n",
            "Digite sua nota: 6\n",
            "\n",
            "Nota Média\n"
          ]
        }
      ]
    },
    {
      "cell_type": "code",
      "source": [
        "nota = int(input(\"Digite uma nota inteira entre 0 e 10: \"))\n",
        "\n",
        "if 0 <= nota <= 10:\n",
        "  match nota:\n",
        "      case 0 | 1 | 2 | 3 | 4:\n",
        "        print(\"Nota Baixa\")\n",
        "      case 5 | 6 | 7:\n",
        "        print(\"Nota Média\")\n",
        "      case 8 | 9:\n",
        "        print(\"Nota Alta\")\n",
        "      case 10:\n",
        "        print(\"Nota Excelente\")\n",
        "else:\n",
        "    print(\"Nota inválida! Digite um número entre 0 e 10.\")"
      ],
      "metadata": {
        "colab": {
          "base_uri": "https://localhost:8080/"
        },
        "id": "Y_tF9JKYjogg",
        "outputId": "8b1babbb-0a5a-4761-c225-9a0f49a7b6ec"
      },
      "execution_count": null,
      "outputs": [
        {
          "output_type": "stream",
          "name": "stdout",
          "text": [
            "Digite uma nota inteira entre 0 e 10: 6\n",
            "Nota Média\n",
            "Digite sua nota: 6\n",
            "\n",
            "Nota Média\n"
          ]
        }
      ]
    },
    {
      "cell_type": "code",
      "source": [
        "# DESAFIO 02\n",
        "\"\"\"\n",
        "Refaça o DESAFIO 01 considerando notas com casas decimais.\n",
        "\"\"\"\n",
        "nota = float(input(\"Digite sua nota: \"))\n",
        "\n",
        "\n",
        "match nota:\n",
        "    case _ if nota < 0:\n",
        "        print(\"\\nNota inválida...\")\n",
        "    case _ if nota < 5:\n",
        "        print(\"\\nNota Baixa\")\n",
        "    case _ if nota <= 7:\n",
        "        print(\"\\nNota Média\")\n",
        "    case  _ if nota < 10:\n",
        "        print(\"\\nNota Alta\")\n",
        "    case 10:\n",
        "        print(\"\\nNota Excelente\")\n",
        "    case _:\n",
        "        print(\"\\nNota inválida...\")\n",
        "\n",
        "#Versão do Professor\n",
        "\n",
        "nota = float(input(\"Digite sua nota: \"))\n",
        "\n",
        "\n",
        "match nota:\n",
        "    case _ if nota < 0:\n",
        "        print(\"\\nNota inválida...\")\n",
        "    case _ if nota < 5:\n",
        "        print(\"\\nNota Baixa\")\n",
        "    case _ if nota <= 7:\n",
        "        print(\"\\nNota Média\")\n",
        "    case  _ if nota < 10:\n",
        "        print(\"\\nNota Alta\")\n",
        "    case 10:\n",
        "        print(\"\\nNota Excelente\")\n",
        "    case _:\n",
        "        print(\"\\nNota inválida...\")"
      ],
      "metadata": {
        "id": "2weoyKXJkZjX"
      },
      "execution_count": null,
      "outputs": []
    },
    {
      "cell_type": "code",
      "source": [
        "# DESAFIO 03\n",
        "\"\"\"\n",
        "Crie um programa que peça ao usuário para inserir um número de 1 a 7,\n",
        "onde cada número representa um dia da semana (1 para domingo, 2 para segunda-feira\n",
        "e assim por diante).\n",
        "Use match case para imprimir o nome do dia da semana correspondente.\n",
        "\"\"\"\n",
        "num = int(input(\"Digite um número entre 1 e 7: \"))\n",
        "\n",
        "\n",
        "match num:\n",
        "    case 1:\n",
        "        print(\"\\nDomingo\")\n",
        "    case 2:\n",
        "        print(\"\\nSegunda\")\n",
        "    case 3:\n",
        "        print(\"\\nTerça\")\n",
        "    case 4:\n",
        "        print(\"\\nQuarta\")\n",
        "    case 5:\n",
        "        print(\"\\nQuinta\")\n",
        "    case 6:\n",
        "        print(\"\\nSexta\")\n",
        "    case 7:\n",
        "        print(\"\\nSábado\")\n",
        "    case _:\n",
        "        print(\"\\nDia inválido\")"
      ],
      "metadata": {
        "colab": {
          "base_uri": "https://localhost:8080/"
        },
        "id": "9akXe69YToKE",
        "outputId": "f03d581a-0e51-49f1-f752-a27428c1df1a"
      },
      "execution_count": null,
      "outputs": [
        {
          "output_type": "stream",
          "name": "stdout",
          "text": [
            "Digite um número entre 1 e 7: 2\n",
            "\n",
            "Segunda\n"
          ]
        }
      ]
    },
    {
      "cell_type": "code",
      "source": [
        "# DESAFIO 04\n",
        "\"\"\"\n",
        "Implemente uma calculadora simples que realiza as operações de adição, subtração, multiplicação e divisão.\n",
        "O usuário deve inserir dois números e, em seguida, selecionar a operação desejada (+, -, *, /).\n",
        "Use o comando match case para realizar a operação correta e exibir o resultado.\n",
        "\"\"\"\n",
        "a = int(input(\"Digite o primeiro numero: \"))\n",
        "b = int(input(\"Digite o segundo numero: \"))\n",
        "op = str(input(\"Digite um o caractere que deseja operar: \"))\n",
        "match op:\n",
        "    case \"+\":\n",
        "        print(a+b)\n",
        "    case \"-\":\n",
        "        print(a-b)\n",
        "    case \"*\":\n",
        "        print(a*b)\n",
        "    case \"/\":\n",
        "        print(a/b)\n",
        "    case '.':\n",
        "        print(\"CABOU\")\n"
      ],
      "metadata": {
        "colab": {
          "base_uri": "https://localhost:8080/"
        },
        "id": "j3hljewgTkIV",
        "outputId": "0be953e7-9727-4fd6-8c52-986d6882dd89"
      },
      "execution_count": null,
      "outputs": [
        {
          "output_type": "stream",
          "name": "stdout",
          "text": [
            "Digite o primeiro numero: 5\n",
            "Digite o segundo numero: 5\n",
            "Digite um o caractere que deseja operar: .\n",
            "CABOU\n"
          ]
        }
      ]
    },
    {
      "cell_type": "code",
      "source": [
        "# DESAFIO 05\n",
        "\"\"\"\n",
        "Crie um programa que peça ao usuário para inserir uma letra. O programa deve utilizar match case\n",
        "para verificar se a letra é uma vogal.\n",
        "\"\"\"\n",
        "\n",
        "letra = str(input(\"Digite uma letra: \")).lower()\n",
        "\n",
        "match letra:\n",
        "  case 'a'|'e'|'i'|'o'|'u':\n",
        "    print(\"É vogal\")\n",
        "  case _:\n",
        "    print(\"Não é vogal\")\n",
        "\n",
        "#VERSAO DO PROFESSOR\n",
        "\n",
        "letra = input(\"Digite uma letra: \").lower()\n",
        "\n",
        "\n",
        "match letra:\n",
        "    case 'a' | 'e' | 'i' | 'o' | 'u':\n",
        "        print(\"\\n\\033[32mÉ uma vogal...\")\n",
        "    case _:\n",
        "        print(\"\\n\\033[31mNão é uma vogal...\")"
      ],
      "metadata": {
        "colab": {
          "base_uri": "https://localhost:8080/"
        },
        "id": "ZbphVl-jTlAE",
        "outputId": "850faf87-4daf-4ffa-9695-c9a1f5f3b040"
      },
      "execution_count": null,
      "outputs": [
        {
          "output_type": "stream",
          "name": "stdout",
          "text": [
            "Digite uma letra: l\n",
            "É conçoante\n"
          ]
        }
      ]
    },
    {
      "cell_type": "code",
      "source": [
        "# DESAFIO 06\n",
        "\"\"\"\n",
        "Crie um programa que peça ao usuário para inserir uma letra. O programa deve utilizar match case\n",
        "para verificar se a letra é uma vogal (a, e, i, o, u) ou uma consoante, e então exibir uma mensagem apropriada.\n",
        "\"\"\"\n",
        "ins_letra = str(input(\"Digite uma letra: \")).lower()\n",
        "\n",
        "match letra:\n",
        "  case 'a'|'e'|'i'|'o'|'u':\n",
        "    print(\"É vogal\")\n",
        "  case _:\n",
        "    print(\"É conçoante\")\n",
        "\n",
        "#VERSÃO DO PROFESSOR\n",
        "\n",
        "letra = input(\"Digite uma letra: \").lower()\n",
        "\n",
        "\n",
        "match letra:\n",
        "    case 'a' | 'e' | 'i' | 'o' | 'u':\n",
        "        print(\"\\n\\033[32mÉ uma vogal...\")\n",
        "    case _ if letra.isalpha():\n",
        "        print(\"\\n\\033[33mÉ uma consoante...\")\n",
        "    case _:\n",
        "        print(\"\\n\\033[31mNão é uma vogal...\")"
      ],
      "metadata": {
        "colab": {
          "base_uri": "https://localhost:8080/"
        },
        "id": "-RR9dSf-TrxU",
        "outputId": "02ffac41-e39f-4e2d-beea-e4dd12bc0395"
      },
      "execution_count": null,
      "outputs": [
        {
          "output_type": "stream",
          "name": "stdout",
          "text": [
            "Digite uma letra: asa\n",
            "É conçoante\n"
          ]
        }
      ]
    },
    {
      "cell_type": "code",
      "source": [
        "#DESAFIO VERSAO2\n",
        "letra = input(\"Digite uma letra: \").lower()\n",
        "\n",
        "\n",
        "match letra:\n",
        "    case 'a' | 'e' | 'i' | 'o' | 'u':\n",
        "        print(\"\\n\\033[32mÉ uma vogal...\")\n",
        "    case _ if letra.isalpha():\n",
        "        print(\"\\n\\033[33mÉ uma consoante...\")\n",
        "    case _ if letra.isnumeric():\n",
        "        print(\"\\n\\033[33mÉ um número...\")\n",
        "    case _:\n",
        "        print(\"\\n\\033[34mÉ um caracter especial...\")"
      ],
      "metadata": {
        "id": "CrgLem_CoTS6"
      },
      "execution_count": null,
      "outputs": []
    },
    {
      "cell_type": "code",
      "source": [
        "# DESAFIO 07\n",
        "\"\"\"\n",
        "Escreva um programa que converta valores entre diferentes moedas.\n",
        "O usuário deve inserir o valor em reais e selecionar a moeda para conversão:\n",
        "D (Dólar), E (Euro), ou L (Libra). Utilize match case para aplicar a conversão\n",
        "correta com base nas taxas fictícias fornecidas a seguir:\n",
        "\n",
        "\n",
        "1 Real = 0.18 Dólar\n",
        "1 Real = 0.16 Euro\n",
        "1 Real = 0.13 Libra\n",
        "\n",
        "\n",
        "Símbolos: $ € £\n",
        "\"\"\"\n",
        "money = float(input(\"Digite o valor em R$\"))\n",
        "op = input(\"Digite a moeda que deseja converter: D - Dollar, E - Euro, L -Libras \").upper()\n",
        "dollar = money/5.59\n",
        "euro = money/6.39\n",
        "libra = money/7.59\n",
        "\n",
        "match op:\n",
        "  case \"D\":\n",
        "    print(f'Receberá ${dollar:,.2f}')\n",
        "  case \"E\":\n",
        "    print(f'Receberá €{euro:,.2f}')\n",
        "  case \"L\":\n",
        "    print(f'Receberá £{libra:,.2f}')\n",
        "\n"
      ],
      "metadata": {
        "colab": {
          "base_uri": "https://localhost:8080/"
        },
        "id": "wcb6FR-ATtpc",
        "outputId": "20d4688b-3367-43c2-b73f-37fc627f085f"
      },
      "execution_count": null,
      "outputs": [
        {
          "output_type": "stream",
          "name": "stdout",
          "text": [
            "Digite o valor em R$500\n",
            "Digite a moeda que deseja converter: D - Dollar, E - Euro, L -Libras D\n",
            "Receberá $89.45\n"
          ]
        }
      ]
    },
    {
      "cell_type": "code",
      "source": [
        "# DESAFIO 07 v2\n",
        "\n",
        "dolar = 0.18\n",
        "euro = 0.16\n",
        "libra = 0.13\n",
        "\n",
        "print(\"\"\"\n",
        "___________________________\n",
        "\n",
        "🤑\\033[1;32m  CONVERSÃO DE MOEDAS \\033[0m 💲\n",
        "___________________________\n",
        "\"\"\")\n",
        "\n",
        "valor = float(input(\"Digite um valor em R$ para conversão: \\n\\n\"))\n",
        "conversao = input(\"\\nEscolha a moeda: D (Dólar) E (Euro) L (Libra) \\n\\n\").lower()\n",
        "\n",
        "\n",
        "match conversao:\n",
        "    case 'd':\n",
        "        print(f\"\\n$ {(valor*dolar):,.2f}\")\n",
        "    case 'e':\n",
        "        print(f\"\\n€ {(valor*euro):,.2f}\")\n",
        "    case 'l':\n",
        "        print(f\"\\n£ {(valor*libra):,.2f}\")\n",
        "    case _:\n",
        "        print(\"\\n\\033[31mConversão inválida...\")"
      ],
      "metadata": {
        "id": "Z0bVG5VEbFCm"
      },
      "execution_count": null,
      "outputs": []
    },
    {
      "cell_type": "markdown",
      "source": [
        "##06 LAÇO DE REPETIÇÃO FOR"
      ],
      "metadata": {
        "id": "2_85hAXbs4cK"
      }
    },
    {
      "cell_type": "code",
      "source": [
        "#EXEMPLO 01\n",
        "\n",
        "for i in range(1,6):\n",
        "  print(i, end=' ')"
      ],
      "metadata": {
        "colab": {
          "base_uri": "https://localhost:8080/"
        },
        "id": "R1P40Mvss4IS",
        "outputId": "71a5b394-c037-4f6b-f2d5-e55bda25c502"
      },
      "execution_count": null,
      "outputs": [
        {
          "output_type": "stream",
          "name": "stdout",
          "text": [
            "1\n",
            "2\n",
            "3\n",
            "4\n",
            "5\n"
          ]
        }
      ]
    },
    {
      "cell_type": "code",
      "source": [
        "#EXEMPLO 02\n",
        "\n",
        "for i in range(1,10,2):\n",
        "  print(i, end=' ')"
      ],
      "metadata": {
        "id": "HrZ5y377tDTJ",
        "colab": {
          "base_uri": "https://localhost:8080/"
        },
        "outputId": "3f633787-0683-4c05-bdd2-be66677c44cd"
      },
      "execution_count": null,
      "outputs": [
        {
          "output_type": "stream",
          "name": "stdout",
          "text": [
            "1 3 5 7 9 "
          ]
        }
      ]
    },
    {
      "cell_type": "code",
      "source": [
        "# EXEMPLO 03\n",
        "inicio, fim, salto = 5, 0, -1\n",
        "\n",
        "\n",
        "for i in range(inicio, fim, salto):\n",
        "    print(i, end=' ')"
      ],
      "metadata": {
        "id": "fQno1QkggW2k"
      },
      "execution_count": null,
      "outputs": []
    },
    {
      "cell_type": "code",
      "source": [
        "# EXEMPLO 04\n",
        "\n",
        "\n",
        "for i in range(5):\n",
        "    print(f\"{i+1} | SENAI\")"
      ],
      "metadata": {
        "id": "69XGrrTqgW0U"
      },
      "execution_count": null,
      "outputs": []
    },
    {
      "cell_type": "code",
      "source": [
        "# EXEMPLO 05\n",
        "\n",
        "\n",
        "texto = 'Python'\n",
        "\n",
        "\n",
        "for letra in texto:\n",
        "    # pass\n",
        "    print('\\033[31m', letra.upper(), end='   ')"
      ],
      "metadata": {
        "id": "rZuIuIhhgWx0"
      },
      "execution_count": null,
      "outputs": []
    },
    {
      "cell_type": "code",
      "source": [
        "# EXEMPLO 06\n",
        "\n",
        "\n",
        "frase = ['PYTHON', 'É', 'FANTÁSTICO']\n",
        "\n",
        "\n",
        "for palavra in frase:\n",
        "    print(palavra)"
      ],
      "metadata": {
        "id": "PNdeAHVYgWu1"
      },
      "execution_count": null,
      "outputs": []
    },
    {
      "cell_type": "code",
      "source": [
        "# EXEMPLO 07\n",
        "\"\"\" continue pula a iteração \"\"\"\n",
        "\n",
        "\n",
        "lista = [1, 10, 20, 30, 40, 50]\n",
        "\n",
        "\n",
        "for numero in lista:\n",
        "    if numero == 30:\n",
        "        continue\n",
        "    print(numero, end=' ')"
      ],
      "metadata": {
        "id": "AIriH68FgWqF"
      },
      "execution_count": null,
      "outputs": []
    },
    {
      "cell_type": "code",
      "source": [
        "# EXEMPLO 08\n",
        "\"\"\" break finaliza o laço \"\"\"\n",
        "\n",
        "\n",
        "for i in range(50):\n",
        "    if i >= 10:\n",
        "        break\n",
        "    print(i+1, end=' ')"
      ],
      "metadata": {
        "id": "YeaVV5_fgWj0"
      },
      "execution_count": null,
      "outputs": []
    },
    {
      "cell_type": "code",
      "source": [
        "# EXEMPLO 09\n",
        "\n",
        "\n",
        "frase = ['PYTHON', 'É', 'FANTÁSTICO!']\n",
        "\n",
        "\n",
        "for i in range(len(frase)):\n",
        "    print(frase[i])"
      ],
      "metadata": {
        "id": "sxO8cWUrgWat"
      },
      "execution_count": null,
      "outputs": []
    },
    {
      "cell_type": "code",
      "source": [
        "# EXEMPLO 10\n",
        "\n",
        "\n",
        "frase = ['PYTHON', 'É', 'FANTÁSTICO!']\n",
        "\n",
        "\n",
        "for i, palavra in enumerate(frase):\n",
        "    print(i, palavra)"
      ],
      "metadata": {
        "colab": {
          "base_uri": "https://localhost:8080/"
        },
        "id": "wrntJUGJghms",
        "outputId": "a3179193-3682-4cb9-86f7-724d68975404"
      },
      "execution_count": null,
      "outputs": [
        {
          "output_type": "stream",
          "name": "stdout",
          "text": [
            "0 PYTHON\n",
            "1 É\n",
            "2 FANTÁSTICO!\n"
          ]
        }
      ]
    },
    {
      "cell_type": "code",
      "source": [
        "# EXEMPLO 11\n",
        "\n",
        "\n",
        "for i in range(1, 11):\n",
        "    for j in range(1, 11):\n",
        "        print(f\"{i*j}\".rjust(3), end=' ')\n",
        "    print()"
      ],
      "metadata": {
        "colab": {
          "base_uri": "https://localhost:8080/"
        },
        "id": "O14tuhvpghgN",
        "outputId": "e988b36d-1ca6-4bbe-9fe1-c3a57697ed80"
      },
      "execution_count": null,
      "outputs": [
        {
          "output_type": "stream",
          "name": "stdout",
          "text": [
            "  1   2   3   4   5   6   7   8   9  10 \n",
            "  2   4   6   8  10  12  14  16  18  20 \n",
            "  3   6   9  12  15  18  21  24  27  30 \n",
            "  4   8  12  16  20  24  28  32  36  40 \n",
            "  5  10  15  20  25  30  35  40  45  50 \n",
            "  6  12  18  24  30  36  42  48  54  60 \n",
            "  7  14  21  28  35  42  49  56  63  70 \n",
            "  8  16  24  32  40  48  56  64  72  80 \n",
            "  9  18  27  36  45  54  63  72  81  90 \n",
            " 10  20  30  40  50  60  70  80  90 100 \n"
          ]
        }
      ]
    },
    {
      "cell_type": "code",
      "source": [
        "# EXEMPLO 12\n",
        "\n",
        "\n",
        "for i in range(0, 11):\n",
        "    for j in range(0, 11):\n",
        "        print(f\"{i+j}\".rjust(3), end=' ')\n",
        "    print()\n"
      ],
      "metadata": {
        "colab": {
          "base_uri": "https://localhost:8080/"
        },
        "id": "GC_6lOW9WJ3d",
        "outputId": "0f42d23f-f893-44e8-c8ce-066e3cd7e041"
      },
      "execution_count": null,
      "outputs": [
        {
          "output_type": "stream",
          "name": "stdout",
          "text": [
            "  0   1   2   3   4   5   6   7   8   9  10 \n",
            "  1   2   3   4   5   6   7   8   9  10  11 \n",
            "  2   3   4   5   6   7   8   9  10  11  12 \n",
            "  3   4   5   6   7   8   9  10  11  12  13 \n",
            "  4   5   6   7   8   9  10  11  12  13  14 \n",
            "  5   6   7   8   9  10  11  12  13  14  15 \n",
            "  6   7   8   9  10  11  12  13  14  15  16 \n",
            "  7   8   9  10  11  12  13  14  15  16  17 \n",
            "  8   9  10  11  12  13  14  15  16  17  18 \n",
            "  9  10  11  12  13  14  15  16  17  18  19 \n",
            " 10  11  12  13  14  15  16  17  18  19  20 \n"
          ]
        }
      ]
    },
    {
      "cell_type": "code",
      "source": [
        "# DESAFIO 01\n",
        "\"\"\"\n",
        "Crie um programa que mostre na tela todos os números pares que estão\n",
        "no intervalo entre 1 e 50.\n",
        "\"\"\"\n",
        "i = 1\n",
        "for num in range(0,50,2):\n",
        "  print(num)"
      ],
      "metadata": {
        "colab": {
          "base_uri": "https://localhost:8080/"
        },
        "collapsed": true,
        "id": "bf7r2rqGglWF",
        "outputId": "79efe514-4f59-46c8-ec62-41986b1e4397"
      },
      "execution_count": null,
      "outputs": [
        {
          "output_type": "stream",
          "name": "stdout",
          "text": [
            "0\n",
            "2\n",
            "4\n",
            "6\n",
            "8\n",
            "10\n",
            "12\n",
            "14\n",
            "16\n",
            "18\n",
            "20\n",
            "22\n",
            "24\n",
            "26\n",
            "28\n",
            "30\n",
            "32\n",
            "34\n",
            "36\n",
            "38\n",
            "40\n",
            "42\n",
            "44\n",
            "46\n",
            "48\n"
          ]
        }
      ]
    },
    {
      "cell_type": "code",
      "source": [
        "# DESAFIO 02\n",
        "\"\"\"\n",
        "Faça um programa que calcule a soma entre todos os números ímpares\n",
        "que são múltiplos de três e que se encontram no intervalo de 1 até 500.\n",
        "\"\"\"\n",
        "\n",
        "soma = 0\n",
        "for x in range(0,500,3):\n",
        "  if x%2 != 0:\n",
        "    soma += x\n",
        "print(f'O total é de: {soma}')"
      ],
      "metadata": {
        "colab": {
          "base_uri": "https://localhost:8080/"
        },
        "id": "0R1-ksSCg29N",
        "outputId": "6b843ea7-44bb-46e2-da60-20f325f3547f"
      },
      "execution_count": null,
      "outputs": [
        {
          "output_type": "stream",
          "name": "stdout",
          "text": [
            "O total é de: 20667\n"
          ]
        }
      ]
    },
    {
      "cell_type": "code",
      "source": [
        "# DESAFIO 03\n",
        "\"\"\"\n",
        "Mostre a tabuada de um número que o usuário escolher.\n",
        "\"\"\"\n",
        "\n",
        "num = int(input(\"Digite um numero: \"))\n",
        "for i in range(1,11):\n",
        "  print(f'{num} X {i} = {num*i}')"
      ],
      "metadata": {
        "colab": {
          "base_uri": "https://localhost:8080/"
        },
        "id": "Py_Iy04Uh0Ud",
        "outputId": "f205c99e-dfb4-4ac3-de61-678b814c675d"
      },
      "execution_count": null,
      "outputs": [
        {
          "output_type": "stream",
          "name": "stdout",
          "text": [
            "Digite um numero: 5\n",
            "5 X 1 = 5\n",
            "5 X 2 = 10\n",
            "5 X 3 = 15\n",
            "5 X 4 = 20\n",
            "5 X 5 = 25\n",
            "5 X 6 = 30\n",
            "5 X 7 = 35\n",
            "5 X 8 = 40\n",
            "5 X 9 = 45\n",
            "5 X 10 = 50\n"
          ]
        }
      ]
    },
    {
      "cell_type": "code",
      "source": [
        "# DESAFIO 04\n",
        "\"\"\"\n",
        "Faça um programa que mostre na tela uma contagem regressiva para\n",
        "o estouro de fogos de artifício, indo de 10 até 0, com uma pausa\n",
        "de 1 segundo entre eles.\n",
        "Utilizar a Biblioteca time | time.sleep(segundos)\n",
        "\"\"\"\n",
        "import time\n",
        "i = 10\n",
        "for i in range(10,0,-1):\n",
        "  time.sleep(1)\n",
        "  print(i)\n",
        "print(\"🎆🎆🎇🎇🎆🎆🎇🎇\")"
      ],
      "metadata": {
        "id": "POyReC-skRac",
        "colab": {
          "base_uri": "https://localhost:8080/"
        },
        "outputId": "5ed70480-8f5f-4357-9fbd-5051dc95d003"
      },
      "execution_count": 30,
      "outputs": [
        {
          "output_type": "stream",
          "name": "stdout",
          "text": [
            "10\n",
            "9\n",
            "8\n",
            "7\n",
            "6\n",
            "5\n",
            "4\n",
            "3\n",
            "2\n",
            "1\n",
            "🎆🎆🎇🎇🎆🎆🎇🎇\n"
          ]
        }
      ]
    },
    {
      "cell_type": "code",
      "source": [
        "# DESAFIO 05\n",
        "\"\"\"\n",
        "Desenvolva um programa que leia seis números inteiros e mostre a soma apenas\n",
        "daqueles que forem pares. Se o valor digitado for ímpar desconsidere-o.\n",
        "\"\"\"\n",
        "\n",
        "soma = 0\n",
        "for x in range(1,7):\n",
        "  num = int(input(f'Digite o numero {x}: \\n'))\n",
        "  if num%2 == 0:\n",
        "    soma += num\n",
        "print(f'O total é de: {soma}')\n"
      ],
      "metadata": {
        "id": "Nfizf1upmX0_",
        "colab": {
          "base_uri": "https://localhost:8080/"
        },
        "outputId": "b8403291-d4f9-4303-c872-078dc4c7b050"
      },
      "execution_count": 31,
      "outputs": [
        {
          "output_type": "stream",
          "name": "stdout",
          "text": [
            "Digite o numero 1: \n",
            "6\n",
            "Digite o numero 2: \n",
            "6\n",
            "Digite o numero 3: \n",
            "6\n",
            "Digite o numero 4: \n",
            "2\n",
            "Digite o numero 5: \n",
            "4\n",
            "Digite o numero 6: \n",
            "2\n",
            "O total é de: 26\n"
          ]
        }
      ]
    },
    {
      "cell_type": "code",
      "source": [
        "# DESAFIO 06\n",
        "\"\"\"\n",
        "Desenvolva um programa que leia o primeiro termo e a razão de uma PA.\n",
        "No final, mostre os 10 primeiros termos dessa progressão.\n",
        "\"\"\"\n",
        "\n",
        "primeiro_termo = int(input(\"Digite o primeiro termo da PA: \"))\n",
        "razao = int(input(\"Digite a razão da PA: \"))\n",
        "\n",
        "#an = a1 + (n-1) * r\n",
        "for n in range(1, 11):\n",
        "    termo = primeiro_termo + (n - 1) * razao\n",
        "    print(f\"Termo {n}: {termo}\")\n"
      ],
      "metadata": {
        "colab": {
          "base_uri": "https://localhost:8080/"
        },
        "id": "JGSUfXQfx27_",
        "outputId": "fd8f8770-e861-422c-f0a5-a502e77c81e3"
      },
      "execution_count": 32,
      "outputs": [
        {
          "output_type": "stream",
          "name": "stdout",
          "text": [
            "Digite o primeiro termo da PA: 25\n",
            "Digite a razão da PA: 2\n",
            "Termo 1: 25\n",
            "Termo 2: 27\n",
            "Termo 3: 29\n",
            "Termo 4: 31\n",
            "Termo 5: 33\n",
            "Termo 6: 35\n",
            "Termo 7: 37\n",
            "Termo 8: 39\n",
            "Termo 9: 41\n",
            "Termo 10: 43\n"
          ]
        }
      ]
    },
    {
      "cell_type": "code",
      "source": [],
      "metadata": {
        "id": "-rWk0DUN4Fqw"
      },
      "execution_count": null,
      "outputs": []
    }
  ]
}