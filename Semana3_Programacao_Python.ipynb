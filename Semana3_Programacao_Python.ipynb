{
  "nbformat": 4,
  "nbformat_minor": 0,
  "metadata": {
    "colab": {
      "provenance": [],
      "authorship_tag": "ABX9TyOorHUJvJoOf4piv53ffAhK",
      "include_colab_link": true
    },
    "kernelspec": {
      "name": "python3",
      "display_name": "Python 3"
    },
    "language_info": {
      "name": "python"
    }
  },
  "cells": [
    {
      "cell_type": "markdown",
      "metadata": {
        "id": "view-in-github",
        "colab_type": "text"
      },
      "source": [
        "<a href=\"https://colab.research.google.com/github/vamvieira/Aulas_Senai/blob/main/Semana3_Programacao_Python.ipynb\" target=\"_parent\"><img src=\"https://colab.research.google.com/assets/colab-badge.svg\" alt=\"Open In Colab\"/></a>"
      ]
    },
    {
      "cell_type": "markdown",
      "source": [
        "# ESTRUTURAS CONDICIONAIS\n",
        "\n",
        "\n",
        "\n",
        "```\n",
        "OPERADORES RELACIONAIS (OU DE COMPARAÇÃO)\n",
        "\n",
        "\n",
        ">  MAIOR\n",
        "<  MENOR\n",
        ">= MAIOR OU IGUAL\n",
        "<= MENOR OU IGUAL\n",
        "== IGUAL\n",
        "!= DIFERENTE\n",
        "\n",
        "\n",
        "OPERADORES LÓGICOS\n",
        "\n",
        "\n",
        "and | or | not | in | not in\n",
        "```"
      ],
      "metadata": {
        "id": "oHUvqRjJ2RAm"
      }
    },
    {
      "cell_type": "code",
      "source": [
        "# BLOCO if\n",
        "\n",
        "\n",
        "x = 10\n",
        "if x > 5:\n",
        "    print(\"É maior que 5\")\n",
        "    if x < 8:\n",
        "        print(\"Também é menor que 8\")\n",
        "if x == 10:\n",
        "    print(\"X vale 10\")\n"
      ],
      "metadata": {
        "colab": {
          "base_uri": "https://localhost:8080/"
        },
        "id": "Sz2INjjO2Ved",
        "outputId": "a7bdd39d-794b-4e6f-cb40-d5450c6c5390"
      },
      "execution_count": null,
      "outputs": [
        {
          "output_type": "stream",
          "name": "stdout",
          "text": [
            "É maior que 5\n",
            "X vale 10\n"
          ]
        }
      ]
    },
    {
      "cell_type": "code",
      "source": [
        "# BLOCO if else\n",
        "\n",
        "\n",
        "y = 9\n",
        "if y != 8:\n",
        "    print(\"É diferente de 8\")\n",
        "else:\n",
        "    print(\"É igual a 8\")"
      ],
      "metadata": {
        "colab": {
          "base_uri": "https://localhost:8080/"
        },
        "id": "IZBImmXT2XQv",
        "outputId": "e3dacf75-0f18-406f-b051-f87de62a3e54"
      },
      "execution_count": null,
      "outputs": [
        {
          "output_type": "stream",
          "name": "stdout",
          "text": [
            "É diferente de 8\n"
          ]
        }
      ]
    },
    {
      "cell_type": "code",
      "source": [
        "# BLOCO if elif else\n",
        "\n",
        "\n",
        "z = 15\n",
        "if z <= 10:\n",
        "    print(\"Frio\")\n",
        "elif z <= 20:\n",
        "    print(\"Morno\")\n",
        "elif z <= 30:\n",
        "    print(\"Quente\")\n",
        "else:\n",
        "    print(\"Muito quente\")"
      ],
      "metadata": {
        "colab": {
          "base_uri": "https://localhost:8080/"
        },
        "id": "-Hyk2SeI2Ypu",
        "outputId": "1efdcbe8-ba34-4340-fe14-10fa4e7e787e"
      },
      "execution_count": null,
      "outputs": [
        {
          "output_type": "stream",
          "name": "stdout",
          "text": [
            "Morno\n"
          ]
        }
      ]
    },
    {
      "cell_type": "code",
      "source": [
        "# BLOCO COM and\n",
        "\n",
        "\n",
        "n = 20.1\n",
        "if n >= 10 and n <= 20:\n",
        "    print(\"N está entre 10 e 20 👍\")\n",
        "else:\n",
        "    print(\"N não está entre 10 e 20 👎\")"
      ],
      "metadata": {
        "colab": {
          "base_uri": "https://localhost:8080/"
        },
        "id": "B4YXe-eX2Z5e",
        "outputId": "3b620c03-37e2-43e3-c6b9-dde793301e5b"
      },
      "execution_count": null,
      "outputs": [
        {
          "output_type": "stream",
          "name": "stdout",
          "text": [
            "N não está entre 10 e 20 👎\n"
          ]
        }
      ]
    },
    {
      "cell_type": "code",
      "source": [
        "# BLOCO COM or\n",
        "\n",
        "\n",
        "casado = True\n",
        "filhos = False\n",
        "\n",
        "\n",
        "if casado or filhos:\n",
        "    print(\"Corre!!!!\")\n",
        "else:\n",
        "    print(\"Livre para casar...\")"
      ],
      "metadata": {
        "colab": {
          "base_uri": "https://localhost:8080/"
        },
        "id": "2RCG4frh2bnO",
        "outputId": "9b306846-9743-4366-87bc-3ef5232cee3c"
      },
      "execution_count": null,
      "outputs": [
        {
          "output_type": "stream",
          "name": "stdout",
          "text": [
            "Corre!!!!\n"
          ]
        }
      ]
    },
    {
      "cell_type": "code",
      "source": [
        "# BLOCO COM in\n",
        "\n",
        "\n",
        "escola = \"SENAI Ary Torres\"\n",
        "min = escola.lower()\n",
        "if 'ary' in min:\n",
        "    print(\"Tem Ary no nome!\")\n",
        "else:\n",
        "    print(\"Não tem Ary no nome!\")\n",
        "print('\\n', escola)"
      ],
      "metadata": {
        "colab": {
          "base_uri": "https://localhost:8080/"
        },
        "id": "6j_58pPq2dFO",
        "outputId": "4f41e661-60d8-4f32-b421-6085c0fdb010"
      },
      "execution_count": null,
      "outputs": [
        {
          "output_type": "stream",
          "name": "stdout",
          "text": [
            "Tem Ary no nome!\n",
            "\n",
            " SENAI Ary Torres\n"
          ]
        }
      ]
    },
    {
      "cell_type": "code",
      "source": [
        "# BLOCO COM not in\n",
        "\n",
        "\n",
        "escola = \"SENAI Ary Torres\"\n",
        "\n",
        "\n",
        "if 'Ary' not in escola:\n",
        "    print(\"Não tem Ary no nome!\")\n",
        "else:\n",
        "    print(\"Tem Ary no nome!\")"
      ],
      "metadata": {
        "colab": {
          "base_uri": "https://localhost:8080/"
        },
        "id": "ZdK4piA_2eVt",
        "outputId": "c50828b4-f98b-4867-9ae3-fec13b84f5f8"
      },
      "execution_count": null,
      "outputs": [
        {
          "output_type": "stream",
          "name": "stdout",
          "text": [
            "Tem Ary no nome!\n"
          ]
        }
      ]
    },
    {
      "cell_type": "code",
      "source": [
        "# NÃO UTILIZAR ESSA ESTRUTURA!!!!!!\n",
        "\n",
        "\n",
        "a = 3\n",
        "b = 2\n",
        "c = 1\n",
        "\n",
        "\n",
        "if a>b>c: # if a>b and b>c:\n",
        "    print(\"A é maior\")"
      ],
      "metadata": {
        "colab": {
          "base_uri": "https://localhost:8080/"
        },
        "id": "VdJio1Gz2f_-",
        "outputId": "52bd1035-375a-42fe-bb26-d069c1954e75"
      },
      "execution_count": null,
      "outputs": [
        {
          "output_type": "stream",
          "name": "stdout",
          "text": [
            "A é maior\n"
          ]
        }
      ]
    },
    {
      "cell_type": "code",
      "source": [
        "# DESAFIO 01\n",
        "\"\"\"\n",
        "Crie um programa que leia o nome de um bairro e diga se\n",
        "ele começa ou não com o nome Santo.\n",
        "\"\"\"\n",
        "bairro = input(\"Digite o bairro: \").upper()\n",
        "\n",
        "if bairro.split()[0] == 'SANTO':\n",
        "    print(\"\\n\\033[32mComeça com Santo\")\n",
        "else:\n",
        "    print(\"\\n\\033[31mNão começa com santo\")\n"
      ],
      "metadata": {
        "colab": {
          "base_uri": "https://localhost:8080/"
        },
        "id": "XCSbk5N42nrN",
        "outputId": "ce6de085-376b-4937-9853-d394c18a520e"
      },
      "execution_count": null,
      "outputs": [
        {
          "output_type": "stream",
          "name": "stdout",
          "text": [
            "Digite o bairro: Santo amado\n",
            "\n",
            "\u001b[32mComeça com Santo\n"
          ]
        }
      ]
    },
    {
      "cell_type": "code",
      "source": [
        "# DESAFIO 02\n",
        "\n",
        "#O upper nesse caso converte todo texto em maiusculo para caso o usuário digite pequeno não ocorra o erro de identificação por conta do case-sensitive.\n",
        "\"\"\"\n",
        "Crie um programa que leia o nome de uma pessoa e diga se ela\n",
        "tem \"Silva\" no nome.\n",
        "\"\"\"\n",
        "\n",
        "nome = input(\"Digite seu nome: \").upper().split()\n",
        "\n",
        "if 'SILVA' in nome:\n",
        "  print(\"\\nTem Silva\")\n",
        "else:\n",
        "  print(\"\\nNão tem Silva\")"
      ],
      "metadata": {
        "colab": {
          "base_uri": "https://localhost:8080/"
        },
        "id": "o9O5fOpW2rMd",
        "outputId": "5ac153b1-c353-4b42-edab-2f86f7e47e14"
      },
      "execution_count": null,
      "outputs": [
        {
          "output_type": "stream",
          "name": "stdout",
          "text": [
            "Digite seu nome: SILVA\n",
            "\n",
            "Não tem Silva\n"
          ]
        }
      ]
    },
    {
      "cell_type": "code",
      "source": [
        "# DESAFIO 03\n",
        "\"\"\"\n",
        "Crie um programa que leia uma frase qualquer e diga se ela é um palíndromo, exemplo:\n",
        "APOS A SOPA\n",
        "A SACADA DA CASA\n",
        "A TORRE DA DERROTA\n",
        "SOCORRAM ME SUBI NO ONIBUS EM MARROCOS\n",
        "\"\"\"\n",
        "\n",
        "frase = input(\"Digite uma Frase: \").upper().replace(' ', '')\n",
        "invertida = frase[::-1]\n",
        "\n",
        "if frase == invertida:\n",
        "  print(\"\\n\\033[32mÉ um polídromo!\")\n",
        "else:\n",
        "  print(\"\\n\\033[31mNão é um palídromo!\")"
      ],
      "metadata": {
        "colab": {
          "base_uri": "https://localhost:8080/"
        },
        "id": "5Vt_gOZ42sWN",
        "outputId": "25b66b3e-72c2-4ec9-fb54-cd5717e35b05"
      },
      "execution_count": 25,
      "outputs": [
        {
          "output_type": "stream",
          "name": "stdout",
          "text": [
            "Digite uma Frase: apos a sopa\n",
            "\n",
            "\u001b[32mÉ um polídromo!\n"
          ]
        }
      ]
    },
    {
      "cell_type": "code",
      "source": [
        "# DESAFIO 04\n",
        "\"\"\"\n",
        "Escreva um programa que faça o computador sortear um\n",
        "número inteiro entre 1 e 3 e peça para o usuário tentar\n",
        "descobrir qual foi o número escolhido pelo computador.\n",
        "\n",
        "\n",
        "O programa deverá escrever na tela se o usuário venceu ou\n",
        "perdeu.\n",
        "\n",
        "\n",
        "Biblioteca necessária:\n",
        "import random\n",
        "random.randint(0, 1000)\n",
        "\"\"\"\n",
        "import random\n",
        "\n",
        "user = int(input(\"Digite um numero: \"))\n",
        "num = random.randint(1, 3)\n",
        "if num == 1:\n",
        "  print(\"Numero sorteado foi: 1\")\n",
        "elif num == 2:\n",
        "  print(\"Numero sorteado foi: 2\")\n",
        "elif num == 3:\n",
        "  print(\"Numero sorteado foi: 3\")\n",
        "else:\n",
        "  print(\"Ta errado\")\n"
      ],
      "metadata": {
        "id": "CJLp4ye12wpe",
        "colab": {
          "base_uri": "https://localhost:8080/"
        },
        "outputId": "c7a12171-776c-4546-952f-5f99e619d8e1"
      },
      "execution_count": 40,
      "outputs": [
        {
          "output_type": "stream",
          "name": "stdout",
          "text": [
            "Digite um numero: 1\n",
            "Numero sorteado foi: 3\n"
          ]
        }
      ]
    },
    {
      "cell_type": "code",
      "source": [
        "import random\n",
        "\n",
        "user = int(input(\"Digite um numero: \"))\n",
        "num = random.randint(1, 3)\n",
        "\n",
        "if num == user:\n",
        "  print(f'\\n\\033[32mGanhou! O Tigrinho soltou a Carta! 🎆🤑🎆')\n",
        "else:\n",
        "  print(f'\\n\\033[31mPerdeu! O Tigrinho estava com a Carta de n° {num} 🐯')"
      ],
      "metadata": {
        "colab": {
          "base_uri": "https://localhost:8080/"
        },
        "id": "3QDws8Mn_cLN",
        "outputId": "d92c94c1-125e-4680-86d0-960875063d94"
      },
      "execution_count": 52,
      "outputs": [
        {
          "output_type": "stream",
          "name": "stdout",
          "text": [
            "Digite um numero: 2\n",
            "\n",
            "\u001b[31mPerdeu! O Tigrinho estava com a Carta de n° 1 🐯\n"
          ]
        }
      ]
    },
    {
      "cell_type": "code",
      "source": [
        "import random\n",
        "num = random.randint(1, 3)\n",
        "\n",
        "user = int(input(\"Tente adivinhar o número que o computador sorteou (entre 1 e 3): \"))\n",
        "print(f\"O número sorteado foi: {num}\")\n",
        "if user == num:\n",
        "    print(\"Parabéns! Você acertou. 🎉\")\n",
        "else:\n",
        "    print(\"Você errou. Tente novamente!\")\n"
      ],
      "metadata": {
        "colab": {
          "base_uri": "https://localhost:8080/"
        },
        "id": "hcqZ0I3EB4PD",
        "outputId": "50034d59-73ac-4f8c-dc1c-c0e237bc3452"
      },
      "execution_count": 51,
      "outputs": [
        {
          "output_type": "stream",
          "name": "stdout",
          "text": [
            "Tente adivinhar o número que o computador sorteou (entre 1 e 3): 2\n",
            "O número sorteado foi: 3\n",
            "Você errou. Tente novamente!\n"
          ]
        }
      ]
    },
    {
      "cell_type": "code",
      "source": [
        "# DESAFIO 05\n",
        "\"\"\"\n",
        "Escreva um programa que leia a velocidade de um carro.\n",
        "\n",
        "\n",
        "Se ele ultrapassar 80 km/h, mostre uma mensagem dizendo que\n",
        "ele foi multado.\n",
        "\n",
        "\n",
        "A multa custará R$ 7,00 por cada km acima do limite.\n",
        "\"\"\"\n",
        "\n",
        "velo = float(input(\"Digite sua velocidade: \"))\n",
        "if velo > 80:\n",
        "  print(\"O Valor a ser pago é de R$: \", (velo-80)*7)\n",
        "else:\n",
        "  print(\"Não paga nada\")"
      ],
      "metadata": {
        "colab": {
          "base_uri": "https://localhost:8080/"
        },
        "id": "vluOJUUgB4ns",
        "outputId": "1a0ab6ff-3702-4b04-cd4e-dc9d8fc8a8fa"
      },
      "execution_count": 61,
      "outputs": [
        {
          "output_type": "stream",
          "name": "stdout",
          "text": [
            "Digite sua velocidade: 25\n",
            "Não paga nada\n"
          ]
        }
      ]
    },
    {
      "cell_type": "code",
      "source": [
        "# DESAFIO 06\n",
        "\"\"\"\n",
        "Crie um programa que leia um número inteiro e mostre na tela\n",
        "se ele é PAR ou IMPAR.\n",
        "\"\"\"\n",
        "num = int(input(\"Digite um número: \"))\n",
        "print(\"É par\" if num%2 == 0 else \"É impar\")\n",
        "\n"
      ],
      "metadata": {
        "colab": {
          "base_uri": "https://localhost:8080/"
        },
        "id": "6Hb7gI93EFC7",
        "outputId": "9e052700-1fd7-4eb8-91f0-544260df899f"
      },
      "execution_count": 66,
      "outputs": [
        {
          "output_type": "stream",
          "name": "stdout",
          "text": [
            "Digite um número: 5\n",
            "É impar\n"
          ]
        }
      ]
    },
    {
      "cell_type": "code",
      "source": [
        "# DESAFIO 07\n",
        "\"\"\"\n",
        "Escreva um programa que pergunte o salário de um funcionário\n",
        "e calcule o valor do seu aumento.\n",
        "Para salários superiores a R$ 1.250,00, calcule um aumento de\n",
        "10%.\n",
        "Para salários inferiores ou iguais, o aumento é de 15%.\n",
        "\"\"\"\n",
        "\n",
        "info = float(input(\"Informe seu salário: \"))\n",
        "if info > 1250:\n",
        "  print(f'Aumentou para R${info*1.1:,.2f}')\n",
        "else:\n",
        "  print(f'Aumentou para R${info*1.15:,.2f}')"
      ],
      "metadata": {
        "colab": {
          "base_uri": "https://localhost:8080/"
        },
        "id": "i42fz9MQFCi8",
        "outputId": "21657d68-8131-4bf6-be3f-90af8b6126bb"
      },
      "execution_count": 98,
      "outputs": [
        {
          "output_type": "stream",
          "name": "stdout",
          "text": [
            "Informe seu salário: 1.250\n",
            "Aumentou para R$0.0625\n"
          ]
        }
      ]
    },
    {
      "cell_type": "code",
      "source": [
        "# DESAFIO 08\n",
        "\"\"\"\n",
        "Desenvolva um programa que pergunte a distância de uma\n",
        "viagem em Km. Calcule o preço da passagem cobrando R$\n",
        "0,50 por Km para viagens de até 200 Km e R$ 0,45 para\n",
        "viagens mais longas.\n",
        "\"\"\"\n",
        "\n",
        "km = int(input(\"Informe a Km da viagem: \"))\n",
        "if km <= 200:\n",
        "  print(f'O Valor a ser pago é de R${km*0.50}')\n",
        "elif km > 200:\n",
        "    print(f'O Valor a ser pago é de R${km*0.45}')\n",
        "else:\n",
        "  print(\"Não tem corrida\")"
      ],
      "metadata": {
        "id": "6p7EccTrHFts"
      },
      "execution_count": null,
      "outputs": []
    },
    {
      "cell_type": "code",
      "source": [
        "# DESAFIO 09\n",
        "\"\"\"\n",
        "Escreva um programa para aprovar um empréstimo bancário\n",
        "para a compra de uma casa. O programa vai perguntar o valor\n",
        "da casa, o salário do comprador e em quantos anos ele vai\n",
        "pagar.\n",
        "\n",
        "\n",
        "Calcule o valor da prestação mensal, sabendo que ela não\n",
        "pode exceder 30% do salário ou então o empréstimo será\n",
        "negado.\n",
        "\"\"\"\n",
        "\n",
        "casa = input(\"Informe o valor da Casa: \")\n",
        "salario = float(input(\"Informe o valor do Salário: \"))\n",
        "anos = input(\"Informe quantos anos deseja financiar: \")\n",
        "if casa > salario*30*0.5:\n",
        "  print(\"Empréstimo negado\")\n",
        "else:\n",
        "  print(\"Empréstimo aprovado\")\n",
        ""
      ],
      "metadata": {
        "colab": {
          "base_uri": "https://localhost:8080/",
          "height": 263
        },
        "id": "pDKexrptIoHs",
        "outputId": "0402423b-c97e-46a3-84fa-0425146606f6"
      },
      "execution_count": 87,
      "outputs": [
        {
          "name": "stdout",
          "output_type": "stream",
          "text": [
            "Informe o valor da Casa: 500\n",
            "Informe o valor do Salário: 20\n",
            "Informe quantos anos deseja financiar: 200\n"
          ]
        },
        {
          "output_type": "error",
          "ename": "TypeError",
          "evalue": "'>' not supported between instances of 'str' and 'float'",
          "traceback": [
            "\u001b[0;31m---------------------------------------------------------------------------\u001b[0m",
            "\u001b[0;31mTypeError\u001b[0m                                 Traceback (most recent call last)",
            "\u001b[0;32m<ipython-input-87-dd376e18ff4a>\u001b[0m in \u001b[0;36m<cell line: 0>\u001b[0;34m()\u001b[0m\n\u001b[1;32m     15\u001b[0m \u001b[0msalario\u001b[0m \u001b[0;34m=\u001b[0m \u001b[0mfloat\u001b[0m\u001b[0;34m(\u001b[0m\u001b[0minput\u001b[0m\u001b[0;34m(\u001b[0m\u001b[0;34m\"Informe o valor do Salário: \"\u001b[0m\u001b[0;34m)\u001b[0m\u001b[0;34m)\u001b[0m\u001b[0;34m\u001b[0m\u001b[0;34m\u001b[0m\u001b[0m\n\u001b[1;32m     16\u001b[0m \u001b[0manos\u001b[0m \u001b[0;34m=\u001b[0m \u001b[0minput\u001b[0m\u001b[0;34m(\u001b[0m\u001b[0;34m\"Informe quantos anos deseja financiar: \"\u001b[0m\u001b[0;34m)\u001b[0m\u001b[0;34m\u001b[0m\u001b[0;34m\u001b[0m\u001b[0m\n\u001b[0;32m---> 17\u001b[0;31m \u001b[0;32mif\u001b[0m \u001b[0mcasa\u001b[0m \u001b[0;34m>\u001b[0m \u001b[0msalario\u001b[0m\u001b[0;34m*\u001b[0m\u001b[0;36m30\u001b[0m\u001b[0;34m*\u001b[0m\u001b[0;36m0.5\u001b[0m\u001b[0;34m:\u001b[0m\u001b[0;34m\u001b[0m\u001b[0;34m\u001b[0m\u001b[0m\n\u001b[0m\u001b[1;32m     18\u001b[0m   \u001b[0mprint\u001b[0m\u001b[0;34m(\u001b[0m\u001b[0;34m\"Empréstimo negado\"\u001b[0m\u001b[0;34m)\u001b[0m\u001b[0;34m\u001b[0m\u001b[0;34m\u001b[0m\u001b[0m\n\u001b[1;32m     19\u001b[0m \u001b[0;32melse\u001b[0m\u001b[0;34m:\u001b[0m\u001b[0;34m\u001b[0m\u001b[0;34m\u001b[0m\u001b[0m\n",
            "\u001b[0;31mTypeError\u001b[0m: '>' not supported between instances of 'str' and 'float'"
          ]
        }
      ]
    },
    {
      "cell_type": "code",
      "source": [
        "# DESAFIO 10\n",
        "\"\"\"\n",
        "Faça um programa que leia o ano de nascimento de um jovem\n",
        "e informe, de acordo com sua idade:\n",
        "\n",
        "\n",
        "Se ele ainda vai se alistar ao serviço militar\n",
        "Se é a hora de se alistar\n",
        "Se já passou o tempo do alistamento\n",
        "\n",
        "\n",
        "Seu programa também deverá mostrar o tempo que falta ou\n",
        "que passou do prazo.\n",
        "\"\"\"\n"
      ],
      "metadata": {
        "id": "uigDc0qEJhA7"
      },
      "execution_count": null,
      "outputs": []
    },
    {
      "cell_type": "code",
      "source": [
        "# DESAFIO 11\n",
        "\"\"\"\n",
        "Crie um programa que leia duas notas entre 0 a 10 de um aluno\n",
        "e calcule sua média, mostrando uma mensagem no final, de\n",
        "acordo com a média atingida.\n",
        "\n",
        "\n",
        "Média abaixo de 5.0: REPROVADO\n",
        "Média entre 5.0 a 6.9: RECUPERAÇÃO\n",
        "Média igual ou superior a 7.0: APROVADO\n",
        "\"\"\"\n"
      ],
      "metadata": {
        "id": "qDFsinijXAHC"
      },
      "execution_count": null,
      "outputs": []
    }
  ]
}