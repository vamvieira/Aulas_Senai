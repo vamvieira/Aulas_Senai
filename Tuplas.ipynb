{
  "nbformat": 4,
  "nbformat_minor": 0,
  "metadata": {
    "colab": {
      "provenance": [],
      "authorship_tag": "ABX9TyP+T+xAOZYHfXVDr++2BogN",
      "include_colab_link": true
    },
    "kernelspec": {
      "name": "python3",
      "display_name": "Python 3"
    },
    "language_info": {
      "name": "python"
    }
  },
  "cells": [
    {
      "cell_type": "markdown",
      "metadata": {
        "id": "view-in-github",
        "colab_type": "text"
      },
      "source": [
        "<a href=\"https://colab.research.google.com/github/vamvieira/Aulas_Senai/blob/main/Tuplas.ipynb\" target=\"_parent\"><img src=\"https://colab.research.google.com/assets/colab-badge.svg\" alt=\"Open In Colab\"/></a>"
      ]
    },
    {
      "cell_type": "code",
      "execution_count": null,
      "metadata": {
        "colab": {
          "base_uri": "https://localhost:8080/"
        },
        "id": "8MxjuaFGv-Fh",
        "outputId": "5262d37f-e50d-416f-9781-8db30ae6838b"
      },
      "outputs": [
        {
          "output_type": "stream",
          "name": "stdout",
          "text": [
            "('Assembly', 'JAVA', 'Python', 'C#')\n",
            "('Assembly', 'JAVA', 'Python', 'C#')\n",
            "<class 'tuple'>\n"
          ]
        }
      ],
      "source": [
        "################## 09 TUPLAS #######################\n",
        "\n",
        "linguagens = ('Assembly', 'JAVA', 'Python', 'C#')\n",
        "print(linguagens)\n",
        "\n",
        "\n",
        "linguagens2 = 'Assembly', 'JAVA', 'Python', 'C#'\n",
        "print(linguagens2)\n",
        "print(type(linguagens2))"
      ]
    },
    {
      "cell_type": "code",
      "source": [
        "# ACESSOS PARA TUPLAS\n",
        "\n",
        "\n",
        "lanches = ('Hamburger', 'Pastel', 'Coxinha', 'Pizza')\n",
        "\n",
        "\n",
        "print(lanches[0])   # Primeiro item\n",
        "print(lanches[-1])  # Último item\n",
        "print(lanches[1:3]) # Dois itens\n",
        "print(lanches[1:])  # A partir do segundo\n",
        "print(lanches[:2])  # Até o segundo\n",
        "print(lanches[:])   # Todos"
      ],
      "metadata": {
        "colab": {
          "base_uri": "https://localhost:8080/"
        },
        "id": "xS1nZTGqwznk",
        "outputId": "f962e588-0b2f-4aa0-a418-8d11fc0b4a0a"
      },
      "execution_count": null,
      "outputs": [
        {
          "output_type": "stream",
          "name": "stdout",
          "text": [
            "Hamburger\n",
            "Pizza\n",
            "('Pastel', 'Coxinha')\n",
            "('Pastel', 'Coxinha', 'Pizza')\n",
            "('Hamburger', 'Pastel')\n",
            "('Hamburger', 'Pastel', 'Coxinha', 'Pizza')\n"
          ]
        }
      ]
    },
    {
      "cell_type": "code",
      "source": [
        "# GERA ERRO (TUPLA É IMUTÁVEL)\n",
        "\n",
        "\n",
        "lanches = ('Hamburger', 'Pastel', 'Coxinha', 'Pizza')\n",
        "lanches[0] = 'Hotdog"
      ],
      "metadata": {
        "id": "AbudtpW6yP70"
      },
      "execution_count": null,
      "outputs": []
    },
    {
      "cell_type": "code",
      "source": [
        "# PERCORRER UMA TUPLA\n",
        "\n",
        "\n",
        "lanches = ('Hamburger', 'Pastel', 'Coxinha', 'Pizza')\n",
        "\n",
        "\n",
        "for lanche in lanches:\n",
        "    print(lanche)"
      ],
      "metadata": {
        "colab": {
          "base_uri": "https://localhost:8080/"
        },
        "id": "8_sie8wqyRkS",
        "outputId": "d19130eb-f7b8-4234-bf29-d04c76afa6ac"
      },
      "execution_count": null,
      "outputs": [
        {
          "output_type": "stream",
          "name": "stdout",
          "text": [
            "Hamburger\n",
            "Pastel\n",
            "Coxinha\n",
            "Pizza\n"
          ]
        }
      ]
    },
    {
      "cell_type": "code",
      "source": [
        "# PERCORRER UMA TUPLA POR ÍNDICE\n",
        "\n",
        "\n",
        "lanches = ('Hamburger', 'Pastel', 'Coxinha', 'Pizza')\n",
        "\n",
        "\n",
        "for i in range(len(lanches)):\n",
        "    print(lanches[i])"
      ],
      "metadata": {
        "colab": {
          "base_uri": "https://localhost:8080/"
        },
        "id": "DR0i4b08zBKi",
        "outputId": "11ccd855-baf7-4643-de05-94260ff65093"
      },
      "execution_count": null,
      "outputs": [
        {
          "output_type": "stream",
          "name": "stdout",
          "text": [
            "Hamburger\n",
            "Pastel\n",
            "Coxinha\n",
            "Pizza\n"
          ]
        }
      ]
    },
    {
      "cell_type": "code",
      "source": [
        "# PERCORRER UMA TUPLA POR ÍNDICE E VALORES\n",
        "\n",
        "\n",
        "lanches = ('Hamburger', 'Pastel', 'Coxinha', 'Pizza')\n",
        "\n",
        "\n",
        "for posicao, lanche in enumerate(lanches):\n",
        "    print(f\"{posicao+1} | {lanche}\")"
      ],
      "metadata": {
        "colab": {
          "base_uri": "https://localhost:8080/"
        },
        "id": "0-O2VJd_zIxT",
        "outputId": "987f1391-03fd-4d5d-8309-6aa56cf0654c"
      },
      "execution_count": null,
      "outputs": [
        {
          "output_type": "stream",
          "name": "stdout",
          "text": [
            "1 | Hamburger\n",
            "2 | Pastel\n",
            "3 | Coxinha\n",
            "4 | Pizza\n"
          ]
        }
      ]
    },
    {
      "cell_type": "code",
      "source": [
        "# CONVERTER LISTA EM TUPLA\n",
        "\n",
        "\n",
        "lista = list()\n",
        "lista = [1, 2, 3, 4, 5]\n",
        "\n",
        "\n",
        "tupla = tuple(lista)\n",
        "print(tupla)\n",
        "print(type(tupla))"
      ],
      "metadata": {
        "colab": {
          "base_uri": "https://localhost:8080/"
        },
        "id": "TYyD-UvLzR-h",
        "outputId": "5fb745b2-6436-421b-8232-49a8ef4f2b34"
      },
      "execution_count": null,
      "outputs": [
        {
          "output_type": "stream",
          "name": "stdout",
          "text": [
            "(1, 2, 3, 4, 5)\n",
            "<class 'tuple'>\n"
          ]
        }
      ]
    },
    {
      "cell_type": "code",
      "source": [
        "# MÉTODO SORTED\n",
        "\n",
        "\n",
        "lanches = ('Hamburger', 'Pastel', 'Coxinha', 'Pizza')\n",
        "\n",
        "\n",
        "ordenar = tuple(sorted(lanches))\n",
        "print(ordenar)\n",
        "print(type(ordenar))"
      ],
      "metadata": {
        "colab": {
          "base_uri": "https://localhost:8080/"
        },
        "id": "NFT-hIU2zSRx",
        "outputId": "89666fcf-2ecf-4311-8ba6-344f47de1a47"
      },
      "execution_count": null,
      "outputs": [
        {
          "output_type": "stream",
          "name": "stdout",
          "text": [
            "('Coxinha', 'Hamburger', 'Pastel', 'Pizza')\n",
            "<class 'tuple'>\n"
          ]
        }
      ]
    },
    {
      "cell_type": "code",
      "source": [
        "# MÉTODO DEL\n",
        "\n",
        "\n",
        "lanches = ('Hamburger', 'Pastel', 'Coxinha', 'Pizza')\n",
        "del(lanches)\n",
        "print(lanches)"
      ],
      "metadata": {
        "colab": {
          "base_uri": "https://localhost:8080/"
        },
        "id": "fDaSpT41zn1S",
        "outputId": "7c2ddcf7-2450-4fa9-bf30-21382a17cd5e"
      },
      "execution_count": null,
      "outputs": [
        {
          "output_type": "stream",
          "name": "stdout",
          "text": [
            "<class 'tuple'>\n"
          ]
        }
      ]
    },
    {
      "cell_type": "code",
      "source": [
        "# CONCATENAR TUPLAS\n",
        "\n",
        "\n",
        "lanches = ('Hamburger', 'Pastel', 'Coxinha', 'Pizza')\n",
        "doces = ('Pudim', 'Bolo', 'Sorvete')\n",
        "\n",
        "\n",
        "unificada = lanches + doces\n",
        "\n",
        "\n",
        "print(unificada)"
      ],
      "metadata": {
        "colab": {
          "base_uri": "https://localhost:8080/"
        },
        "id": "gMb2dHPr1Vyy",
        "outputId": "4b62afb7-7d1a-40f7-d093-74f54f88664e"
      },
      "execution_count": null,
      "outputs": [
        {
          "output_type": "stream",
          "name": "stdout",
          "text": [
            "('Hamburger', 'Pastel', 'Coxinha', 'Pizza', 'Pudim', 'Bolo', 'Sorvete')\n"
          ]
        }
      ]
    },
    {
      "cell_type": "markdown",
      "source": [
        "## Desafios"
      ],
      "metadata": {
        "id": "Vw8V6e5Z2P0C"
      }
    },
    {
      "cell_type": "code",
      "source": [
        "# DESAFIO 01\n",
        "\n",
        "\"\"\"\n",
        "Crie um programa que tenha uma tupla totalmente preenchida com\n",
        "uma contagem por extenso, de um até vinte.\n",
        "\n",
        "\n",
        "Seu programa deverá ler um número pelo teclado (entre 1 e 20) e\n",
        "mostrá-lo por extenso.\n",
        "\"\"\"\n",
        "numeros_extenso = (\n",
        "    'Um',\n",
        "    'Dois',\n",
        "    'Três',\n",
        "    'Quatro',\n",
        "    'Cinco',\n",
        "    'Seis',\n",
        "    'Sete',\n",
        "    'Oito',\n",
        "    'Nove',\n",
        "    'Dez',\n",
        "    'Onze',\n",
        "    'Doze',\n",
        "    'Treze',\n",
        "    'Quatorze',\n",
        "    'Quinze',\n",
        "    'Dezesseis',\n",
        "    'Dezessete',\n",
        "    'Dezoito',\n",
        "    'Dezenove',\n",
        "    'Vinte')\n",
        "\n",
        "print(f\"\\nSeu número por extenso: {numeros_extenso[int(input('Digite um nº entre 1 e 20: '))-1]}\")\n",
        "\n"
      ],
      "metadata": {
        "colab": {
          "base_uri": "https://localhost:8080/"
        },
        "id": "4rlACIe32L6j",
        "outputId": "41f9339c-3e94-4df4-ed92-8735966de01f"
      },
      "execution_count": null,
      "outputs": [
        {
          "output_type": "stream",
          "name": "stdout",
          "text": [
            "Digite um nº entre 1 e 20: 5\n",
            "\n",
            "Seu número por extenso: Cinco\n"
          ]
        }
      ]
    },
    {
      "cell_type": "code",
      "source": [
        "# DESAFIO 01 v2\n",
        "\n",
        "\n",
        "numero = int(input('Digite um nº entre 1 e 20: '))-1\n",
        "print(f\"\\nSeu número por extenso: {numeros_extenso[numero]}\")"
      ],
      "metadata": {
        "id": "Eqcob07H2oQS"
      },
      "execution_count": null,
      "outputs": []
    },
    {
      "cell_type": "code",
      "source": [
        "# DESAFIO 02\n",
        "\"\"\"\n",
        "Crie um programa que gere cinco números aleatórios para uma tupla.\n",
        "Exiba a listagem de números gerados, indique o menor e o maior valor.\n",
        "\"\"\"\n",
        "\n",
        "import random\n",
        "num_aleatorio = tuple(random.randint(1, 100) for _ in range(5))\n",
        "print(num_aleatorio)\n",
        "print(\"Maior:\", max(num_aleatorio))\n",
        "print(\"Menor:\", min(num_aleatorio))"
      ],
      "metadata": {
        "colab": {
          "base_uri": "https://localhost:8080/"
        },
        "id": "p7FnNa0WDL4U",
        "outputId": "2fba328c-aba5-4ea0-8edf-e1d4c228028b"
      },
      "execution_count": 4,
      "outputs": [
        {
          "output_type": "stream",
          "name": "stdout",
          "text": [
            "(44, 56, 44, 9, 95)\n",
            "Maior: 95\n",
            "Menor: 9\n"
          ]
        }
      ]
    },
    {
      "cell_type": "code",
      "source": [
        "# DESAFIO 03\n",
        "\"\"\"\n",
        "Desenvolva um programa que leia quatro números inteiros pelo teclado e guarde-os em uma tupla. No final, mostre:\n",
        "    A) Quantas vezes apareceu o valor 9.\n",
        "    B) Em que posição foi digitado o primeiro valor 3.\n",
        "    C) Quais foram os números pares.\n",
        "\"\"\"\n",
        "\n",
        "num_int = tuple(int(input(f'Digite o {i}º número: ')) for i in range(1,5))\n",
        "print(\"\\nNão digitou 9\" if 9 not in num_int else f\"\\n9 aparece {num_int.count(9)} vezes\")\n",
        "print(\"\\nNão digitou 3\" if 3 not in num_int else f\"\\n3 aparece {num_int.index(3)+1}ª posição\")\n",
        "print(\"Pares \", end=' ')\n",
        "for num in num_int:\n",
        "  if num%2 == 0:\n",
        "    print(num, end=' ')"
      ],
      "metadata": {
        "colab": {
          "base_uri": "https://localhost:8080/"
        },
        "id": "Lxt9l9s0FTr0",
        "outputId": "c3af13a5-f45b-466f-9c67-b04cb105ef0e"
      },
      "execution_count": 9,
      "outputs": [
        {
          "output_type": "stream",
          "name": "stdout",
          "text": [
            "Digite o 1º número: 5\n",
            "Digite o 2º número: 9\n",
            "Digite o 3º número: 3\n",
            "Digite o 4º número: 9\n",
            "\n",
            "9 aparece 2 vezes\n",
            "\n",
            "3 aparece 3ª posição\n"
          ]
        }
      ]
    },
    {
      "cell_type": "code",
      "source": [],
      "metadata": {
        "id": "IltXgQ9EH09E"
      },
      "execution_count": null,
      "outputs": []
    }
  ]
}