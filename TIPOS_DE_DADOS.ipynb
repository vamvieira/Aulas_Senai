{
  "nbformat": 4,
  "nbformat_minor": 0,
  "metadata": {
    "colab": {
      "provenance": [],
      "authorship_tag": "ABX9TyMpXi4A3eJgZGd1ffDklDqw",
      "include_colab_link": true
    },
    "kernelspec": {
      "name": "python3",
      "display_name": "Python 3"
    },
    "language_info": {
      "name": "python"
    }
  },
  "cells": [
    {
      "cell_type": "markdown",
      "metadata": {
        "id": "view-in-github",
        "colab_type": "text"
      },
      "source": [
        "<a href=\"https://colab.research.google.com/github/vamvieira/Aulas_Senai/blob/main/TIPOS_DE_DADOS.ipynb\" target=\"_parent\"><img src=\"https://colab.research.google.com/assets/colab-badge.svg\" alt=\"Open In Colab\"/></a>"
      ]
    },
    {
      "cell_type": "markdown",
      "source": [
        "# Tipos de Dados\n"
      ],
      "metadata": {
        "id": "HqQTVAOiX5Qm"
      }
    },
    {
      "cell_type": "code",
      "execution_count": null,
      "metadata": {
        "colab": {
          "base_uri": "https://localhost:8080/"
        },
        "id": "R5ClttNjXcjc",
        "outputId": "2686aaf7-0de6-451c-ccfe-c7fabeb8a985"
      },
      "outputs": [
        {
          "output_type": "stream",
          "name": "stdout",
          "text": [
            "10\n",
            "-1\n",
            "-5.29\n",
            "3.1415\n"
          ]
        }
      ],
      "source": [
        "# TIPOS NUMÉRICOS (int | float)\n",
        "\n",
        "\n",
        "x = 10        # Inteiro\n",
        "y = -1        # Inteiro negativo\n",
        "z = -5.29     # Decimal negativo (separador é ponto e não vírgula)\n",
        "PI = 3.1415   # Decimal\n",
        "\n",
        "\n",
        "print(x)\n",
        "print(y)\n",
        "print(z)\n",
        "print(PI)"
      ]
    },
    {
      "cell_type": "code",
      "source": [
        "# TIPO CARACTER | STRINGS (str)\n",
        "\n",
        "\n",
        "nome = 'Vitor'\n",
        "escola = \"SENAI Ary Torres\"\n",
        "\n",
        "\n",
        "print(nome)\n",
        "print(escola)\n",
        "\n",
        "\n",
        "print()\n",
        "print(escola)\n",
        "print('\\n', escola)\n",
        "print('\\n', escola[10])"
      ],
      "metadata": {
        "colab": {
          "base_uri": "https://localhost:8080/"
        },
        "id": "WqnbMc2nYhWv",
        "outputId": "0df38626-edb9-49df-9ef6-87eb4646cb97"
      },
      "execution_count": null,
      "outputs": [
        {
          "output_type": "stream",
          "name": "stdout",
          "text": [
            "Vitor\n",
            "SENAI Ary Torres\n",
            "\n",
            "SENAI Ary Torres\n",
            "\n",
            " SENAI Ary Torres\n",
            "\n",
            " T\n"
          ]
        }
      ]
    },
    {
      "cell_type": "code",
      "source": [
        "# TIPOS LÓGICOS (bool)\n",
        "\n",
        "\n",
        "continuar = True\n",
        "parar = False\n",
        "casado = True\n",
        "\n",
        "\n",
        "print(continuar)\n",
        "print(parar)\n",
        "print(casado)"
      ],
      "metadata": {
        "colab": {
          "base_uri": "https://localhost:8080/"
        },
        "id": "cFXJDMZ8ZRTe",
        "outputId": "243b8e9b-63de-4c45-eeaf-314fc71dc615"
      },
      "execution_count": null,
      "outputs": [
        {
          "output_type": "stream",
          "name": "stdout",
          "text": [
            "True\n",
            "False\n",
            "True\n"
          ]
        }
      ]
    },
    {
      "cell_type": "code",
      "source": [
        "# IDENTIFICAR TIPOS DE VARIÁVEIS/CONSTANTES\n",
        "\n",
        "\n",
        "print(type(x))\n",
        "print(type(PI))\n",
        "print(type(nome))\n",
        "print(type(casado))"
      ],
      "metadata": {
        "colab": {
          "base_uri": "https://localhost:8080/"
        },
        "id": "ZsKBLLAXaSVd",
        "outputId": "0098ac88-2f30-4192-b60f-6ea75d20d0b4"
      },
      "execution_count": null,
      "outputs": [
        {
          "output_type": "stream",
          "name": "stdout",
          "text": [
            "<class 'int'>\n",
            "<class 'float'>\n",
            "<class 'str'>\n",
            "<class 'bool'>\n"
          ]
        }
      ]
    },
    {
      "cell_type": "code",
      "source": [
        "# DECLARAÇÃO DE VARIÁVEIS\n",
        "\n",
        "\n",
        "texto1 = '2'\n",
        "texto2 = str(2)\n",
        "numero1 = 3\n",
        "numero2 = int(3)\n",
        "decimal1 = float(3)\n",
        "decimal2 = 3.0\n",
        "logico = bool(False)\n",
        "\n",
        "\n",
        "print(texto1)\n",
        "print(texto2)\n",
        "print(numero1)\n",
        "print(numero2)\n",
        "print(decimal1)\n",
        "print(decimal2)\n",
        "print(logico)\n"
      ],
      "metadata": {
        "colab": {
          "base_uri": "https://localhost:8080/"
        },
        "id": "jGzEUgdzajXN",
        "outputId": "cefc7ee0-2645-4b58-f076-607cdfb8c2ec"
      },
      "execution_count": null,
      "outputs": [
        {
          "output_type": "stream",
          "name": "stdout",
          "text": [
            "2\n",
            "2\n",
            "3\n",
            "3\n",
            "3.0\n",
            "3.0\n",
            "False\n"
          ]
        }
      ]
    },
    {
      "cell_type": "code",
      "source": [
        "# ANÁLISE DE STRINGS (str)\n",
        "\n",
        "\n",
        "n = '5'\n",
        "\n",
        "\n",
        "print(n.isnumeric())   # Numérico\n",
        "print(n.isalpha())     # Alfabético\n",
        "print(n.isalnum())     # Alfanumérico\n",
        "print(n.isupper())     # Maiúscula\n",
        "print(n.islower())     # Minúscula\n",
        "print(n.istitle())     # Primeira maiúscula\n",
        "print(n.isdecimal())   # Numérico\n",
        "print(n.isspace())     # Espaço"
      ],
      "metadata": {
        "colab": {
          "base_uri": "https://localhost:8080/"
        },
        "id": "DkK6AFFFdE7u",
        "outputId": "4afa7a6e-da1e-4db1-bc4d-e1894321cdf3"
      },
      "execution_count": null,
      "outputs": [
        {
          "output_type": "stream",
          "name": "stdout",
          "text": [
            "True\n",
            "False\n",
            "True\n",
            "False\n",
            "False\n",
            "False\n",
            "True\n",
            "False\n"
          ]
        }
      ]
    },
    {
      "cell_type": "code",
      "source": [
        "# EXEMPLO\n",
        "\n",
        "\n",
        "num = input(\"Digite um número: \")\n",
        "if num.isnumeric():\n",
        "    num = int(num)\n",
        "else:\n",
        "    print(\"Não é número!\")\n",
        "\n",
        "\n",
        "print(type(num))"
      ],
      "metadata": {
        "colab": {
          "base_uri": "https://localhost:8080/"
        },
        "id": "W_Bh0cPueRst",
        "outputId": "01951754-de27-4f77-b193-30b7b49b84ec"
      },
      "execution_count": null,
      "outputs": [
        {
          "output_type": "stream",
          "name": "stdout",
          "text": [
            "Digite um número: 14,02\n",
            "Não é número!\n",
            "<class 'str'>\n"
          ]
        }
      ]
    },
    {
      "cell_type": "code",
      "source": [
        "# ENTRADA DE DADOS (input)\n",
        "\n",
        "\n",
        "numeroInteiro = int(input(\"Digite um número inteiro: \"))\n",
        "print(numeroInteiro)\n",
        "\n",
        "\n",
        "numeroDecimal = float(input(\"\\nDigite um número decimal: \")) # Sepador de decimal: . (não vírgula)\n",
        "print(numeroDecimal)\n",
        "\n",
        "\n",
        "valorLogico = bool(input(\"Digite algo: \"))\n",
        "print(valorLogico)\n",
        "\n",
        "\n",
        "# Não há necessidade declarar str() para o input()\n",
        "texto = str(input(\"\\nDigite um valor alfanumérico:\\n\"))\n",
        "print(texto)\n"
      ],
      "metadata": {
        "id": "3R_C04x0eiVu"
      },
      "execution_count": null,
      "outputs": []
    },
    {
      "cell_type": "code",
      "source": [
        "# CONSTANTES\n",
        "\n",
        "\n",
        "PI = 3.1415\n",
        "GRAVIDADE = 9.81\n",
        "\n",
        "\n",
        "print(\"\\nValor de PI:\", PI, '\\n\\n\\n')\n",
        "print(\"\\nValor da gravidade:\", GRAVIDADE)"
      ],
      "metadata": {
        "colab": {
          "base_uri": "https://localhost:8080/"
        },
        "id": "ig5-bgNSg_rf",
        "outputId": "c1baeaa9-7ec8-4ee8-f6d9-158023c488cd"
      },
      "execution_count": null,
      "outputs": [
        {
          "output_type": "stream",
          "name": "stdout",
          "text": [
            "\n",
            "Valor de PI: 3.1415 \n",
            "\n",
            "\n",
            "\n",
            "\n",
            "Valor da gravidade: 9.81\n"
          ]
        }
      ]
    },
    {
      "cell_type": "code",
      "source": [
        "# CORES\n",
        "\"\"\"\n",
        "\\033[ESTILO;FONTE;FUNDOm TEXTO \\033[0m\n",
        "\\033[m    \\033[0m\n",
        "\n",
        "\n",
        "Estilos: 0 nenhum | 1 negrito | 3 itálico | 4 sublinhado\n",
        "\"\"\"\n",
        "\n",
        "\n",
        "print(\"\\033[1;33;45m   TEXTO   \\033[0m\")\n",
        "\n",
        "\n",
        "print(\"\\033[30m CINZA\")\n",
        "print(\"\\033[31m VERMELHO\")\n",
        "print(\"\\033[32m VERDE\")\n",
        "print(\"\\033[33m AMARELO\")\n",
        "print(\"\\033[34m CIAN\")\n",
        "print(\"\\033[35m MAGENTA\")\n",
        "print(\"\\033[36m AZUL\")\n",
        "print(\"\\033[37m BRANCO\")\n",
        "\n",
        "\n",
        "print(\"\\033[40m CINZA\")\n",
        "print(\"\\033[41m VERMELHO\")\n",
        "print(\"\\033[42m VERDE\")\n",
        "print(\"\\033[43m AMARELO\")\n",
        "print(\"\\033[44m CIAN\")\n",
        "print(\"\\033[45m MAGENTA\")\n",
        "print(\"\\033[46m AZUL\")\n",
        "print(\"\\033[47m BRANCO\")\n",
        "\n",
        "\n",
        "print(\"\\033[1;2;3;4;33;45m   TEXTO   \\033[0m\")\n"
      ],
      "metadata": {
        "colab": {
          "base_uri": "https://localhost:8080/"
        },
        "id": "rayQAiWjoISf",
        "outputId": "6f4384ee-b325-4bc7-d6fe-6d712ef29fec"
      },
      "execution_count": null,
      "outputs": [
        {
          "output_type": "stream",
          "name": "stdout",
          "text": [
            "\u001b[1;33;45m   TEXTO   \u001b[0m\n",
            "\u001b[30m CINZA\n",
            "\u001b[31m VERMELHO\n",
            "\u001b[32m VERDE\n",
            "\u001b[33m AMARELO\n",
            "\u001b[34m CIAN\n",
            "\u001b[35m MAGENTA\n",
            "\u001b[36m AZUL\n",
            "\u001b[37m BRANCO\n",
            "\u001b[40m CINZA\n",
            "\u001b[41m VERMELHO\n",
            "\u001b[42m VERDE\n",
            "\u001b[43m AMARELO\n",
            "\u001b[44m CIAN\n",
            "\u001b[45m MAGENTA\n",
            "\u001b[46m AZUL\n",
            "\u001b[47m BRANCO\n",
            "\u001b[1;2;3;4;33;45m   TEXTO   \u001b[0m\n"
          ]
        }
      ]
    },
    {
      "cell_type": "code",
      "source": [
        "# TRABALHAR COM EMOJIS (Win+.)\n",
        "\n",
        "\n",
        "print('👨')\n",
        "print('👽')"
      ],
      "metadata": {
        "colab": {
          "base_uri": "https://localhost:8080/"
        },
        "id": "FwRke0lAoKOd",
        "outputId": "6eecba09-4944-40fb-996b-412e100a46af"
      },
      "execution_count": null,
      "outputs": [
        {
          "output_type": "stream",
          "name": "stdout",
          "text": [
            "👨\n",
            "👽\n"
          ]
        }
      ]
    },
    {
      "cell_type": "code",
      "source": [
        "# COLUNAS COM PREENCHIMENTO E ALINHAMENTO\n",
        "\n",
        "\n",
        "print(\" CENTRALIZADO \".center(30, '-'))\n",
        "print(\" DIREITA\".rjust(30, '-'))\n",
        "print(\"ESQUERDA \".ljust(30, '-'))\n"
      ],
      "metadata": {
        "colab": {
          "base_uri": "https://localhost:8080/"
        },
        "id": "Z2RZE_bOrGyO",
        "outputId": "f0bc29ee-6124-476f-c7ab-e098355e9257"
      },
      "execution_count": null,
      "outputs": [
        {
          "output_type": "stream",
          "name": "stdout",
          "text": [
            "-------- CENTRALIZADO --------\n",
            "---------------------- DIREITA\n",
            "ESQUERDA ---------------------\n"
          ]
        }
      ]
    },
    {
      "cell_type": "code",
      "source": [
        "# ALINHAMENTO PARA F STRINGS\n",
        "\n",
        "\n",
        "print(f\"| {'Unidade':>20} | {'5':^20} |\")\n",
        "print(f\"| {'Unidade':^20} | {'5':^20} |\")\n",
        "print(f\"| {'Unidade':<20} | {'5':^20} |\")"
      ],
      "metadata": {
        "colab": {
          "base_uri": "https://localhost:8080/"
        },
        "id": "GXiZW2rPr8f-",
        "outputId": "eed393f1-c94b-4fd5-ac69-53637274f892"
      },
      "execution_count": null,
      "outputs": [
        {
          "output_type": "stream",
          "name": "stdout",
          "text": [
            "|              Unidade |          5           |\n",
            "|       Unidade        |          5           |\n",
            "| Unidade              |          5           |\n"
          ]
        }
      ]
    },
    {
      "cell_type": "code",
      "source": [
        "# MULTIPLICAÇÃO DE STRINGS\n",
        "\n",
        "\n",
        "sus = '#'\n",
        "estrela = '*'\n",
        "\n",
        "\n",
        "print(sus*2, estrela*10, sus*2)\n",
        "print('='*16)"
      ],
      "metadata": {
        "colab": {
          "base_uri": "https://localhost:8080/"
        },
        "id": "gqID0gpOsBX-",
        "outputId": "cbcb4a18-05e3-465f-d1ab-db78771a7106"
      },
      "execution_count": null,
      "outputs": [
        {
          "output_type": "stream",
          "name": "stdout",
          "text": [
            "## ********** ##\n",
            "================\n"
          ]
        }
      ]
    },
    {
      "cell_type": "code",
      "source": [
        "# CONCATENAÇÃO (soma, junta textos)\n",
        "texto1 = 'SENAI'\n",
        "texto2 = 'ARY'\n",
        "texto3 = 'TORRES'\n",
        "escola = texto1+' '+texto2+' '+texto3\n",
        "\n",
        "\n",
        "print('\\n\\n', escola)"
      ],
      "metadata": {
        "colab": {
          "base_uri": "https://localhost:8080/"
        },
        "id": "SLxbCCIJtY99",
        "outputId": "ca9418e1-69e0-4e51-975e-4bc1f102a692"
      },
      "execution_count": null,
      "outputs": [
        {
          "output_type": "stream",
          "name": "stdout",
          "text": [
            "\n",
            "\n",
            " SENAI ARY TORRES\n"
          ]
        }
      ]
    },
    {
      "cell_type": "code",
      "source": [],
      "metadata": {
        "id": "2GxI9e2SudAu"
      },
      "execution_count": null,
      "outputs": []
    },
    {
      "cell_type": "markdown",
      "source": [
        "# DESAFIOS"
      ],
      "metadata": {
        "id": "Ga30CcuIvIfn"
      }
    },
    {
      "cell_type": "code",
      "source": [
        "#DESAFIO 1\n",
        "\"\"\"\n",
        "Crie um programa para efetuar a leitura de um número inteiro e\n",
        "apresentar o resultado do quadrado desse número\n",
        "\"\"\"\n",
        "num = int(input(\"Escreva um número:\"))\n",
        "calc = (num**2)\n",
        "print(calc)"
      ],
      "metadata": {
        "colab": {
          "base_uri": "https://localhost:8080/"
        },
        "id": "QrJGER0VvPqe",
        "outputId": "53d98200-1645-4e6f-845e-2379c896a203"
      },
      "execution_count": null,
      "outputs": [
        {
          "output_type": "stream",
          "name": "stdout",
          "text": [
            "Escreva um número:6\n",
            "36\n"
          ]
        }
      ]
    },
    {
      "cell_type": "code",
      "source": [
        "#SIMPLIFICADO 1\n",
        "num = int(input(\"Escreva um número:\"))\n",
        "print(num**2)\n",
        "\n",
        "#simplificado 2\n",
        "print(int(input(\"Escreva um número:\"))**2)\n",
        "\n",
        "#Outra forma\n",
        "num = int(input(\"Digite num:\"))\n",
        "quad = num**2\n",
        "print(\"\\n O quad é:\", quad)\n",
        "\n",
        "#Merlho versão com o F String\n",
        "numerol = int(input(\"Digite num:\"))\n",
        "quadradao = numerol**2\n",
        "nome = \"Vitor\"\n",
        "print(f\"\\n{nome} diz qe o quadrado de {numerol} é {quadradao}!\")"
      ],
      "metadata": {
        "colab": {
          "base_uri": "https://localhost:8080/"
        },
        "id": "KhGr_m4L2EZL",
        "outputId": "b010c7db-4e13-4b44-bf86-4397980cc33e"
      },
      "execution_count": null,
      "outputs": [
        {
          "output_type": "stream",
          "name": "stdout",
          "text": [
            "Escreva um número:6\n",
            "36\n",
            "Escreva um número:7\n",
            "49\n",
            "Digite num:8\n",
            "\n",
            " O quad é: 64\n",
            "Digite num:9\n",
            "\n",
            "Vitor diz qe o quadrado de 9 é 81!\n"
          ]
        }
      ]
    },
    {
      "cell_type": "code",
      "source": [
        "#Desafio 2\n",
        "\"\"\"\n",
        "Escreva um programa que leia dois caracteres e imprima-os na tela da seguinte forma:\n",
        "O usuário digitou (caractere1) e (caractere2)!.\n",
        "\"\"\"\n",
        "\n",
        "a = 10\n",
        "b = 25\n",
        "print(\"O usuário digitou\", b, \"e\", a,\"!\")\n",
        "\n",
        "a = input(\"Digite o caractere 1:\")\n",
        "b = input(\"Digite o caractere 2:\")\n",
        "\n",
        "print(f\"\\nO usuário digitou ({a})e ({b})!\")"
      ],
      "metadata": {
        "colab": {
          "base_uri": "https://localhost:8080/"
        },
        "id": "MVZWSg8Ivd4e",
        "outputId": "0c9e60a3-5db7-4539-ed91-d717aa883924"
      },
      "execution_count": null,
      "outputs": [
        {
          "output_type": "stream",
          "name": "stdout",
          "text": [
            "O usuário digitou 25 e 10 !\n",
            "Digite o caractere 1:50\n",
            "Digite o caractere 2:5-\n",
            "\n",
            "O usuário digitou (50)e (5-)!\n"
          ]
        }
      ]
    },
    {
      "cell_type": "code",
      "source": [
        "# DESAFIO 03\n",
        "\"\"\"\n",
        "Crie um programa que leia um número inteiro e imprimir seu sucessor e seu antecessor\n",
        "\"\"\"\n",
        "a = 10\n",
        "print(a+1, a-1)\n",
        "\n",
        "num_inteiro = int(input(\"Digite um numero inteiro: \"))\n",
        "print(\"O resultado do Sucessor é\", num_inteiro+1, \"e o Antecessor é\", num_inteiro-1)"
      ],
      "metadata": {
        "colab": {
          "base_uri": "https://localhost:8080/"
        },
        "id": "Wgl7ceB9w1t9",
        "outputId": "506a7f99-30e2-4acb-ebea-a2d05edb2edf"
      },
      "execution_count": null,
      "outputs": [
        {
          "output_type": "stream",
          "name": "stdout",
          "text": [
            "11 9\n",
            "Digite um numero inteiro: 10\n",
            "O resultado do Sucessor é 11 e o Antecessor é 9\n"
          ]
        }
      ]
    },
    {
      "cell_type": "code",
      "source": [
        "# DESAFIO 04\n",
        "\"\"\"\n",
        "Crie um programa para entrar com a base e a altura de um retângulo e imprimir\n",
        "respectivamente o perímetro e a área correspondente.\n",
        "\"\"\"\n",
        "\n",
        "base = int(input(\"Informe o valor da base:\"))\n",
        "altura = int(input(\"Informe o valor da altura\"))\n",
        "area = base*altura\n",
        "perimetro = (2*(base + altura))\n",
        "print(\"Seu perímetro é\", perimetro)\n",
        "print(\"Sua área é\", area)"
      ],
      "metadata": {
        "colab": {
          "base_uri": "https://localhost:8080/"
        },
        "id": "DdLubM6ixLyO",
        "outputId": "b2eb5fe8-c2f5-494e-f860-9e176c80e7eb"
      },
      "execution_count": null,
      "outputs": [
        {
          "output_type": "stream",
          "name": "stdout",
          "text": [
            "Informe o valor da base:10\n",
            "Informe o valor da altura10\n",
            "Seu perímetro é 40\n",
            "Sua área é 100\n"
          ]
        }
      ]
    },
    {
      "cell_type": "code",
      "source": [
        "# DESAFIO 05\n",
        "\"\"\"\n",
        "Crie um programa que dados o valor, a taxa e o tempo, efetuar o cálculo do valor de\n",
        "uma prestação em atraso.\n",
        "FÓRMULA: valor da prestação + (valor da prestação * (taxa / 100) * tempo)\n",
        "\"\"\"\n",
        "\n",
        "vp = int(input(\"Digite o valor da prestação:\" ))\n",
        "taxa = int(input(\"Digite o valor da taxa:\" ))\n",
        "tempo = int(input(\"Qual o tempo de atraso:\" ))\n",
        "calculo = vp + (vp*(taxa/100)*tempo)\n",
        "print(\"O valor a ser pago é de R$\", calculo)"
      ],
      "metadata": {
        "id": "zbYYUsuJxMIu",
        "colab": {
          "base_uri": "https://localhost:8080/"
        },
        "outputId": "b3a94942-cfcb-4244-97b6-80cc0c2c2702"
      },
      "execution_count": null,
      "outputs": [
        {
          "output_type": "stream",
          "name": "stdout",
          "text": [
            "Digite o valor da prestação:500\n",
            "Digite o valor da taxa:50\n",
            "Qual o tempo de atraso:34\n",
            "O valor a ser pago é de R$ 9000.0\n"
          ]
        }
      ]
    },
    {
      "cell_type": "code",
      "source": [
        "# DESAFIO 06\n",
        "\"\"\"\n",
        "Dado a nota das provas P1, P2 e P3, calcular a média (aritmética)\n",
        "das notas do aluno.\n",
        "\"\"\"\n",
        "\n",
        "p1 = int(input(\"Digite o valor da prova 1:\" ))\n",
        "p2 = int(input(\"Digite o valor da prova 2:\" ))\n",
        "p3 = int(input(\"Digite o valor da prova 3:\" ))\n",
        "media = ((p1+p2+p3)/3)\n",
        "print(media)\n"
      ],
      "metadata": {
        "colab": {
          "base_uri": "https://localhost:8080/"
        },
        "id": "GBL8bruWByxi",
        "outputId": "7a7d1c9d-a3fb-4df9-91f4-6d7aee03f43c"
      },
      "execution_count": null,
      "outputs": [
        {
          "output_type": "stream",
          "name": "stdout",
          "text": [
            "Digite o valor da prova 1:8\n",
            "Digite o valor da prova 2:6\n",
            "Digite o valor da prova 3:5\n",
            "6.333333333333333\n"
          ]
        }
      ]
    },
    {
      "cell_type": "code",
      "source": [
        "# DESAFIO 07\n",
        "\"\"\"\n",
        "Escreva um código que calcule a hipotenusa de um triângulo retângulo, cujos catetos são:\n",
        "a = 4\n",
        "b = 3\n",
        "\"\"\"\n",
        "import math\n",
        "\n",
        "cat_a = float(input(\"Digite o valor do cateto A: \"))\n",
        "cat_b = float(input(\"Digite o valor do cateto B: \"))\n",
        "\n",
        "hip = math.sqrt(cat_a**2 + cat_b**2)\n",
        "print(\"A hipotenusa é:\", hip)\n",
        "\n",
        "#Feguda Forma\n",
        "\n",
        "cateto1 = float(input(\"Introduza a medida do primeiro cateto: \"))\n",
        "cateto2 = float(input(\"Introduza a medida do segundo cateto: \"))\n",
        "hipotenusa = (cateto1**2 + cateto2**2)**0.5\n",
        "print(\"A hipotenusa do triângulo é:\", hipotenusa)\n",
        "\n",
        "#Original\n",
        "\n",
        "cateto1 = 4\n",
        "cateto2 = 3\n",
        "hipotenusa = (4**2 + 3**2)**0.5\n",
        "print(\"A hipotenusa do triângulo é:\", hipotenusa)"
      ],
      "metadata": {
        "id": "Yo2eGydODEij"
      },
      "execution_count": null,
      "outputs": []
    },
    {
      "cell_type": "code",
      "source": [
        "a = 4\n",
        "b = 3\n",
        "print((a**2+b**2)**(1/2))\n",
        "print((a**2 + b**2)**0.5)"
      ],
      "metadata": {
        "colab": {
          "base_uri": "https://localhost:8080/"
        },
        "id": "7aVpVe09_1y_",
        "outputId": "ff47c913-2e62-4e48-8b36-8f4be0e8d4e3"
      },
      "execution_count": 17,
      "outputs": [
        {
          "output_type": "stream",
          "name": "stdout",
          "text": [
            "5.0\n",
            "5.0\n"
          ]
        }
      ]
    },
    {
      "cell_type": "code",
      "source": [
        "# DESAFIO 08\n",
        "\"\"\"\n",
        "Solicite ao usuário o valor do salário atual, em seguida solicite o\n",
        "percentual de aumento e imprima o valor do salário atualizado.\n",
        "\"\"\"\n",
        "\n",
        "sa_atual = int(input(\"Informe seu salário atual: \"))\n",
        "per = int(input(\"Iforme seu percentual de aumento:\"))\n",
        "sa_att = sa_atual + (sa_atual*per/100)\n",
        "print(\"Seu salário atualizado é:\", sa_att)"
      ],
      "metadata": {
        "colab": {
          "base_uri": "https://localhost:8080/"
        },
        "id": "toETUr66WZYj",
        "outputId": "80d6272d-0677-42de-b9fb-0b8dca91ca33"
      },
      "execution_count": 25,
      "outputs": [
        {
          "output_type": "stream",
          "name": "stdout",
          "text": [
            "Informe seu salário atual: 3000\n",
            "Iforme seu percentual de aumento:10\n",
            "Seu salário atualizado é: 300.0\n"
          ]
        }
      ]
    },
    {
      "cell_type": "code",
      "source": [
        "# DESAFIO 09\n",
        "\"\"\"\n",
        "Crie um programa e declare uma constante PI utilizando 4 casas\n",
        "decimais. Dados o raio e a altura, calcule e apresente o volume de um\n",
        "objeto cilíndrico.\n",
        "Fórmula: volume = PI * r² * altura\n",
        "\"\"\"\n",
        "\n",
        "PI = 3.1415\n",
        "raio = float(input(\"Informe o valor do raio: \"))\n",
        "altura = float(input(\"Informe o valor da altura: \"))\n",
        "calc_obj = PI *(raio**2)* altura\n",
        "print(f\"\\nO valor do seu volume cilíndrico é de: {calc_obj:,.1f}cm³\")"
      ],
      "metadata": {
        "id": "gqstbjPLYJfD",
        "colab": {
          "base_uri": "https://localhost:8080/"
        },
        "outputId": "b4e85eb5-27ab-4b6d-8948-89c7e4597b51"
      },
      "execution_count": 44,
      "outputs": [
        {
          "output_type": "stream",
          "name": "stdout",
          "text": [
            "Informe o valor do raio: 5\n",
            "Informe o valor da altura: 5\n",
            "\n",
            "O valor do seu volume cilíndrico é de: 392.7cm³\n"
          ]
        }
      ]
    },
    {
      "cell_type": "code",
      "source": [
        "# DESAFIO 10\n",
        "\"\"\"\n",
        "Imprima uma árvore de Natal como no exemplo utilizando a multiplicação\n",
        "de Strings.\n",
        "          *\n",
        "         ***\n",
        "        *****\n",
        "       *******\n",
        "      *********\n",
        "     ***********\n",
        "    *************\n",
        "   ***************\n",
        "  *****************\n",
        "         ***\n",
        "         ***\n",
        "         ***\n",
        "\"\"\"\n",
        "\n",
        "#Preguiça\n",
        "print(\"\"\"\n",
        "          *\n",
        "         ***\n",
        "        *****\n",
        "       *******\n",
        "      *********\n",
        "     ***********\n",
        "    *************\n",
        "   ***************\n",
        "  *****************\n",
        "         ***\n",
        "         ***\n",
        "         ***\n",
        "\"\"\")\n",
        "\n",
        "\n",
        "#Do professor\n",
        "e = ' '\n",
        "p = '*'\n",
        "\n",
        "\n",
        "print(e*11, p*1)\n",
        "print(e*10, p*3)\n",
        "print(e*9, p*5)\n",
        "print(e*8, p*7)\n",
        "print(e*7, p*9)\n",
        "print(e*6, p*11)\n",
        "print(e*5, p*13)\n",
        "print(e*4, p*15)\n",
        "print(e*3, p*17)\n",
        "\n",
        "\n",
        "print(e*10, p*3)\n",
        "print(e*10, p*3)\n",
        "print(e*10, p*3)"
      ],
      "metadata": {
        "colab": {
          "base_uri": "https://localhost:8080/"
        },
        "id": "_bPHmu828p6m",
        "outputId": "3862e3b7-ddce-41ca-f67d-9fc9604e96d4"
      },
      "execution_count": 49,
      "outputs": [
        {
          "output_type": "stream",
          "name": "stdout",
          "text": [
            "          \n",
            "          *\n",
            "         ***\n",
            "        *****\n",
            "       *******\n",
            "      *********\n",
            "     ***********\n",
            "    *************\n",
            "   ***************\n",
            "  *****************\n",
            "         ***\n",
            "         ***\n",
            "         ***\n",
            "\n",
            "            *\n",
            "           ***\n",
            "          *****\n",
            "         *******\n",
            "        *********\n",
            "       ***********\n",
            "      *************\n",
            "     ***************\n",
            "    *****************\n",
            "           ***\n",
            "           ***\n",
            "           ***\n"
          ]
        }
      ]
    },
    {
      "cell_type": "code",
      "source": [
        "# DESAFIO 11\n",
        "\"\"\"\n",
        "Reproduza a árvore do exercício 10, colocando a cor verde para a copa\n",
        "e vermelha para a base\n",
        "\"\"\"\n",
        "e = ' '\n",
        "p = '*'\n",
        "\n",
        "\n",
        "print(\"\\033[32m\",e*10, p*1)\n",
        "print(e*10, p*3)\n",
        "print(e*9, p*5)\n",
        "print(e*8, p*7)\n",
        "print(e*7, p*9)\n",
        "print(e*6, p*11)\n",
        "print(e*5, p*13)\n",
        "print(e*4, p*15)\n",
        "print(e*3, p*17, \"\\033[31m\")\n",
        "\n",
        "print(e*10, p*3)\n",
        "print(e*10, p*3)\n",
        "print(e*10, p*3)\n"
      ],
      "metadata": {
        "colab": {
          "base_uri": "https://localhost:8080/"
        },
        "id": "tJjV4Lm6-4Eo",
        "outputId": "adbfdc61-2aca-4107-a05f-549701242ad6"
      },
      "execution_count": 55,
      "outputs": [
        {
          "output_type": "stream",
          "name": "stdout",
          "text": [
            "\u001b[32m            *\n",
            "           ***\n",
            "          *****\n",
            "         *******\n",
            "        *********\n",
            "       ***********\n",
            "      *************\n",
            "     ***************\n",
            "    ***************** \u001b[31m\n",
            "           ***\n",
            "           ***\n",
            "           ***\n"
          ]
        }
      ]
    },
    {
      "cell_type": "code",
      "source": [
        "# DESAFIO 12\n",
        "\"\"\"\n",
        "Construir um cardápio utilizando colunas e autopreenchimento.\n",
        "\"\"\"\n",
        "\n",
        "print('\\033[33;42m', \" CARDÁPIO \".center(40, '#'), '\\033[0m')\n",
        "print()\n",
        "print(\"Pastel\".ljust(34, '.'), \"R$ 6,50\")\n",
        "print(\"Coxinha\".ljust(34, '.'), \"R$ 5,50\")\n",
        "print(\"Risoles de queijo\".ljust(34, '.'), \"R$ 7,50\")"
      ],
      "metadata": {
        "colab": {
          "base_uri": "https://localhost:8080/"
        },
        "id": "DpxcPIjYRca9",
        "outputId": "5f1f2bd8-bcd5-4b54-db92-98ecac90a626"
      },
      "execution_count": 56,
      "outputs": [
        {
          "output_type": "stream",
          "name": "stdout",
          "text": [
            "\u001b[33;42m ############### CARDÁPIO ############### \u001b[0m\n",
            "\n",
            "Pastel............................ R$ 6,50\n",
            "Coxinha........................... R$ 5,50\n",
            "Risoles de queijo................. R$ 7,50\n"
          ]
        }
      ]
    },
    {
      "cell_type": "code",
      "source": [
        "# DESAFIO 12 Segunda opção\n",
        "\n",
        "print('\\033[1;33;42m',\" CARDÁPIO \".center(40, '#'),'\\033[0m\\n')\n",
        "\n",
        "\n",
        "print(f\"{'Pastel'.ljust(32, '.')}{'R$ 6,50'.rjust(10, '.')}\")\n",
        "print(f\"{'Coxinha'.ljust(32, '.')}{'R$ 16,50'.rjust(10, '.')}\")\n",
        "print(f\"{'Risoles de queijo'.ljust(32, '.')}{'R$ 156,50'.rjust(10, '.')}\")"
      ],
      "metadata": {
        "colab": {
          "base_uri": "https://localhost:8080/"
        },
        "id": "0XGrTq-pRkck",
        "outputId": "a9446703-f0d1-4a83-d563-0ad03617f858"
      },
      "execution_count": 83,
      "outputs": [
        {
          "output_type": "stream",
          "name": "stdout",
          "text": [
            "\u001b[1;33;42m ############### CARDÁPIO ############### \u001b[0m\n",
            "\n",
            "Pastel.............................R$ 6,50\n",
            "Coxinha...........................R$ 16,50\n",
            "Risoles de queijo................R$ 156,50\n"
          ]
        }
      ]
    },
    {
      "cell_type": "code",
      "source": [
        "#O ljust ou rjust apenas conta 10 caracteres e não acresenta ou seja o valor de R$ 6,50 + 3\n",
        "print(f\"{'Pastel'.ljust(32, '.')}{'R$ 6,50'.rjust(10, '.')}\")"
      ],
      "metadata": {
        "colab": {
          "base_uri": "https://localhost:8080/"
        },
        "id": "Jye6kwbDIebm",
        "outputId": "0f566b03-7886-492f-ed73-90180f34eb38"
      },
      "execution_count": 84,
      "outputs": [
        {
          "output_type": "stream",
          "name": "stdout",
          "text": [
            "Pastel.............................R$ 6,50\n"
          ]
        }
      ]
    },
    {
      "cell_type": "code",
      "source": [
        "# DESAFIO 13\n",
        "\n",
        "\"\"\"\n",
        "Com base no DESAFIO 12, faça com que o usuário digite\n",
        "um produto e um valor para acrescentar no cardápio.\n",
        "\"\"\"\n",
        "\n",
        "produto = input(\"Digite o nome do produto: \")\n",
        "valor = 'R$' + input(\"Digite o valor do produto R$: \")\n",
        "\n",
        "print('\\n\\033[1;33;42m',\" CARDÁPIO \".center(40, '#'),'\\033[0m\\n')\n",
        "\n",
        "print(f\"{'Pastel'.ljust(32, '.')}{'R$ 6,50'.rjust(10, '.')}\")\n",
        "print(f\"{'Coxinha'.ljust(32, '.')}{'R$ 16,50'.rjust(10, '.')}\")\n",
        "print(f\"{'Risoles de queijo'.ljust(32, '.')}{'R$ 156,50'.rjust(10, '.')}\")\n",
        "print(f\"{produto.ljust(32, '.')}{valor.rjust(10, '.')}\")"
      ],
      "metadata": {
        "id": "D41hhDNGb6Dj"
      },
      "execution_count": null,
      "outputs": []
    }
  ]
}