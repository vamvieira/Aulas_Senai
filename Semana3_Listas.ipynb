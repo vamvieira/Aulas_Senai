{
  "nbformat": 4,
  "nbformat_minor": 0,
  "metadata": {
    "colab": {
      "provenance": [],
      "authorship_tag": "ABX9TyObEPujrkpe8bnzH31+9zkc",
      "include_colab_link": true
    },
    "kernelspec": {
      "name": "python3",
      "display_name": "Python 3"
    },
    "language_info": {
      "name": "python"
    }
  },
  "cells": [
    {
      "cell_type": "markdown",
      "metadata": {
        "id": "view-in-github",
        "colab_type": "text"
      },
      "source": [
        "<a href=\"https://colab.research.google.com/github/vamvieira/Aulas_Senai/blob/main/Semana3_Listas.ipynb\" target=\"_parent\"><img src=\"https://colab.research.google.com/assets/colab-badge.svg\" alt=\"Open In Colab\"/></a>"
      ]
    },
    {
      "cell_type": "code",
      "execution_count": 1,
      "metadata": {
        "colab": {
          "base_uri": "https://localhost:8080/"
        },
        "id": "ZR6c9fMP3DbP",
        "outputId": "36ef79bd-2e46-4d27-8ead-151812f9e084"
      },
      "outputs": [
        {
          "output_type": "stream",
          "name": "stdout",
          "text": [
            "[]\n"
          ]
        }
      ],
      "source": [
        "# Lista vazia\n",
        "lista = []\n",
        "lista = list()\n",
        "print(lista)"
      ]
    },
    {
      "cell_type": "code",
      "source": [
        "# lista preenchida\n",
        "bancos = ['itau', 'nubank', 'santander','caixa']\n",
        "print(bancos)"
      ],
      "metadata": {
        "colab": {
          "base_uri": "https://localhost:8080/"
        },
        "id": "pK-qC-kP3p9v",
        "outputId": "e0b9fcb7-8308-43a4-8c25-c65a74081c0a"
      },
      "execution_count": 2,
      "outputs": [
        {
          "output_type": "stream",
          "name": "stdout",
          "text": [
            "['itau', 'nubank', 'santander', 'caixa']\n"
          ]
        }
      ]
    },
    {
      "cell_type": "code",
      "source": [
        "# acessando por posição\n",
        "# primeira posição\n",
        "print(bancos[0])\n",
        "# ultima posição\n",
        "print(bancos[-1]) #indice negativo começa de tras para frente\n",
        "# fatiamento de lista\n",
        "print(bancos[0:2]) # [inicio:fim:salto]"
      ],
      "metadata": {
        "colab": {
          "base_uri": "https://localhost:8080/"
        },
        "id": "Mj08RmI43rpv",
        "outputId": "e91b37ee-e75a-4924-d2f1-3f56efd516f0"
      },
      "execution_count": 3,
      "outputs": [
        {
          "output_type": "stream",
          "name": "stdout",
          "text": [
            "itau\n",
            "caixa\n",
            "['itau', 'nubank']\n"
          ]
        }
      ]
    },
    {
      "cell_type": "code",
      "source": [
        "# percorrendo a lista com FOR\n",
        "for i in bancos:\n",
        "  if bancos[-1] != i:\n",
        "    print(i, end=',')\n",
        "  else:\n",
        "    print(i)"
      ],
      "metadata": {
        "colab": {
          "base_uri": "https://localhost:8080/"
        },
        "id": "I0KVQSTS3s1u",
        "outputId": "ed34697b-30eb-4876-8aa2-1f73eeb38f9b"
      },
      "execution_count": 4,
      "outputs": [
        {
          "output_type": "stream",
          "name": "stdout",
          "text": [
            "itau,nubank,santander,caixa\n"
          ]
        }
      ]
    },
    {
      "cell_type": "code",
      "source": [
        "#metodos e funções\n",
        "#len() conta  quantos elementos tem na lista\n",
        "print('numero de elementos na lista:',len(bancos))\n",
        "# lista.reverse() inverte a ordem da lista\n",
        "bancos.reverse()\n",
        "print('lista invertida:',bancos)\n",
        "# lista,sort() lista em ordem numerica/alfabetica\n",
        "bancos.sort()\n",
        "print('lista crescente:',bancos)\n",
        "#lista.sort(reverse=True) lista decrescente\n",
        "bancos.sort(reverse=True)\n",
        "print('lista descrescente:', bancos)"
      ],
      "metadata": {
        "colab": {
          "base_uri": "https://localhost:8080/"
        },
        "id": "MWWZLiuy3uBe",
        "outputId": "0bd29dcc-a03b-437c-ba7f-f33356990959"
      },
      "execution_count": 5,
      "outputs": [
        {
          "output_type": "stream",
          "name": "stdout",
          "text": [
            "numero de elementos na lista: 4\n",
            "lista invertida: ['caixa', 'santander', 'nubank', 'itau']\n",
            "lista crescente: ['caixa', 'itau', 'nubank', 'santander']\n",
            "lista descrescente: ['santander', 'nubank', 'itau', 'caixa']\n"
          ]
        }
      ]
    },
    {
      "cell_type": "code",
      "source": [
        "# novos elementos na lista\n",
        "#lista.append() adiciona ao final da lista\n",
        "bancos.append('c6')\n",
        "print(bancos)\n",
        "# tbm adiciona ao final da lista\n",
        "bancos +=  ['safra']\n",
        "print(bancos)\n",
        "#lista.insert() adiciona de acordo com o index\n",
        "bancos.insert(2, bancos[2]) # bancos[-5]\n",
        "print(bancos)"
      ],
      "metadata": {
        "colab": {
          "base_uri": "https://localhost:8080/"
        },
        "id": "TRzLcM2l3v7-",
        "outputId": "6520c94c-b914-4603-dd76-245d72d534fa"
      },
      "execution_count": 6,
      "outputs": [
        {
          "output_type": "stream",
          "name": "stdout",
          "text": [
            "['santander', 'nubank', 'itau', 'caixa', 'c6']\n",
            "['santander', 'nubank', 'itau', 'caixa', 'c6', 'safra']\n",
            "['santander', 'nubank', 'itau', 'itau', 'caixa', 'c6', 'safra']\n"
          ]
        }
      ]
    },
    {
      "cell_type": "code",
      "source": [
        "#lista.count() quantas vezes aparece determinado elemento\n",
        "print('quantas vezes aparece o mesmo elemento:',bancos.count('c6'))\n",
        "#lista.index() primeira vez que aparece determinado elemento\n",
        "print('Aparece \"safra\" a primeira vez:', bancos.index('safra')+1)\n",
        "#elemento in lista -  verifica se o elemento esta na lista\n",
        "print('itau esta na lista:',\"itau\" in bancos)"
      ],
      "metadata": {
        "colab": {
          "base_uri": "https://localhost:8080/"
        },
        "id": "Fb-GDwJ33x-O",
        "outputId": "f456eed9-0b8b-409c-bdb8-7facf91b648f"
      },
      "execution_count": 8,
      "outputs": [
        {
          "output_type": "stream",
          "name": "stdout",
          "text": [
            "quantas vezes aparece o mesmo elemento: 1\n",
            "Aparece \"safra\" a primeira vez: 7\n",
            "itau esta na lista: True\n"
          ]
        }
      ]
    },
    {
      "cell_type": "code",
      "source": [
        "#lista.remove() remove o primeiro elemento que busca na lista\n",
        "bancos.remove('c6')\n",
        "print(bancos)"
      ],
      "metadata": {
        "colab": {
          "base_uri": "https://localhost:8080/"
        },
        "id": "CMQKyfGn3z9_",
        "outputId": "79566eee-8f89-4c53-dfa3-65a658d6f060"
      },
      "execution_count": 9,
      "outputs": [
        {
          "output_type": "stream",
          "name": "stdout",
          "text": [
            "['santander', 'nubank', 'itau', 'itau', 'caixa', 'safra']\n"
          ]
        }
      ]
    },
    {
      "cell_type": "code",
      "source": [
        "#lista.pop() remove o ultimo ou pode remover por indece. Alem de salvar em um variavel\n",
        "bancoRemovido = bancos.pop() #bancos.pop(3) removeria o terceiro indice e colocaria na variavel\n",
        "print(bancos)\n",
        "print(bancoRemovido)"
      ],
      "metadata": {
        "colab": {
          "base_uri": "https://localhost:8080/"
        },
        "id": "ivyzUKGZ9p4v",
        "outputId": "276816ea-1041-482a-e96b-18b6618149e8"
      },
      "execution_count": 10,
      "outputs": [
        {
          "output_type": "stream",
          "name": "stdout",
          "text": [
            "['santander', 'nubank', 'itau', 'itau', 'caixa']\n",
            "safra\n"
          ]
        }
      ]
    },
    {
      "cell_type": "code",
      "source": [
        "# del lista[n°] apaga a posição ou o range\n",
        "del bancos[3:6]\n",
        "print(bancos)"
      ],
      "metadata": {
        "colab": {
          "base_uri": "https://localhost:8080/"
        },
        "id": "tEq1Wk4v9rgd",
        "outputId": "040676c6-0282-4b68-e217-6ee269d57b2a"
      },
      "execution_count": 11,
      "outputs": [
        {
          "output_type": "stream",
          "name": "stdout",
          "text": [
            "['santander', 'nubank', 'itau']\n"
          ]
        }
      ]
    },
    {
      "cell_type": "code",
      "source": [
        "#lista duplica por endereço - clones\n",
        "lista = bancos\n",
        "print(lista,bancos)\n",
        "print(id(lista), id(bancos))\n",
        "#quando apago de um lista que tem referencia de outra apagamos o elemeto ou elementos das duas listas\n",
        "del lista[1]\n",
        "print(lista)\n",
        "print(bancos)"
      ],
      "metadata": {
        "colab": {
          "base_uri": "https://localhost:8080/"
        },
        "id": "5lSQDQgz9s29",
        "outputId": "722f2c57-506a-4e4e-a37b-bf49eebd58cb"
      },
      "execution_count": 12,
      "outputs": [
        {
          "output_type": "stream",
          "name": "stdout",
          "text": [
            "['santander', 'nubank', 'itau'] ['santander', 'nubank', 'itau']\n",
            "139678452388416 139678452388416\n",
            "['santander', 'itau']\n",
            "['santander', 'itau']\n"
          ]
        }
      ]
    },
    {
      "cell_type": "code",
      "source": [
        "#lista.copy() metodo copia lista, mas não o endereço na memoria, logo quando altero uma lista\n",
        "# a outra não sofre as alterações\n",
        "lista2 = lista.copy()\n",
        "lista2.append('nubank')\n",
        "print(lista)\n",
        "print(lista2)\n",
        "# tbm copia sem pegar o endereço da memoria, logo quando altero uma lista\n",
        "# a outra não sofre as alterações\n",
        "lista3 = lista[:]\n",
        "lista3.insert(0, 'yellow')\n",
        "print(lista)\n",
        "print(lista3)"
      ],
      "metadata": {
        "colab": {
          "base_uri": "https://localhost:8080/"
        },
        "id": "dhzm6QSd9uPe",
        "outputId": "35c9d0f4-1171-4610-d68e-b969666f0630"
      },
      "execution_count": 13,
      "outputs": [
        {
          "output_type": "stream",
          "name": "stdout",
          "text": [
            "['santander', 'itau']\n",
            "['santander', 'itau', 'nubank']\n",
            "['santander', 'itau']\n",
            "['yellow', 'santander', 'itau']\n"
          ]
        }
      ]
    },
    {
      "cell_type": "code",
      "source": [
        "# Do professor\n",
        "numeros = [2,6,9,7,10]\n",
        "soma = 0\n",
        "for num in numeros:\n",
        "  soma+=num\n",
        "print(f'A soma dos numeros é de {soma}')\n",
        "# função sum() soma elementos\n",
        "print(f'A soma dos elementos é de {sum(numeros)}')"
      ],
      "metadata": {
        "id": "U_lmygGRNGXL"
      },
      "execution_count": 24,
      "outputs": []
    },
    {
      "cell_type": "code",
      "source": [
        "soma_list = [1,2,3,4,67]\n",
        "print(len(soma_list))"
      ],
      "metadata": {
        "colab": {
          "base_uri": "https://localhost:8080/"
        },
        "id": "C49jBfqX9vlO",
        "outputId": "0f901a02-7eba-44bc-86e1-a98a0728a7cb"
      },
      "execution_count": 16,
      "outputs": [
        {
          "output_type": "stream",
          "name": "stdout",
          "text": [
            "5\n"
          ]
        }
      ]
    },
    {
      "cell_type": "code",
      "source": [
        "lista_1 = [2,6,9,7,10]\n",
        "print(f'A  soma dos numeros é de: {sum(lista_1)}')"
      ],
      "metadata": {
        "colab": {
          "base_uri": "https://localhost:8080/"
        },
        "id": "8W1DQna__4PV",
        "outputId": "cb91d298-bcb5-48ed-e99a-40372bc7a06f"
      },
      "execution_count": 22,
      "outputs": [
        {
          "output_type": "stream",
          "name": "stdout",
          "text": [
            "A  soma dos numeros é de: 34\n"
          ]
        }
      ]
    },
    {
      "cell_type": "markdown",
      "source": [
        "1. Soma dos Elementos:\n",
        "\n",
        "Escreva um programa que recebe uma lista\n",
        "de números e retorna a soma de todos os\n",
        "elementos."
      ],
      "metadata": {
        "id": "6o6bl2BDLjFj"
      }
    },
    {
      "cell_type": "code",
      "source": [
        "num = 0\n",
        "lista = list()\n",
        "while True:\n",
        "  num = int(input('Digite um numero: (\"0\" para sair)\\n'))\n",
        "  if num == 0:\n",
        "    break\n",
        "  else:\n",
        "    lista.append(num)\n",
        "print(f'Lista: {lista}')"
      ],
      "metadata": {
        "id": "TbOD6yds-tGv"
      },
      "execution_count": 18,
      "outputs": []
    },
    {
      "cell_type": "code",
      "source": [
        "#Ordenação de lista\n",
        "numeros = [25,3,15,10,0,-6]\n",
        "for i in range(len[numeros]):\n",
        "  for j in range(len(numeros)):\n",
        "    if numeros[i] > numeros [j]:\n",
        "      numeros[i], numeros[j] = numeros[j], numeros[i]\n",
        "print(numeros)"
      ],
      "metadata": {
        "id": "XvRsZMBx_yOd"
      },
      "execution_count": null,
      "outputs": []
    },
    {
      "cell_type": "markdown",
      "source": [
        "#Matriz"
      ],
      "metadata": {
        "id": "EgXbvNHFRrOi"
      }
    },
    {
      "cell_type": "code",
      "source": [
        "matriz = [[' ' for i in range (3)] for i in range(3)]\n",
        "matriz[1][1] ='X'\n",
        "for i in matriz:\n",
        "  print(i)"
      ],
      "metadata": {
        "colab": {
          "base_uri": "https://localhost:8080/"
        },
        "id": "q-cigvroTsi7",
        "outputId": "ada5231b-ac2b-47b2-a5bc-de80ab9db9f4"
      },
      "execution_count": 28,
      "outputs": [
        {
          "output_type": "stream",
          "name": "stdout",
          "text": [
            "[' ', ' ', ' ']\n",
            "[' ', 'X', ' ']\n",
            "[' ', ' ', ' ']\n"
          ]
        }
      ]
    },
    {
      "cell_type": "code",
      "source": [
        "tabuleiro = [[' ' for i in range (8)] for i in range(8)]\n",
        "for i in tabuleiro:\n",
        "  print(i)"
      ],
      "metadata": {
        "colab": {
          "base_uri": "https://localhost:8080/"
        },
        "id": "9WwZiL0IUBZ8",
        "outputId": "2c392566-33f8-49e6-d046-2aff439f9a08"
      },
      "execution_count": 30,
      "outputs": [
        {
          "output_type": "stream",
          "name": "stdout",
          "text": [
            "[' ', ' ', ' ', ' ', ' ', ' ', ' ', ' ']\n",
            "[' ', ' ', ' ', ' ', ' ', ' ', ' ', ' ']\n",
            "[' ', ' ', ' ', ' ', ' ', ' ', ' ', ' ']\n",
            "[' ', ' ', ' ', ' ', ' ', ' ', ' ', ' ']\n",
            "[' ', ' ', ' ', ' ', ' ', ' ', ' ', ' ']\n",
            "[' ', ' ', ' ', ' ', ' ', ' ', ' ', ' ']\n",
            "[' ', ' ', ' ', ' ', ' ', ' ', ' ', ' ']\n",
            "[' ', ' ', ' ', ' ', ' ', ' ', ' ', ' ']\n"
          ]
        }
      ]
    },
    {
      "cell_type": "code",
      "source": [
        "#Tipo de questão da prova\n",
        "lista = [1,2,2,3,5,4]\n",
        "for i in range(len(lista)):\n",
        "  lista.insert(lista.index(2), lista[lista[2]])\n",
        "print(lista)"
      ],
      "metadata": {
        "id": "stET2WpYUmHr"
      },
      "execution_count": null,
      "outputs": []
    }
  ]
}