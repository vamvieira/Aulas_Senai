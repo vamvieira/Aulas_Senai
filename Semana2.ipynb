{
  "nbformat": 4,
  "nbformat_minor": 0,
  "metadata": {
    "colab": {
      "provenance": [],
      "authorship_tag": "ABX9TyOj7ZYlHy7fEVG0mO31Xo23",
      "include_colab_link": true
    },
    "kernelspec": {
      "name": "python3",
      "display_name": "Python 3"
    },
    "language_info": {
      "name": "python"
    }
  },
  "cells": [
    {
      "cell_type": "markdown",
      "metadata": {
        "id": "view-in-github",
        "colab_type": "text"
      },
      "source": [
        "<a href=\"https://colab.research.google.com/github/vamvieira/Aulas_Senai/blob/main/Semana2.ipynb\" target=\"_parent\"><img src=\"https://colab.research.google.com/assets/colab-badge.svg\" alt=\"Open In Colab\"/></a>"
      ]
    },
    {
      "cell_type": "code",
      "execution_count": null,
      "metadata": {
        "colab": {
          "base_uri": "https://localhost:8080/"
        },
        "id": "BxfTYOngr2c5",
        "outputId": "cf32221a-97d5-4b8a-ca43-f9a773d3151c"
      },
      "outputs": [
        {
          "output_type": "stream",
          "name": "stdout",
          "text": [
            "Digite o valor do produto: 9000\n",
            "Digite o valor do desconto: 10\n",
            "Total a pagar com o valor do desconto R$8100.0 \n",
            "Valor do seu desconto R$900.0 \n"
          ]
        }
      ],
      "source": [
        "valor_prod = float(input(\"Digite o valor do produto: \"))\n",
        "valor_desc = int(input(\"Digite o valor do desconto: \"))\n",
        "valor_desc = (valor_desc/100)*valor_prod\n",
        "valor_final = valor_prod - valor_desc\n",
        "print(f'Total a pagar com o valor do desconto R${valor_final} ')\n",
        "print(f'Valor do seu desconto R${valor_desc} ')"
      ]
    },
    {
      "cell_type": "code",
      "source": [
        "a = float(input(\"Digite o valor do Cateto A: \"))\n",
        "b = float(input(\"Digite o valor do Cateto B: \"))\n",
        "c = (a**2 + b**2)**.5\n",
        "print(f' O calculo da hipotenusa é de: {c}')"
      ],
      "metadata": {
        "colab": {
          "base_uri": "https://localhost:8080/"
        },
        "id": "rUhwpemFtkpr",
        "outputId": "76f2e604-5282-45c8-f86a-517d46ee1e70"
      },
      "execution_count": null,
      "outputs": [
        {
          "output_type": "stream",
          "name": "stdout",
          "text": [
            "Digite o valor do Cateto A: 30\n",
            "Digite o valor do Cateto B: 40\n",
            " O calculo da hipotenusa é de: 50.0\n"
          ]
        }
      ]
    },
    {
      "cell_type": "code",
      "source": [
        "x = int(input())\n",
        "y = int(input())\n",
        "\n",
        "print(x + y)\n",
        "\n"
      ],
      "metadata": {
        "colab": {
          "base_uri": "https://localhost:8080/"
        },
        "id": "_vE95T9bvl1J",
        "outputId": "fbd16a98-f448-40a1-af54-938e1805bff4"
      },
      "execution_count": null,
      "outputs": [
        {
          "output_type": "stream",
          "name": "stdout",
          "text": [
            "2\n",
            "4\n",
            "6\n"
          ]
        }
      ]
    },
    {
      "cell_type": "code",
      "source": [
        "a = 5\n",
        "b = 5\n",
        "print(a==b)"
      ],
      "metadata": {
        "colab": {
          "base_uri": "https://localhost:8080/"
        },
        "id": "H4io-6czxLBY",
        "outputId": "0d621057-127b-4f52-d66a-959d2155627f"
      },
      "execution_count": null,
      "outputs": [
        {
          "output_type": "stream",
          "name": "stdout",
          "text": [
            "True\n"
          ]
        }
      ]
    },
    {
      "cell_type": "markdown",
      "source": [
        "```\n",
        "OPERADORES RELACIONAIS (OU DE COMPARAÇÃO)\n",
        "\n",
        "\n",
        ">  MAIOR\n",
        "<  MENOR\n",
        ">= MAIOR OU IGUAL\n",
        "<= MENOR OU IGUAL\n",
        "== IGUAL\n",
        "!= DIFERENTE\n",
        "\n",
        "\n",
        "OPERADORES LÓGICOS\n",
        "\n",
        "\n",
        "and | or | not | in\n",
        "```\n"
      ],
      "metadata": {
        "id": "jjUakBdRIbgQ"
      }
    },
    {
      "cell_type": "code",
      "source": [
        "media = 7\n",
        "if media >= 7:\n",
        "  print(\"Aprovado\")\n",
        "else:\n",
        "  print(\"Reprovado\")"
      ],
      "metadata": {
        "colab": {
          "base_uri": "https://localhost:8080/"
        },
        "id": "SDmxYJ3x4E0z",
        "outputId": "21c35c70-b0d6-45fd-8ff8-0445f6cdab77"
      },
      "execution_count": null,
      "outputs": [
        {
          "output_type": "stream",
          "name": "stdout",
          "text": [
            "Aprovado\n"
          ]
        }
      ]
    },
    {
      "cell_type": "code",
      "source": [
        "velocidade = float(input('Digite a velocidade'))\n",
        "if velocidade > 50:\n",
        "  print(f'Multa: R${(velocidade-50)*7}')\n"
      ],
      "metadata": {
        "colab": {
          "base_uri": "https://localhost:8080/"
        },
        "id": "fny7tuaaGIRJ",
        "outputId": "f3aa5b2d-eeeb-45e0-d78c-ada94c713030"
      },
      "execution_count": null,
      "outputs": [
        {
          "output_type": "stream",
          "name": "stdout",
          "text": [
            "Digite a velocidade69\n",
            "Multa: R$133.0\n"
          ]
        }
      ]
    },
    {
      "cell_type": "code",
      "source": [
        "#EXEMPLO AND\n",
        "media = 6\n",
        "if media > 4 and media < 7:\n",
        "  print(\"Recuperação\")"
      ],
      "metadata": {
        "colab": {
          "base_uri": "https://localhost:8080/"
        },
        "id": "DTdoJDDpJs-u",
        "outputId": "1be85919-641a-49dc-e3d7-cb6e8fa81fde"
      },
      "execution_count": null,
      "outputs": [
        {
          "output_type": "stream",
          "name": "stdout",
          "text": [
            "Recuperação\n"
          ]
        }
      ]
    },
    {
      "cell_type": "code",
      "source": [
        "#EXEMPLO OR\n",
        "veiculo = 'carro'\n",
        "if veiculo == 'carro' or veiculo == 'moto':\n",
        "  print('Carteira A/B')"
      ],
      "metadata": {
        "colab": {
          "base_uri": "https://localhost:8080/"
        },
        "id": "xzGphfctJ1TW",
        "outputId": "79017ddf-c4ec-4e4f-e6b2-65a73ad6d33c"
      },
      "execution_count": null,
      "outputs": [
        {
          "output_type": "stream",
          "name": "stdout",
          "text": [
            "Carteira A/B\n"
          ]
        }
      ]
    },
    {
      "cell_type": "code",
      "source": [
        "#EXEMPLO NOT\n",
        "num = 6\n",
        "if not num > 6:\n",
        "  print('Numero menor que 6')"
      ],
      "metadata": {
        "colab": {
          "base_uri": "https://localhost:8080/"
        },
        "id": "13riUDq5K9k2",
        "outputId": "fd976edb-e525-4831-9554-5e93d7acf3f2"
      },
      "execution_count": null,
      "outputs": [
        {
          "output_type": "stream",
          "name": "stdout",
          "text": [
            "Numero menor que 6\n"
          ]
        }
      ]
    },
    {
      "cell_type": "code",
      "source": [
        "#EXERCÍCIOS IF | ESLSE\n",
        "\n",
        "#Validador de numero par ou ímpar\n",
        "num = int(input(\"Digite o seu numero: \"))\n",
        "if num%2: 1, print(\"Seu número é ímpar \")\n",
        "else:\n",
        "  print(\"Seu número é par\")"
      ],
      "metadata": {
        "colab": {
          "base_uri": "https://localhost:8080/"
        },
        "id": "9GzS7SwrMTDE",
        "outputId": "574bad3b-a7e8-47b3-b12c-051c92c8846c"
      },
      "execution_count": null,
      "outputs": [
        {
          "output_type": "stream",
          "name": "stdout",
          "text": [
            "Digite o seu numero: 3\n",
            "Seu número é ímpar \n"
          ]
        }
      ]
    },
    {
      "cell_type": "code",
      "source": [
        "#Operação ternária no validador\n",
        "num = int(input(\"Digite o seu numero: \"))\n",
        "msg = \"Seu numero é Par\" if num%2 == 0 else \"Seu numero é ímpar\"\n",
        "print(msg)"
      ],
      "metadata": {
        "id": "jMjzDQg2T9t_"
      },
      "execution_count": null,
      "outputs": []
    },
    {
      "cell_type": "code",
      "source": [
        "#Validador de Maior idade\n",
        "idade = int(input(\"Digite idade: \"))\n",
        "if idade >= 18:\n",
        "  print(\"Maior de idade\")\n",
        "else:\n",
        "  print(\"Menor de idade\")"
      ],
      "metadata": {
        "colab": {
          "base_uri": "https://localhost:8080/"
        },
        "id": "GNgI6-q1SRqh",
        "outputId": "d3049748-6952-46af-b8b2-d05c7868483d"
      },
      "execution_count": null,
      "outputs": [
        {
          "output_type": "stream",
          "name": "stdout",
          "text": [
            "Digite idade: 19\n",
            "Maior de idade\n"
          ]
        }
      ]
    },
    {
      "cell_type": "code",
      "source": [
        "#Fazer um validador de admin e usuário com os repectivos caracteres corretos.\n",
        "user = input(\"Digite seu usuário: \")\n",
        "senha = input(\"Digite sua senha: \")\n",
        "\n",
        "if user == \"admin\" and senha == \"python123\":\n",
        "  print(\"Login bem-sucedido\")\n",
        "else:\n",
        "  print(\"Usuário ou Senha incorretos\")"
      ],
      "metadata": {
        "colab": {
          "base_uri": "https://localhost:8080/"
        },
        "id": "a30hERcqUTJe",
        "outputId": "88b3289f-03c9-4cbb-eacc-08976227767c"
      },
      "execution_count": null,
      "outputs": [
        {
          "output_type": "stream",
          "name": "stdout",
          "text": [
            "Digite seu usuário: 1\n",
            "Digite sua senha: 1\n",
            "Usuário ou Senha incorretos\n"
          ]
        }
      ]
    },
    {
      "cell_type": "code",
      "source": [
        "#Lógica ELIF\n",
        "\n",
        "media = 6\n",
        "if media > 6:\n",
        "  print(\"Aprovado\")\n",
        "elif media < 5:\n",
        "  print(\"Reprovado\")\n",
        "else:\n",
        "  print(\"Recuperação\")"
      ],
      "metadata": {
        "id": "zh63tGDba7la"
      },
      "execution_count": null,
      "outputs": []
    },
    {
      "cell_type": "code",
      "source": [
        "#EXERCÍCIO ELIF\n",
        "\n",
        "#Calculadora\n",
        "\n",
        "num1 = int(input(\"Digite seu número 1: \"))\n",
        "num2 = int(input(\"Digite seu número 2: \"))\n",
        "operacao = input(\"Digite a operação: \")\n",
        "if operacao == \"+\":\n",
        "  print(f'Escolheu a soma:{num1+num2}')\n",
        "elif operacao == \"-\":\n",
        "  print(f'Escolheu a subtração:{num1-num2}')\n",
        "elif operacao == \"*\":\n",
        "  print(f'Escolheu a multiplicação:{num1*num2}')\n",
        "elif operacao == \"/\":\n",
        "  print(f'Escolheu a divisão:{num1/num2}')\n",
        "else:\n",
        "  print(\"Erro: Comando não existe\")\n"
      ],
      "metadata": {
        "colab": {
          "base_uri": "https://localhost:8080/"
        },
        "id": "y7c4PHHkWVbe",
        "outputId": "31eb3fd8-f6c4-44e1-b260-b69445d69108"
      },
      "execution_count": null,
      "outputs": [
        {
          "output_type": "stream",
          "name": "stdout",
          "text": [
            "Digite seu número 1: 5\n",
            "Digite seu número 2: 5\n",
            "Digite a operação: .\n",
            "Erro: Comando não existe\n"
          ]
        }
      ]
    },
    {
      "cell_type": "code",
      "source": [
        "#Da muita volta assim, cód nao limpo\n",
        "add = \"+\"\n",
        "sub = \"-\"\n",
        "mult = \"*\"\n",
        "div = \"/\"\n",
        "\n",
        "num1 = int(input(\"Digite seu número 1: \"))\n",
        "num2 = int(input(\"Digite seu número 2: \"))\n",
        "operacao = input(\"Digite a operação: \")\n",
        "\n",
        "if operacao == add:\n",
        "  print(f'Escolheu a soma:{num1+num2}')\n",
        "elif operacao == sub:\n",
        "  print(f'Escolheu a subtração:{num1-num2}')\n",
        "elif operacao == mult:\n",
        "  print(f'Escolheu a multiplicação:{num1*num2}')\n",
        "elif operacao == div:\n",
        "  print(f'Escolheu a divisão:{num1/num2}')\n",
        "else:\n",
        "  print(\"Erro: Comando não existe\")"
      ],
      "metadata": {
        "colab": {
          "base_uri": "https://localhost:8080/"
        },
        "id": "4cP6-9sAb-9a",
        "outputId": "bf54e3fe-3938-4e45-c461-6fcb75767223"
      },
      "execution_count": null,
      "outputs": [
        {
          "output_type": "stream",
          "name": "stdout",
          "text": [
            "Digite seu número 1: 1\n",
            "Digite seu número 2: 1\n",
            "Digite a operação: +\n",
            "Escolheu a soma:2\n"
          ]
        }
      ]
    },
    {
      "cell_type": "code",
      "source": [
        "#Criar um programa que leia o ano de nascimento de um atleta e mostre sua categoria, de acordo com a idade\n",
        "\n",
        "ano = 2025-int(input(\"Digite seu ano: \"))\n",
        "if ano <= 9:\n",
        "  print(\"Classe Mirim\")\n",
        "elif 10 <= ano <= 14:\n",
        "  print(\"Classe Infantil\")\n",
        "elif 15 <=  ano <= 18:\n",
        "  print(\"Classe Junior\")\n",
        "elif 19 <= ano <= 24:\n",
        "  print(\"Classe Sênior\")\n",
        "else:\n",
        "  print(\"Classe Master\")\n"
      ],
      "metadata": {
        "id": "T_O5dL7Rc-8Z",
        "colab": {
          "base_uri": "https://localhost:8080/"
        },
        "outputId": "4598f414-0500-4138-9448-ad828576f59d"
      },
      "execution_count": null,
      "outputs": [
        {
          "output_type": "stream",
          "name": "stdout",
          "text": [
            "Digite seu ano: 2050\n",
            "Classe Mirim\n"
          ]
        }
      ]
    },
    {
      "cell_type": "code",
      "source": [
        "#WHILHE\n",
        "\n",
        "x = 1\n",
        "num = 2\n",
        "while x < 11:\n",
        "  print(f'{num} x {x} = {num*x}')\n",
        "  x+=1\n",
        "print(\"This is the end\")"
      ],
      "metadata": {
        "colab": {
          "base_uri": "https://localhost:8080/"
        },
        "id": "KOwRwktmGiwV",
        "outputId": "b78a9a81-13df-465c-ad39-5e77d114b6eb"
      },
      "execution_count": null,
      "outputs": [
        {
          "output_type": "stream",
          "name": "stdout",
          "text": [
            "2 x 1 = 2\n",
            "2 x 2 = 4\n",
            "2 x 3 = 6\n",
            "2 x 4 = 8\n",
            "2 x 5 = 10\n",
            "2 x 6 = 12\n",
            "2 x 7 = 14\n",
            "2 x 8 = 16\n",
            "2 x 9 = 18\n",
            "2 x 10 = 20\n",
            "This is the end\n"
          ]
        }
      ]
    },
    {
      "cell_type": "code",
      "source": [
        "while True:\n",
        "  sair = input(\"Deseja sair: (S/N)\\n\").upper().strip()\n",
        "  if sair == 'S':\n",
        "    break"
      ],
      "metadata": {
        "colab": {
          "base_uri": "https://localhost:8080/"
        },
        "id": "dc0m_WMUZSGy",
        "outputId": "a6641c5b-2fd3-45f1-ab84-af2b1124d177"
      },
      "execution_count": null,
      "outputs": [
        {
          "name": "stdout",
          "output_type": "stream",
          "text": [
            "Deseja sair: (S/N)\n",
            "s\n"
          ]
        }
      ]
    },
    {
      "cell_type": "code",
      "source": [
        "i = 0\n",
        "while i < 5:\n",
        "  i = i+1\n",
        "  if i == 3:\n",
        "    continue\n",
        "  print(i)"
      ],
      "metadata": {
        "colab": {
          "base_uri": "https://localhost:8080/"
        },
        "id": "Staoc2yidOhh",
        "outputId": "4d4a3a5c-a638-449d-e246-fa532d2e54d5"
      },
      "execution_count": null,
      "outputs": [
        {
          "output_type": "stream",
          "name": "stdout",
          "text": [
            "1\n",
            "2\n",
            "4\n",
            "5\n"
          ]
        }
      ]
    },
    {
      "cell_type": "code",
      "source": [
        "i = 10\n",
        "while i >= 0:\n",
        "  print(i)\n",
        "  i=i-1"
      ],
      "metadata": {
        "colab": {
          "base_uri": "https://localhost:8080/"
        },
        "id": "sKaVLL0ufiSR",
        "outputId": "bd37665d-93dc-408f-8064-c8d6229bda8c"
      },
      "execution_count": null,
      "outputs": [
        {
          "output_type": "stream",
          "name": "stdout",
          "text": [
            "10\n",
            "9\n",
            "8\n",
            "7\n",
            "6\n",
            "5\n",
            "4\n",
            "3\n",
            "2\n",
            "1\n",
            "0\n"
          ]
        }
      ]
    },
    {
      "cell_type": "code",
      "source": [
        "contador = 0\n",
        "while contador < 3:\n",
        "  senha = input(\"Digite a senha: \")\n",
        "  if senha == '1234':\n",
        "    print(\"Sucesso\")\n",
        "    break\n",
        "  else:\n",
        "    print(f'erro')\n",
        "  contador+=1"
      ],
      "metadata": {
        "colab": {
          "base_uri": "https://localhost:8080/"
        },
        "id": "FrSKO_JAhVry",
        "outputId": "d79cef6e-52fe-4066-cfa5-2e367acfc1f4"
      },
      "execution_count": null,
      "outputs": [
        {
          "output_type": "stream",
          "name": "stdout",
          "text": [
            "Digite a senha: 25\n",
            "erro\n",
            "Digite a senha: 25\n",
            "erro\n",
            "Digite a senha: 55\n",
            "erro\n"
          ]
        }
      ]
    },
    {
      "cell_type": "code",
      "source": [
        "from time import sleep\n",
        "tempo = 2\n",
        "contador = 0\n",
        "while True:\n",
        "  senha = input(\"Digite a senha: \")\n",
        "  if senha == '1234':\n",
        "    print(\"Sucesso parabens\")\n",
        "    break\n",
        "  else:\n",
        "    contador+=1\n",
        "  if contador ==3:\n",
        "    print('Tente mais tarde!')\n",
        "    sleep(tempo)\n",
        "    contador = 0\n",
        "    tempo *= 2"
      ],
      "metadata": {
        "colab": {
          "base_uri": "https://localhost:8080/"
        },
        "id": "lYK-LE1niYvi",
        "outputId": "f0dab79b-9636-4c1a-e5ee-b13323f45f56"
      },
      "execution_count": null,
      "outputs": [
        {
          "output_type": "stream",
          "name": "stdout",
          "text": [
            "Digite a senha: q\n",
            "Digite a senha: q\n",
            "Digite a senha: \n",
            "Tente mais tarde!\n",
            "Digite a senha: q\n",
            "Digite a senha: q\n",
            "Digite a senha: q\n",
            "Tente mais tarde!\n",
            "Digite a senha: q\n",
            "Digite a senha: q\n",
            "Digite a senha: q\n",
            "Tente mais tarde!\n",
            "Digite a senha: q\n",
            "Digite a senha: q\n",
            "Digite a senha: q\n",
            "Tente mais tarde!\n",
            "Digite a senha: q\n",
            "Digite a senha: q\n",
            "Digite a senha: q\n",
            "Tente mais tarde!\n",
            "Digite a senha: 12345\n",
            "Digite a senha: 1234\n",
            "Sucesso parabens\n"
          ]
        }
      ]
    },
    {
      "cell_type": "code",
      "source": [
        "from google.colab import output\n",
        "from time import sleep\n",
        "from random import randint\n",
        "pc = randint(1,100)\n",
        "print(pc)\n",
        "while True:\n",
        "  num = int(input(\"Advinhe o numero: \"))\n",
        "  if pc == num:\n",
        "    print('Está correto! 🤑')\n",
        "    break\n",
        "  sleep(2)\n",
        "  output.clear()\n",
        "  if num > pc:\n",
        "    print('O número é menor! 👇')\n",
        "  else:\n",
        "    print(\"O número é maior! 👆 \")\n",
        "else:\n",
        "  print(\"Acabou ❌\")"
      ],
      "metadata": {
        "colab": {
          "base_uri": "https://localhost:8080/"
        },
        "id": "8MDIbYMnpA6R",
        "outputId": "5e56b804-d0c5-4a07-8425-3971fbfb6be9"
      },
      "execution_count": 4,
      "outputs": [
        {
          "output_type": "stream",
          "name": "stdout",
          "text": [
            "67\n",
            "Advinhe o numero: 67\n",
            "Está correto! 🤑\n"
          ]
        }
      ]
    },
    {
      "cell_type": "code",
      "source": [
        "#estrutura FOR\n",
        "\n",
        "for i in range (1, 11):\n",
        "  print(i)"
      ],
      "metadata": {
        "id": "SdIOSsu9v1qf",
        "colab": {
          "base_uri": "https://localhost:8080/"
        },
        "outputId": "48ccf6a2-1a69-476e-aad1-0a1d66c57d3e"
      },
      "execution_count": 6,
      "outputs": [
        {
          "output_type": "stream",
          "name": "stdout",
          "text": [
            "1\n",
            "2\n",
            "3\n",
            "4\n",
            "5\n",
            "6\n",
            "7\n",
            "8\n",
            "9\n",
            "10\n"
          ]
        }
      ]
    },
    {
      "cell_type": "code",
      "source": [
        "for j in range(0,50,5):\n",
        "  print(j)"
      ],
      "metadata": {
        "colab": {
          "base_uri": "https://localhost:8080/"
        },
        "id": "nnz31EbdQY6g",
        "outputId": "3c1f021a-c484-4bba-ce24-d4decb625a6e"
      },
      "execution_count": 7,
      "outputs": [
        {
          "output_type": "stream",
          "name": "stdout",
          "text": [
            "0\n",
            "5\n",
            "10\n",
            "15\n",
            "20\n",
            "25\n",
            "30\n",
            "35\n",
            "40\n",
            "45\n"
          ]
        }
      ]
    },
    {
      "cell_type": "code",
      "source": [
        "for i in range(10):\n",
        "  numero = input(f'Digite o  {i+1}º numero:')\n",
        "print(numero)\n"
      ],
      "metadata": {
        "id": "zVSwP1ZQRhuf"
      },
      "execution_count": null,
      "outputs": []
    },
    {
      "cell_type": "code",
      "source": [
        "for letras in 'python':\n",
        "  print(letras)\n",
        "  if letras == 'h':\n",
        "    break"
      ],
      "metadata": {
        "colab": {
          "base_uri": "https://localhost:8080/"
        },
        "id": "pzax52YBS1Mw",
        "outputId": "5b45eb3c-8dcd-492e-ba20-09bcdc7a090e"
      },
      "execution_count": 13,
      "outputs": [
        {
          "output_type": "stream",
          "name": "stdout",
          "text": [
            "p\n",
            "y\n",
            "t\n",
            "h\n"
          ]
        }
      ]
    },
    {
      "cell_type": "code",
      "source": [
        "for i in range(1,15):\n",
        "  print(i)\n",
        "else:\n",
        "  print(\"Acabou!\")"
      ],
      "metadata": {
        "colab": {
          "base_uri": "https://localhost:8080/",
          "height": 106
        },
        "id": "UqsUom3hU0z2",
        "outputId": "96523ec3-69a3-4b24-ffcf-4b6f3478ee7d"
      },
      "execution_count": 11,
      "outputs": [
        {
          "output_type": "error",
          "ename": "SyntaxError",
          "evalue": "invalid syntax (<ipython-input-11-c4a003cfb671>, line 3)",
          "traceback": [
            "\u001b[0;36m  File \u001b[0;32m\"<ipython-input-11-c4a003cfb671>\"\u001b[0;36m, line \u001b[0;32m3\u001b[0m\n\u001b[0;31m    else:\u001b[0m\n\u001b[0m    ^\u001b[0m\n\u001b[0;31mSyntaxError\u001b[0m\u001b[0;31m:\u001b[0m invalid syntax\n"
          ]
        }
      ]
    },
    {
      "cell_type": "code",
      "source": [
        "#EXERCICIO TABUEDA!\n",
        "i = 1\n",
        "for num in range(9,90,9):\n",
        "  print(f'9 x {i} = {num}')\n",
        "  i = i+1 #OU i += 1"
      ],
      "metadata": {
        "colab": {
          "base_uri": "https://localhost:8080/"
        },
        "id": "UHMdTOEMU-9f",
        "outputId": "0508bcff-7842-4bda-f62e-bec2ee5cd960"
      },
      "execution_count": 47,
      "outputs": [
        {
          "output_type": "stream",
          "name": "stdout",
          "text": [
            "9 x 1 = 9\n",
            "9 x 2 = 18\n",
            "9 x 3 = 27\n",
            "9 x 4 = 36\n",
            "9 x 5 = 45\n",
            "9 x 6 = 54\n",
            "9 x 7 = 63\n",
            "9 x 8 = 72\n",
            "9 x 9 = 81\n"
          ]
        }
      ]
    },
    {
      "cell_type": "code",
      "source": [
        "i = 1\n",
        "for num in range(9, 99, 9):\n",
        "    print(f'9 x {i} = {num}')\n",
        "    i += 1"
      ],
      "metadata": {
        "colab": {
          "base_uri": "https://localhost:8080/"
        },
        "id": "9S1CRK8DZU79",
        "outputId": "8e8f275f-370b-4a37-de16-0612e91e57bc"
      },
      "execution_count": 42,
      "outputs": [
        {
          "output_type": "stream",
          "name": "stdout",
          "text": [
            "9 x 1 = 9\n",
            "9 x 2 = 18\n",
            "9 x 3 = 27\n",
            "9 x 4 = 36\n",
            "9 x 5 = 45\n",
            "9 x 6 = 54\n",
            "9 x 7 = 63\n",
            "9 x 8 = 72\n",
            "9 x 9 = 81\n",
            "9 x 10 = 90\n"
          ]
        }
      ]
    },
    {
      "cell_type": "code",
      "source": [
        "for i in range(1,11):\n",
        "  num = 9\n",
        "  print(f'{i} X {num} = {i*9}')"
      ],
      "metadata": {
        "colab": {
          "base_uri": "https://localhost:8080/"
        },
        "id": "fFphIvJZV1Qd",
        "outputId": "90fff2d4-7695-488f-c274-20576ef65829"
      },
      "execution_count": 37,
      "outputs": [
        {
          "output_type": "stream",
          "name": "stdout",
          "text": [
            "1 X 9 = 9\n",
            "2 X 9 = 18\n",
            "3 X 9 = 27\n",
            "4 X 9 = 36\n",
            "5 X 9 = 45\n",
            "6 X 9 = 54\n",
            "7 X 9 = 63\n",
            "8 X 9 = 72\n",
            "9 X 9 = 81\n",
            "10 X 9 = 90\n"
          ]
        }
      ]
    },
    {
      "cell_type": "code",
      "source": [
        "for i in range(1,11):\n",
        "  print(f'Tabuada do {i}: ')\n",
        "  for j in range(1,11):\n",
        "    print(f'{i} x {j} = {i*j}')"
      ],
      "metadata": {
        "id": "SDSrxdU4YLaO"
      },
      "execution_count": null,
      "outputs": []
    },
    {
      "cell_type": "code",
      "source": [
        "for i in range(0, 11):\n",
        "    if i % 2 != 0:\n",
        "        print(i)"
      ],
      "metadata": {
        "colab": {
          "base_uri": "https://localhost:8080/"
        },
        "id": "5KomZhR0aX2O",
        "outputId": "c1e5b1a1-053f-4ab7-f800-33d913ffc751"
      },
      "execution_count": 63,
      "outputs": [
        {
          "output_type": "stream",
          "name": "stdout",
          "text": [
            "1\n",
            "3\n",
            "5\n",
            "7\n",
            "9\n"
          ]
        }
      ]
    },
    {
      "cell_type": "code",
      "source": [
        "i = 10\n",
        "for i in range(10,0,-1):\n",
        "  print(i)"
      ],
      "metadata": {
        "colab": {
          "base_uri": "https://localhost:8080/"
        },
        "id": "K2vmlh2TjtB9",
        "outputId": "a809f54c-7b83-4040-cf74-9e26e9399211"
      },
      "execution_count": 80,
      "outputs": [
        {
          "output_type": "stream",
          "name": "stdout",
          "text": [
            "10\n",
            "9\n",
            "8\n",
            "7\n",
            "6\n",
            "5\n",
            "4\n",
            "3\n",
            "2\n",
            "1\n"
          ]
        }
      ]
    },
    {
      "cell_type": "code",
      "source": [
        "#verificação de Pesos\n",
        "\n",
        "maior = 0\n",
        "menor = 9999999\n",
        "for x in range(1,6):\n",
        "  peso = float(input(f'Digite o peso da {x}º pessoa'))\n",
        "  if peso > maior:\n",
        "    maior = peso\n",
        "  if peso < menor:\n",
        "    menor = peso\n",
        "print(f'Maior peso: {maior}Kg')\n",
        "print(f'Menor peso: {menor}Kg')"
      ],
      "metadata": {
        "colab": {
          "base_uri": "https://localhost:8080/"
        },
        "id": "dcXcxfpGrd4U",
        "outputId": "16173f39-668c-404d-9035-6fa28d092cf1"
      },
      "execution_count": 108,
      "outputs": [
        {
          "output_type": "stream",
          "name": "stdout",
          "text": [
            "Digite o peso da 1º pessoa555\n",
            "Digite o peso da 2º pessoa565\n",
            "Digite o peso da 3º pessoa548\n",
            "Digite o peso da 4º pessoa233\n",
            "Digite o peso da 5º pessoa256\n",
            "Maior peso: 565.0Kg\n",
            "Menor peso: 233.0Kg\n"
          ]
        }
      ]
    },
    {
      "cell_type": "code",
      "source": [
        "maior = float('-inf')\n",
        "menor = float('inf')\n",
        "for x in range(1,6):\n",
        "  peso = float(input(f'Digite o peso da {x}º pessoa:\\n'))\n",
        "  maior = max(maior,peso)\n",
        "  menor = min (menor, peso)\n",
        "print(f'Maior peso: {maior}Kg')\n",
        "print(f'Menor peso: {menor}Kg')"
      ],
      "metadata": {
        "colab": {
          "base_uri": "https://localhost:8080/"
        },
        "collapsed": true,
        "id": "KFyaaZv9j2TN",
        "outputId": "0634f56a-b9c4-4eb4-9f56-c28a4a776d18"
      },
      "execution_count": 110,
      "outputs": [
        {
          "output_type": "stream",
          "name": "stdout",
          "text": [
            "Digite o peso da 1º pessoa:\n",
            "55\n",
            "Digite o peso da 2º pessoa:\n",
            "56\n",
            "Digite o peso da 3º pessoa:\n",
            "68\n",
            "Digite o peso da 4º pessoa:\n",
            "94\n",
            "Digite o peso da 5º pessoa:\n",
            "122\n",
            "Maior peso: 122.0Kg\n",
            "Menor peso: 55.0Kg\n"
          ]
        }
      ]
    },
    {
      "cell_type": "code",
      "source": [
        "soma = 0\n",
        "for x in range(1,7):\n",
        "  num = float(input(f'Digite o numero {x}: \\n'))\n",
        "  if num%2 == 0:\n",
        "    soma += num\n",
        "print(f'O total é de: {soma}')"
      ],
      "metadata": {
        "colab": {
          "base_uri": "https://localhost:8080/"
        },
        "collapsed": true,
        "id": "PkaiXTTZyXe7",
        "outputId": "a797a72f-71b4-428f-a886-e8e0450fc83e"
      },
      "execution_count": 137,
      "outputs": [
        {
          "output_type": "stream",
          "name": "stdout",
          "text": [
            "Digite o numero 1: \n",
            "52\n",
            "Digite o numero 2: \n",
            "2\n",
            "Digite o numero 3: \n",
            "3\n",
            "Digite o numero 4: \n",
            "6\n",
            "Digite o numero 5: \n",
            "5\n",
            "Digite o numero 6: \n",
            "5\n",
            "O total é de: 60.0\n"
          ]
        }
      ]
    },
    {
      "cell_type": "code",
      "source": [
        "\n"
      ],
      "metadata": {
        "id": "PEGkEnKczQEs"
      },
      "execution_count": null,
      "outputs": []
    },
    {
      "cell_type": "code",
      "source": [],
      "metadata": {
        "id": "5FkOa8Bb1mEr"
      },
      "execution_count": null,
      "outputs": []
    }
  ]
}