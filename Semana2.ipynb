{
  "nbformat": 4,
  "nbformat_minor": 0,
  "metadata": {
    "colab": {
      "provenance": [],
      "authorship_tag": "ABX9TyM/8ZlBHaTWaGDTG0v8Fdwe",
      "include_colab_link": true
    },
    "kernelspec": {
      "name": "python3",
      "display_name": "Python 3"
    },
    "language_info": {
      "name": "python"
    }
  },
  "cells": [
    {
      "cell_type": "markdown",
      "metadata": {
        "id": "view-in-github",
        "colab_type": "text"
      },
      "source": [
        "<a href=\"https://colab.research.google.com/github/vamvieira/Aulas_Senai/blob/main/Semana2.ipynb\" target=\"_parent\"><img src=\"https://colab.research.google.com/assets/colab-badge.svg\" alt=\"Open In Colab\"/></a>"
      ]
    },
    {
      "cell_type": "code",
      "execution_count": null,
      "metadata": {
        "colab": {
          "base_uri": "https://localhost:8080/"
        },
        "id": "BxfTYOngr2c5",
        "outputId": "cf32221a-97d5-4b8a-ca43-f9a773d3151c"
      },
      "outputs": [
        {
          "output_type": "stream",
          "name": "stdout",
          "text": [
            "Digite o valor do produto: 9000\n",
            "Digite o valor do desconto: 10\n",
            "Total a pagar com o valor do desconto R$8100.0 \n",
            "Valor do seu desconto R$900.0 \n"
          ]
        }
      ],
      "source": [
        "valor_prod = float(input(\"Digite o valor do produto: \"))\n",
        "valor_desc = int(input(\"Digite o valor do desconto: \"))\n",
        "valor_desc = (valor_desc/100)*valor_prod\n",
        "valor_final = valor_prod - valor_desc\n",
        "print(f'Total a pagar com o valor do desconto R${valor_final} ')\n",
        "print(f'Valor do seu desconto R${valor_desc} ')"
      ]
    },
    {
      "cell_type": "code",
      "source": [
        "a = float(input(\"Digite o valor do Cateto A: \"))\n",
        "b = float(input(\"Digite o valor do Cateto B: \"))\n",
        "c = (a**2 + b**2)**.5\n",
        "print(f' O calculo da hipotenusa é de: {c}')"
      ],
      "metadata": {
        "colab": {
          "base_uri": "https://localhost:8080/"
        },
        "id": "rUhwpemFtkpr",
        "outputId": "76f2e604-5282-45c8-f86a-517d46ee1e70"
      },
      "execution_count": null,
      "outputs": [
        {
          "output_type": "stream",
          "name": "stdout",
          "text": [
            "Digite o valor do Cateto A: 30\n",
            "Digite o valor do Cateto B: 40\n",
            " O calculo da hipotenusa é de: 50.0\n"
          ]
        }
      ]
    },
    {
      "cell_type": "code",
      "source": [
        "x = int(input())\n",
        "y = int(input())\n",
        "\n",
        "print(x + y)\n",
        "\n"
      ],
      "metadata": {
        "colab": {
          "base_uri": "https://localhost:8080/"
        },
        "id": "_vE95T9bvl1J",
        "outputId": "fbd16a98-f448-40a1-af54-938e1805bff4"
      },
      "execution_count": null,
      "outputs": [
        {
          "output_type": "stream",
          "name": "stdout",
          "text": [
            "2\n",
            "4\n",
            "6\n"
          ]
        }
      ]
    },
    {
      "cell_type": "code",
      "source": [
        "a = 5\n",
        "b = 5\n",
        "print(a==b)"
      ],
      "metadata": {
        "colab": {
          "base_uri": "https://localhost:8080/"
        },
        "id": "H4io-6czxLBY",
        "outputId": "0d621057-127b-4f52-d66a-959d2155627f"
      },
      "execution_count": null,
      "outputs": [
        {
          "output_type": "stream",
          "name": "stdout",
          "text": [
            "True\n"
          ]
        }
      ]
    },
    {
      "cell_type": "markdown",
      "source": [
        "```\n",
        "OPERADORES RELACIONAIS (OU DE COMPARAÇÃO)\n",
        "\n",
        "\n",
        ">  MAIOR\n",
        "<  MENOR\n",
        ">= MAIOR OU IGUAL\n",
        "<= MENOR OU IGUAL\n",
        "== IGUAL\n",
        "!= DIFERENTE\n",
        "\n",
        "\n",
        "OPERADORES LÓGICOS\n",
        "\n",
        "\n",
        "and | or | not | in\n",
        "```\n"
      ],
      "metadata": {
        "id": "jjUakBdRIbgQ"
      }
    },
    {
      "cell_type": "code",
      "source": [
        "media = 7\n",
        "if media >= 7:\n",
        "  print(\"Aprovado\")\n",
        "else:\n",
        "  print(\"Reprovado\")"
      ],
      "metadata": {
        "colab": {
          "base_uri": "https://localhost:8080/"
        },
        "id": "SDmxYJ3x4E0z",
        "outputId": "21c35c70-b0d6-45fd-8ff8-0445f6cdab77"
      },
      "execution_count": null,
      "outputs": [
        {
          "output_type": "stream",
          "name": "stdout",
          "text": [
            "Aprovado\n"
          ]
        }
      ]
    },
    {
      "cell_type": "code",
      "source": [
        "velocidade = float(input('Digite a velocidade'))\n",
        "if velocidade > 50:\n",
        "  print(f'Multa: R${(velocidade-50)*7}')\n"
      ],
      "metadata": {
        "colab": {
          "base_uri": "https://localhost:8080/"
        },
        "id": "fny7tuaaGIRJ",
        "outputId": "f3aa5b2d-eeeb-45e0-d78c-ada94c713030"
      },
      "execution_count": null,
      "outputs": [
        {
          "output_type": "stream",
          "name": "stdout",
          "text": [
            "Digite a velocidade69\n",
            "Multa: R$133.0\n"
          ]
        }
      ]
    },
    {
      "cell_type": "code",
      "source": [
        "#EXEMPLO AND\n",
        "media = 6\n",
        "if media > 4 and media < 7:\n",
        "  print(\"Recuperação\")"
      ],
      "metadata": {
        "colab": {
          "base_uri": "https://localhost:8080/"
        },
        "id": "DTdoJDDpJs-u",
        "outputId": "1be85919-641a-49dc-e3d7-cb6e8fa81fde"
      },
      "execution_count": null,
      "outputs": [
        {
          "output_type": "stream",
          "name": "stdout",
          "text": [
            "Recuperação\n"
          ]
        }
      ]
    },
    {
      "cell_type": "code",
      "source": [
        "#EXEMPLO OR\n",
        "veiculo = 'carro'\n",
        "if veiculo == 'carro' or veiculo == 'moto':\n",
        "  print('Carteira A/B')"
      ],
      "metadata": {
        "colab": {
          "base_uri": "https://localhost:8080/"
        },
        "id": "xzGphfctJ1TW",
        "outputId": "79017ddf-c4ec-4e4f-e6b2-65a73ad6d33c"
      },
      "execution_count": null,
      "outputs": [
        {
          "output_type": "stream",
          "name": "stdout",
          "text": [
            "Carteira A/B\n"
          ]
        }
      ]
    },
    {
      "cell_type": "code",
      "source": [
        "#EXEMPLO NOT\n",
        "num = 6\n",
        "if not num > 6:\n",
        "  print('Numero menor que 6')"
      ],
      "metadata": {
        "colab": {
          "base_uri": "https://localhost:8080/"
        },
        "id": "13riUDq5K9k2",
        "outputId": "fd976edb-e525-4831-9554-5e93d7acf3f2"
      },
      "execution_count": null,
      "outputs": [
        {
          "output_type": "stream",
          "name": "stdout",
          "text": [
            "Numero menor que 6\n"
          ]
        }
      ]
    },
    {
      "cell_type": "code",
      "source": [
        "#EXERCÍCIOS IF | ESLSE\n",
        "\n",
        "#Validador de numero par ou ímpar\n",
        "num = int(input(\"Digite o seu numero: \"))\n",
        "if num%2: 1, print(\"Seu número é ímpar \")\n",
        "else:\n",
        "  print(\"Seu número é par\")"
      ],
      "metadata": {
        "colab": {
          "base_uri": "https://localhost:8080/"
        },
        "id": "9GzS7SwrMTDE",
        "outputId": "574bad3b-a7e8-47b3-b12c-051c92c8846c"
      },
      "execution_count": null,
      "outputs": [
        {
          "output_type": "stream",
          "name": "stdout",
          "text": [
            "Digite o seu numero: 3\n",
            "Seu número é ímpar \n"
          ]
        }
      ]
    },
    {
      "cell_type": "code",
      "source": [
        "#Operação ternária no validador\n",
        "num = int(input(\"Digite o seu numero: \"))\n",
        "msg = \"Seu numero é Par\" if num%2 == 0 else \"Seu numero é ímpar\"\n",
        "print(msg)"
      ],
      "metadata": {
        "id": "jMjzDQg2T9t_"
      },
      "execution_count": null,
      "outputs": []
    },
    {
      "cell_type": "code",
      "source": [
        "#Validador de Maior idade\n",
        "idade = int(input(\"Digite idade: \"))\n",
        "if idade >= 18:\n",
        "  print(\"Maior de idade\")\n",
        "else:\n",
        "  print(\"Menor de idade\")"
      ],
      "metadata": {
        "colab": {
          "base_uri": "https://localhost:8080/"
        },
        "id": "GNgI6-q1SRqh",
        "outputId": "d3049748-6952-46af-b8b2-d05c7868483d"
      },
      "execution_count": null,
      "outputs": [
        {
          "output_type": "stream",
          "name": "stdout",
          "text": [
            "Digite idade: 19\n",
            "Maior de idade\n"
          ]
        }
      ]
    },
    {
      "cell_type": "code",
      "source": [
        "#Fazer um validador de admin e usuário com os repectivos caracteres corretos.\n",
        "user = input(\"Digite seu usuário: \")\n",
        "senha = input(\"Digite sua senha: \")\n",
        "\n",
        "if user == \"admin\" and senha == \"python123\":\n",
        "  print(\"Login bem-sucedido\")\n",
        "else:\n",
        "  print(\"Usuário ou Senha incorretos\")"
      ],
      "metadata": {
        "colab": {
          "base_uri": "https://localhost:8080/"
        },
        "id": "a30hERcqUTJe",
        "outputId": "88b3289f-03c9-4cbb-eacc-08976227767c"
      },
      "execution_count": null,
      "outputs": [
        {
          "output_type": "stream",
          "name": "stdout",
          "text": [
            "Digite seu usuário: 1\n",
            "Digite sua senha: 1\n",
            "Usuário ou Senha incorretos\n"
          ]
        }
      ]
    },
    {
      "cell_type": "code",
      "source": [
        "#Lógica ELIF\n",
        "\n",
        "media = 6\n",
        "if media > 6:\n",
        "  print(\"Aprovado\")\n",
        "elif media < 5:\n",
        "  print(\"Reprovado\")\n",
        "else:\n",
        "  print(\"Recuperação\")"
      ],
      "metadata": {
        "id": "zh63tGDba7la"
      },
      "execution_count": null,
      "outputs": []
    },
    {
      "cell_type": "code",
      "source": [
        "#EXERCÍCIO ELIF\n",
        "\n",
        "#Calculadora\n",
        "\n",
        "num1 = int(input(\"Digite seu número 1: \"))\n",
        "num2 = int(input(\"Digite seu número 2: \"))\n",
        "operacao = input(\"Digite a operação: \")\n",
        "if operacao == \"+\":\n",
        "  print(f'Escolheu a soma:{num1+num2}')\n",
        "elif operacao == \"-\":\n",
        "  print(f'Escolheu a subtração:{num1-num2}')\n",
        "elif operacao == \"*\":\n",
        "  print(f'Escolheu a multiplicação:{num1*num2}')\n",
        "elif operacao == \"/\":\n",
        "  print(f'Escolheu a divisão:{num1/num2}')\n",
        "else:\n",
        "  print(\"Erro: Comando não existe\")\n"
      ],
      "metadata": {
        "colab": {
          "base_uri": "https://localhost:8080/"
        },
        "id": "y7c4PHHkWVbe",
        "outputId": "31eb3fd8-f6c4-44e1-b260-b69445d69108"
      },
      "execution_count": null,
      "outputs": [
        {
          "output_type": "stream",
          "name": "stdout",
          "text": [
            "Digite seu número 1: 5\n",
            "Digite seu número 2: 5\n",
            "Digite a operação: .\n",
            "Erro: Comando não existe\n"
          ]
        }
      ]
    },
    {
      "cell_type": "code",
      "source": [
        "#Da muita volta assim, cód nao limpo\n",
        "add = \"+\"\n",
        "sub = \"-\"\n",
        "mult = \"*\"\n",
        "div = \"/\"\n",
        "\n",
        "num1 = int(input(\"Digite seu número 1: \"))\n",
        "num2 = int(input(\"Digite seu número 2: \"))\n",
        "operacao = input(\"Digite a operação: \")\n",
        "\n",
        "if operacao == add:\n",
        "  print(f'Escolheu a soma:{num1+num2}')\n",
        "elif operacao == sub:\n",
        "  print(f'Escolheu a subtração:{num1-num2}')\n",
        "elif operacao == mult:\n",
        "  print(f'Escolheu a multiplicação:{num1*num2}')\n",
        "elif operacao == div:\n",
        "  print(f'Escolheu a divisão:{num1/num2}')\n",
        "else:\n",
        "  print(\"Erro: Comando não existe\")"
      ],
      "metadata": {
        "colab": {
          "base_uri": "https://localhost:8080/"
        },
        "id": "4cP6-9sAb-9a",
        "outputId": "bf54e3fe-3938-4e45-c461-6fcb75767223"
      },
      "execution_count": 23,
      "outputs": [
        {
          "output_type": "stream",
          "name": "stdout",
          "text": [
            "Digite seu número 1: 1\n",
            "Digite seu número 2: 1\n",
            "Digite a operação: +\n",
            "Escolheu a soma:2\n"
          ]
        }
      ]
    },
    {
      "cell_type": "code",
      "source": [
        "#Criar um programa que leia o ano de nascimento de um atleta e mostre sua categoria, de acordo com a idade\n",
        "\n",
        "ano = 2025-int(input(\"Digite seu ano: \"))\n",
        "if ano <= 9:\n",
        "  print(\"Classe Mirim\")\n",
        "elif 10 <= ano <= 14:\n",
        "  print(\"Classe Infantil\")\n",
        "elif 15 <=  ano <= 18:\n",
        "  print(\"Classe Junior\")\n",
        "elif 19 <= ano <= 24:\n",
        "  print(\"Classe Sênior\")\n",
        "else:\n",
        "  print(\"Classe Master\")\n"
      ],
      "metadata": {
        "id": "T_O5dL7Rc-8Z",
        "colab": {
          "base_uri": "https://localhost:8080/"
        },
        "outputId": "4598f414-0500-4138-9448-ad828576f59d"
      },
      "execution_count": 41,
      "outputs": [
        {
          "output_type": "stream",
          "name": "stdout",
          "text": [
            "Digite seu ano: 2050\n",
            "Classe Mirim\n"
          ]
        }
      ]
    },
    {
      "cell_type": "code",
      "source": [
        "#WHILHE\n",
        "\n",
        "x = 1\n",
        "num = 2\n",
        "while x < 11:\n",
        "  print(f'{num} x {x} = {num*x}')\n",
        "  x+=1\n",
        "print(\"This is the end\")"
      ],
      "metadata": {
        "colab": {
          "base_uri": "https://localhost:8080/"
        },
        "id": "KOwRwktmGiwV",
        "outputId": "b78a9a81-13df-465c-ad39-5e77d114b6eb"
      },
      "execution_count": 67,
      "outputs": [
        {
          "output_type": "stream",
          "name": "stdout",
          "text": [
            "2 x 1 = 2\n",
            "2 x 2 = 4\n",
            "2 x 3 = 6\n",
            "2 x 4 = 8\n",
            "2 x 5 = 10\n",
            "2 x 6 = 12\n",
            "2 x 7 = 14\n",
            "2 x 8 = 16\n",
            "2 x 9 = 18\n",
            "2 x 10 = 20\n",
            "This is the end\n"
          ]
        }
      ]
    },
    {
      "cell_type": "code",
      "source": [
        "while True:\n",
        "  sair = input(\"Deseja sair: (S/N)\\n\").upper().strip()\n",
        "  if sair == 'S':\n",
        "    break"
      ],
      "metadata": {
        "colab": {
          "base_uri": "https://localhost:8080/"
        },
        "id": "dc0m_WMUZSGy",
        "outputId": "a6641c5b-2fd3-45f1-ab84-af2b1124d177"
      },
      "execution_count": 74,
      "outputs": [
        {
          "name": "stdout",
          "output_type": "stream",
          "text": [
            "Deseja sair: (S/N)\n",
            "s\n"
          ]
        }
      ]
    },
    {
      "cell_type": "code",
      "source": [
        "i = 0\n",
        "while i < 5:\n",
        "  i = i+1\n",
        "  if i == 3:\n",
        "    continue\n",
        "  print(i)"
      ],
      "metadata": {
        "colab": {
          "base_uri": "https://localhost:8080/"
        },
        "id": "Staoc2yidOhh",
        "outputId": "4d4a3a5c-a638-449d-e246-fa532d2e54d5"
      },
      "execution_count": 81,
      "outputs": [
        {
          "output_type": "stream",
          "name": "stdout",
          "text": [
            "1\n",
            "2\n",
            "4\n",
            "5\n"
          ]
        }
      ]
    },
    {
      "cell_type": "code",
      "source": [
        "i = 10\n",
        "while i >= 0:\n",
        "  print(i)\n",
        "  i=i-1"
      ],
      "metadata": {
        "colab": {
          "base_uri": "https://localhost:8080/"
        },
        "id": "sKaVLL0ufiSR",
        "outputId": "bd37665d-93dc-408f-8064-c8d6229bda8c"
      },
      "execution_count": 84,
      "outputs": [
        {
          "output_type": "stream",
          "name": "stdout",
          "text": [
            "10\n",
            "9\n",
            "8\n",
            "7\n",
            "6\n",
            "5\n",
            "4\n",
            "3\n",
            "2\n",
            "1\n",
            "0\n"
          ]
        }
      ]
    },
    {
      "cell_type": "code",
      "source": [
        "contador = 0\n",
        "while contador < 3:\n",
        "  senha = input(\"Digite a senha: \")\n",
        "  if senha == '1234':\n",
        "    print(\"Sucesso\")\n",
        "    break\n",
        "  else:\n",
        "    print(f'erro')\n",
        "  contador+=1"
      ],
      "metadata": {
        "colab": {
          "base_uri": "https://localhost:8080/"
        },
        "id": "FrSKO_JAhVry",
        "outputId": "d79cef6e-52fe-4066-cfa5-2e367acfc1f4"
      },
      "execution_count": 122,
      "outputs": [
        {
          "output_type": "stream",
          "name": "stdout",
          "text": [
            "Digite a senha: 25\n",
            "erro\n",
            "Digite a senha: 25\n",
            "erro\n",
            "Digite a senha: 55\n",
            "erro\n"
          ]
        }
      ]
    },
    {
      "cell_type": "code",
      "source": [
        "from time import sleep\n",
        "tempo = 2\n",
        "contador = 0\n",
        "while True:\n",
        "  senha = input(\"Digite a senha: \")\n",
        "  if senha == '1234':\n",
        "    print(\"Sucesso parabens\")\n",
        "    break\n",
        "  else:\n",
        "    contador+=1\n",
        "  if contador ==3:\n",
        "    print('Tente mais tarde!')\n",
        "    sleep(tempo)\n",
        "    contador = 0\n",
        "    tempo *= 2"
      ],
      "metadata": {
        "colab": {
          "base_uri": "https://localhost:8080/"
        },
        "id": "lYK-LE1niYvi",
        "outputId": "f0dab79b-9636-4c1a-e5ee-b13323f45f56"
      },
      "execution_count": 131,
      "outputs": [
        {
          "output_type": "stream",
          "name": "stdout",
          "text": [
            "Digite a senha: q\n",
            "Digite a senha: q\n",
            "Digite a senha: \n",
            "Tente mais tarde!\n",
            "Digite a senha: q\n",
            "Digite a senha: q\n",
            "Digite a senha: q\n",
            "Tente mais tarde!\n",
            "Digite a senha: q\n",
            "Digite a senha: q\n",
            "Digite a senha: q\n",
            "Tente mais tarde!\n",
            "Digite a senha: q\n",
            "Digite a senha: q\n",
            "Digite a senha: q\n",
            "Tente mais tarde!\n",
            "Digite a senha: q\n",
            "Digite a senha: q\n",
            "Digite a senha: q\n",
            "Tente mais tarde!\n",
            "Digite a senha: 12345\n",
            "Digite a senha: 1234\n",
            "Sucesso parabens\n"
          ]
        }
      ]
    },
    {
      "cell_type": "code",
      "source": [
        "from random import randint\n",
        "pc = randint(1,2)\n",
        "num = input(\"Advinhe o numero: \")\n",
        "while True:\n",
        "  if pc != num:\n",
        "    print('O numero está errado')\n",
        "    break\n",
        "  elif pc == num:\n",
        "    print('Acertou')"
      ],
      "metadata": {
        "colab": {
          "base_uri": "https://localhost:8080/"
        },
        "id": "8MDIbYMnpA6R",
        "outputId": "b3d50bc8-bf60-4e97-c394-214c3e0f8915"
      },
      "execution_count": 144,
      "outputs": [
        {
          "output_type": "stream",
          "name": "stdout",
          "text": [
            "Advinhe o numero: 2\n",
            "O numero está errado\n"
          ]
        }
      ]
    },
    {
      "cell_type": "code",
      "source": [],
      "metadata": {
        "id": "SdIOSsu9v1qf"
      },
      "execution_count": null,
      "outputs": []
    }
  ]
}