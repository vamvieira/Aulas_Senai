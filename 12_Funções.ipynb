{
  "nbformat": 4,
  "nbformat_minor": 0,
  "metadata": {
    "colab": {
      "provenance": [],
      "authorship_tag": "ABX9TyNMi9LNo65E79B1c5urM4Aw",
      "include_colab_link": true
    },
    "kernelspec": {
      "name": "python3",
      "display_name": "Python 3"
    },
    "language_info": {
      "name": "python"
    }
  },
  "cells": [
    {
      "cell_type": "markdown",
      "metadata": {
        "id": "view-in-github",
        "colab_type": "text"
      },
      "source": [
        "<a href=\"https://colab.research.google.com/github/vamvieira/Aulas_Senai/blob/main/12_Fun%C3%A7%C3%B5es.ipynb\" target=\"_parent\"><img src=\"https://colab.research.google.com/assets/colab-badge.svg\" alt=\"Open In Colab\"/></a>"
      ]
    },
    {
      "cell_type": "code",
      "execution_count": 1,
      "metadata": {
        "colab": {
          "base_uri": "https://localhost:8080/"
        },
        "id": "3zIyKYLskNLc",
        "outputId": "4b32a963-fa85-4f05-d099-6ca1faec91d0"
      },
      "outputs": [
        {
          "output_type": "stream",
          "name": "stdout",
          "text": [
            "10\n"
          ]
        }
      ],
      "source": [
        "# ESCOPO DE VARIÁVEIS\n",
        "\n",
        "\n",
        "# VARIÁVEL LOCAL (Função sem argumento e sem retorno)\n",
        "\n",
        "\n",
        "def funcaoLocal():\n",
        "    variavelLocal = 10\n",
        "    print(variavelLocal)\n",
        "\n",
        "\n",
        "funcaoLocal()\n",
        "# print(variavelLocal) # Gera erro"
      ]
    },
    {
      "cell_type": "code",
      "source": [
        "# VARIÁVEL GLOBAL (Função sem argumento e sem retorno)\n",
        "\n",
        "\n",
        "variavelGlobal = 5\n",
        "numero = 500\n",
        "\n",
        "\n",
        "def funcaoGlobal():\n",
        "    global variavelGlobal, numero\n",
        "    variavelGlobal += 1\n",
        "    print(variavelGlobal, numero)\n",
        "\n",
        "\n",
        "print(variavelGlobal)\n",
        "funcaoGlobal()\n",
        "print(variavelGlobal)\n",
        "funcaoGlobal()"
      ],
      "metadata": {
        "colab": {
          "base_uri": "https://localhost:8080/"
        },
        "id": "jtDZd3lekUmK",
        "outputId": "746e2f5f-d42e-4c9d-a1d4-ac7de009657a"
      },
      "execution_count": 2,
      "outputs": [
        {
          "output_type": "stream",
          "name": "stdout",
          "text": [
            "5\n",
            "6 500\n",
            "6\n",
            "7 500\n"
          ]
        }
      ]
    },
    {
      "cell_type": "code",
      "source": [
        "# FUNÇÃO SEM ARGUMENTO/PARÂMETRO\n",
        "\n",
        "\n",
        "def saudacao():\n",
        "    print(\"Olá, mundo!\")\n",
        "\n",
        "\n",
        "saudacao()"
      ],
      "metadata": {
        "colab": {
          "base_uri": "https://localhost:8080/"
        },
        "id": "4PLd_UGSnYRK",
        "outputId": "42465c63-5e39-450a-e3be-3720c249c486"
      },
      "execution_count": 3,
      "outputs": [
        {
          "output_type": "stream",
          "name": "stdout",
          "text": [
            "Olá, mundo!\n"
          ]
        }
      ]
    },
    {
      "cell_type": "code",
      "source": [
        "# FUNÇÃO COM PARÂMETRO\n",
        "\n",
        "\n",
        "def soma(x, y):\n",
        "    resultado = x+y\n",
        "    print(resultado)\n",
        "\n",
        "\n",
        "soma(4, 3)\n",
        "# print(soma(20, 10)-soma(5, 2)) # GERA ERRO!!!!!"
      ],
      "metadata": {
        "colab": {
          "base_uri": "https://localhost:8080/"
        },
        "id": "im1OTpPzne4Y",
        "outputId": "ceae77c0-b684-497f-d86d-b4fe8fca85dd"
      },
      "execution_count": 4,
      "outputs": [
        {
          "output_type": "stream",
          "name": "stdout",
          "text": [
            "7\n"
          ]
        }
      ]
    },
    {
      "cell_type": "code",
      "source": [
        "# FUNÇÃO COM PARÂMETRO E RETORNO\n",
        "\n",
        "\n",
        "def soma(x, y):\n",
        "    resultado = x+y\n",
        "    return resultado\n",
        "\n",
        "\n",
        "print(soma(4, 3)-soma(1, 1))"
      ],
      "metadata": {
        "colab": {
          "base_uri": "https://localhost:8080/"
        },
        "id": "vNG7le5XowEJ",
        "outputId": "fe5815cd-07b4-4e2a-8b35-c3490515827e"
      },
      "execution_count": 5,
      "outputs": [
        {
          "output_type": "stream",
          "name": "stdout",
          "text": [
            "5\n"
          ]
        }
      ]
    },
    {
      "cell_type": "code",
      "source": [
        "# FUNÇÃO COM PARÂMETRO, RETORNO E VALOR PADRÃO\n",
        "\n",
        "\n",
        "def divisao(x=10, y=2):\n",
        "    resultado = x/y\n",
        "    return resultado\n",
        "\n",
        "\n",
        "print(divisao(3))"
      ],
      "metadata": {
        "colab": {
          "base_uri": "https://localhost:8080/"
        },
        "id": "9wI_4RLeq2DJ",
        "outputId": "47f31122-06ed-4361-d9ca-5feb70d442f3"
      },
      "execution_count": 6,
      "outputs": [
        {
          "output_type": "stream",
          "name": "stdout",
          "text": [
            "1.5\n"
          ]
        }
      ]
    },
    {
      "cell_type": "code",
      "source": [],
      "metadata": {
        "id": "F7S8ZmpGq3zJ"
      },
      "execution_count": null,
      "outputs": []
    }
  ]
}