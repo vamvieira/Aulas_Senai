{
  "nbformat": 4,
  "nbformat_minor": 0,
  "metadata": {
    "colab": {
      "provenance": [],
      "authorship_tag": "ABX9TyNnQwDx3KOb1skA9pS209XX",
      "include_colab_link": true
    },
    "kernelspec": {
      "name": "python3",
      "display_name": "Python 3"
    },
    "language_info": {
      "name": "python"
    }
  },
  "cells": [
    {
      "cell_type": "markdown",
      "metadata": {
        "id": "view-in-github",
        "colab_type": "text"
      },
      "source": [
        "<a href=\"https://colab.research.google.com/github/vamvieira/Aulas_Senai/blob/main/12_Fun%C3%A7%C3%B5es.ipynb\" target=\"_parent\"><img src=\"https://colab.research.google.com/assets/colab-badge.svg\" alt=\"Open In Colab\"/></a>"
      ]
    },
    {
      "cell_type": "code",
      "execution_count": null,
      "metadata": {
        "colab": {
          "base_uri": "https://localhost:8080/"
        },
        "id": "3zIyKYLskNLc",
        "outputId": "4b32a963-fa85-4f05-d099-6ca1faec91d0"
      },
      "outputs": [
        {
          "output_type": "stream",
          "name": "stdout",
          "text": [
            "10\n"
          ]
        }
      ],
      "source": [
        "# ESCOPO DE VARIÁVEIS\n",
        "\n",
        "\n",
        "# VARIÁVEL LOCAL (Função sem argumento e sem retorno)\n",
        "\n",
        "\n",
        "def funcaoLocal():\n",
        "    variavelLocal = 10\n",
        "    print(variavelLocal)\n",
        "\n",
        "\n",
        "funcaoLocal()\n",
        "# print(variavelLocal) # Gera erro"
      ]
    },
    {
      "cell_type": "code",
      "source": [
        "# VARIÁVEL GLOBAL (Função sem argumento e sem retorno)\n",
        "\n",
        "\n",
        "variavelGlobal = 5\n",
        "numero = 500\n",
        "\n",
        "\n",
        "def funcaoGlobal():\n",
        "    global variavelGlobal, numero\n",
        "    variavelGlobal += 1\n",
        "    print(variavelGlobal, numero)\n",
        "\n",
        "\n",
        "print(variavelGlobal)\n",
        "funcaoGlobal()\n",
        "print(variavelGlobal)\n",
        "funcaoGlobal()"
      ],
      "metadata": {
        "colab": {
          "base_uri": "https://localhost:8080/"
        },
        "id": "jtDZd3lekUmK",
        "outputId": "746e2f5f-d42e-4c9d-a1d4-ac7de009657a"
      },
      "execution_count": null,
      "outputs": [
        {
          "output_type": "stream",
          "name": "stdout",
          "text": [
            "5\n",
            "6 500\n",
            "6\n",
            "7 500\n"
          ]
        }
      ]
    },
    {
      "cell_type": "code",
      "source": [
        "# FUNÇÃO SEM ARGUMENTO/PARÂMETRO\n",
        "\n",
        "\n",
        "def saudacao():\n",
        "    print(\"Olá, mundo!\")\n",
        "\n",
        "\n",
        "saudacao()"
      ],
      "metadata": {
        "colab": {
          "base_uri": "https://localhost:8080/"
        },
        "id": "4PLd_UGSnYRK",
        "outputId": "42465c63-5e39-450a-e3be-3720c249c486"
      },
      "execution_count": null,
      "outputs": [
        {
          "output_type": "stream",
          "name": "stdout",
          "text": [
            "Olá, mundo!\n"
          ]
        }
      ]
    },
    {
      "cell_type": "code",
      "source": [
        "# FUNÇÃO COM PARÂMETRO\n",
        "\n",
        "\n",
        "def soma(x, y):\n",
        "    resultado = x+y\n",
        "    print(resultado)\n",
        "\n",
        "\n",
        "soma(4, 3)\n",
        "# print(soma(20, 10)-soma(5, 2)) # GERA ERRO!!!!!"
      ],
      "metadata": {
        "colab": {
          "base_uri": "https://localhost:8080/"
        },
        "id": "im1OTpPzne4Y",
        "outputId": "ceae77c0-b684-497f-d86d-b4fe8fca85dd"
      },
      "execution_count": null,
      "outputs": [
        {
          "output_type": "stream",
          "name": "stdout",
          "text": [
            "7\n"
          ]
        }
      ]
    },
    {
      "cell_type": "code",
      "source": [
        "# FUNÇÃO COM PARÂMETRO E RETORNO\n",
        "\n",
        "\n",
        "def soma(x, y):\n",
        "    resultado = x+y\n",
        "    return resultado\n",
        "\n",
        "\n",
        "print(soma(4, 3)-soma(1, 1))"
      ],
      "metadata": {
        "colab": {
          "base_uri": "https://localhost:8080/"
        },
        "id": "vNG7le5XowEJ",
        "outputId": "fe5815cd-07b4-4e2a-8b35-c3490515827e"
      },
      "execution_count": null,
      "outputs": [
        {
          "output_type": "stream",
          "name": "stdout",
          "text": [
            "5\n"
          ]
        }
      ]
    },
    {
      "cell_type": "code",
      "source": [
        "# FUNÇÃO COM PARÂMETRO, RETORNO E VALOR PADRÃO\n",
        "\n",
        "\n",
        "def divisao(x=10, y=2):\n",
        "    resultado = x/y\n",
        "    return resultado\n",
        "\n",
        "\n",
        "print(divisao(3))"
      ],
      "metadata": {
        "id": "9wI_4RLeq2DJ",
        "outputId": "47f31122-06ed-4361-d9ca-5feb70d442f3",
        "colab": {
          "base_uri": "https://localhost:8080/"
        }
      },
      "execution_count": null,
      "outputs": [
        {
          "output_type": "stream",
          "name": "stdout",
          "text": [
            "1.5\n"
          ]
        }
      ]
    },
    {
      "cell_type": "code",
      "source": [
        "# EMPACOTAMENTO DE DADOS\n",
        "\n",
        "\n",
        "def mult(*numeros):\n",
        "    # print(type(numeros))\n",
        "    calculo=1\n",
        "    for i in numeros:\n",
        "        calculo*=i\n",
        "    return calculo\n",
        "\n",
        "\n",
        "print(mult(2, 5, 100))"
      ],
      "metadata": {
        "id": "F7S8ZmpGq3zJ",
        "colab": {
          "base_uri": "https://localhost:8080/"
        },
        "outputId": "ddc45aae-9685-40a9-f490-21aef6ec7de2"
      },
      "execution_count": 1,
      "outputs": [
        {
          "output_type": "stream",
          "name": "stdout",
          "text": [
            "1000\n"
          ]
        }
      ]
    },
    {
      "cell_type": "code",
      "source": [
        "# DESAFIO 01\n",
        "\"\"\"\n",
        "Crie uma função que calcule a soma de diversos números.\n",
        "\"\"\"\n",
        "\n",
        "def soma(*numeros):\n",
        "    # print(type(numeros))\n",
        "    calculo=0\n",
        "    for i in numeros:\n",
        "        calculo+=i\n",
        "    return calculo\n",
        "\n",
        "\n",
        "print(soma(7, 7))"
      ],
      "metadata": {
        "colab": {
          "base_uri": "https://localhost:8080/"
        },
        "id": "KPOb84xOT5S_",
        "outputId": "f887c45d-f03b-4417-e5a8-0307098ac5ec"
      },
      "execution_count": 10,
      "outputs": [
        {
          "output_type": "stream",
          "name": "stdout",
          "text": [
            "14\n"
          ]
        }
      ]
    },
    {
      "cell_type": "code",
      "source": [
        "# DESAFIO 02\n",
        "\"\"\"\n",
        "Faça um programa que receba um número inteiro de 1 a 10.\n",
        "Crie uma função que apresente o resultado da tabuada desse número.\n",
        "\"\"\"\n",
        "num = input('Digite Um numero: ')\n",
        "def soma(num):\n",
        "    for i in range(1,11):\n",
        "      print(f'{num}x{i} = {num*i}')\n",
        "soma(int(num))"
      ],
      "metadata": {
        "colab": {
          "base_uri": "https://localhost:8080/"
        },
        "id": "c-fwrop7W7_d",
        "outputId": "d95b3a2d-9313-41bb-9f21-97ce4bcb0adf"
      },
      "execution_count": 28,
      "outputs": [
        {
          "output_type": "stream",
          "name": "stdout",
          "text": [
            "Digite Um numero: 5\n",
            "5x1 = 5\n",
            "5x2 = 10\n",
            "5x3 = 15\n",
            "5x4 = 20\n",
            "5x5 = 25\n",
            "5x6 = 30\n",
            "5x7 = 35\n",
            "5x8 = 40\n",
            "5x9 = 45\n",
            "5x10 = 50\n"
          ]
        }
      ]
    },
    {
      "cell_type": "code",
      "source": [
        "# DESAFIO 03\n",
        "\"\"\"\n",
        "Crie uma função que retorne a saudação de acordo com o nome da pessoa.\n",
        "Ex.: Boa noite, Leandro!\n",
        "\n",
        "\n",
        "Configuração:\n",
        "06 e 12 = Bom dia\n",
        "12 e 18 = Boa tarde\n",
        "18 e 00 = Boa noite\n",
        "00 e 05 = Boa madrugada\n",
        "\n",
        "\n",
        "Script para pegar a hora local:\n",
        "from datetime import datetime\n",
        "from pytz import timezone\n",
        "\n",
        "\n",
        "# Define o fuso horário desejado\n",
        "fuso_horario = timezone('America/Sao_Paulo')\n",
        "\n",
        "\n",
        "# Obtém a hora atual já no fuso horário definido\n",
        "hora_atual_sp = datetime.now(fuso_horario)\n",
        "\n",
        "\n",
        "# Formata apenas a hora (HH)\n",
        "hora_formatada = hora_atual_sp.strftime('%H')\n",
        "\n",
        "\n",
        "# Exibe a hora local\n",
        "print(hora_formatada)\n",
        "\"\"\"\n",
        "\n",
        "from datetime import datetime\n",
        "from pytz import timezone\n",
        "\n",
        "fuso_horario = timezone('America/Sao_Paulo')\n",
        "hora_atual_sp = datetime.now(fuso_horario)\n",
        "hora_formatada = hora_atual_sp.strftime('%H')\n",
        "hora_int = (int(hora_formatada))\n",
        "\n",
        "nome = input(\"Digite seu nome: \")\n",
        "\n",
        "def tempo(nome):\n",
        "    if hora_int >= 0 and hora_int < 6:\n",
        "        print(\"Boa Madrugada\")\n",
        "    elif hora_int >= 6 and hora_int < 12:\n",
        "        print(\"Bom dia\")\n",
        "    elif hora_int >= 12 and hora_int < 18:\n",
        "        print(\"Boa tarde\")\n",
        "    else:\n",
        "        print(\"Boa Noite\")\n",
        "tempo(nome)"
      ],
      "metadata": {
        "colab": {
          "base_uri": "https://localhost:8080/"
        },
        "id": "bVo7lgmSaGRN",
        "outputId": "ae2377b7-7dfd-47df-f4c8-840eef4775cd"
      },
      "execution_count": 36,
      "outputs": [
        {
          "output_type": "stream",
          "name": "stdout",
          "text": [
            "Digite seu nome: Vitor\n",
            "Boa Noite\n"
          ]
        }
      ]
    },
    {
      "cell_type": "code",
      "source": [
        "# DESAFIO 03 v2\n",
        "\n",
        "\n",
        "def saudacao(nome):\n",
        "    from datetime import datetime\n",
        "    from pytz import timezone\n",
        "    hora = int(datetime.now(timezone('America/Sao_Paulo')).strftime('%H'))\n",
        "\n",
        "    match hora:\n",
        "        case _ if hora < 6:\n",
        "            print(f'Boa madrugada, {nome}!')\n",
        "        case _ if hora < 12:\n",
        "            print(f'Bom dia, {nome}!')\n",
        "        case _ if hora < 18:\n",
        "            print(f'Boa tarde, {nome}!')\n",
        "        case _:\n",
        "            print(f'Boa noite, {nome}!')\n",
        "\n",
        "\n",
        "saudacao('Vitor')"
      ],
      "metadata": {
        "colab": {
          "base_uri": "https://localhost:8080/"
        },
        "id": "HgnfOH9mkGCe",
        "outputId": "9973d46f-3e06-4e88-e13d-8925dfa95295"
      },
      "execution_count": 38,
      "outputs": [
        {
          "output_type": "stream",
          "name": "stdout",
          "text": [
            "Boa noite, Vitor!\n"
          ]
        }
      ]
    },
    {
      "cell_type": "code",
      "source": [],
      "metadata": {
        "id": "IDnb483RzMg0"
      },
      "execution_count": null,
      "outputs": []
    }
  ]
}