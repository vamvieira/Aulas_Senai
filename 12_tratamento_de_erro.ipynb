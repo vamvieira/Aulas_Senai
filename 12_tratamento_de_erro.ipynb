{
  "nbformat": 4,
  "nbformat_minor": 0,
  "metadata": {
    "colab": {
      "provenance": [],
      "include_colab_link": true
    },
    "kernelspec": {
      "name": "python3",
      "display_name": "Python 3"
    },
    "language_info": {
      "name": "python"
    }
  },
  "cells": [
    {
      "cell_type": "markdown",
      "metadata": {
        "id": "view-in-github",
        "colab_type": "text"
      },
      "source": [
        "<a href=\"https://colab.research.google.com/github/vamvieira/Aulas_Senai/blob/main/12_tratamento_de_erro.ipynb\" target=\"_parent\"><img src=\"https://colab.research.google.com/assets/colab-badge.svg\" alt=\"Open In Colab\"/></a>"
      ]
    },
    {
      "cell_type": "code",
      "execution_count": null,
      "metadata": {
        "id": "EaC4NXTCtPOr"
      },
      "outputs": [],
      "source": [
        "#tratamento de erro try,except,else,finally\n",
        "try:\n",
        "    # Bloco de código que pode gerar exceções\n",
        "    numero = int(input(\"Digite um número: \"))\n",
        "    resultado = 10 / numero\n",
        "\n",
        "except (ValueError, TypeError):\n",
        "    # Trata exceções de ValueError e TypeError\n",
        "    print(\"Você deve digitar um número válido.\")\n",
        "\n",
        "except ZeroDivisionError:\n",
        "    # Trata exceção de ZeroDivisionError\n",
        "    print(\"Não é possível dividir por zero.\")\n",
        "\n",
        "else:\n",
        "    # Executado se nenhum erro ocorrer\n",
        "    print(\"Resultado:\", resultado)\n",
        "\n",
        "finally:\n",
        "    # Sempre executado, independentemente de exceções\n",
        "    print(\"Encerrando o programa.\")"
      ]
    }
  ]
}