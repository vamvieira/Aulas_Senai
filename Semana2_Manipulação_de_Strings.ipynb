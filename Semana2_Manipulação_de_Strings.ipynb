{
  "nbformat": 4,
  "nbformat_minor": 0,
  "metadata": {
    "colab": {
      "provenance": [],
      "authorship_tag": "ABX9TyPxjNT5ENzwlywYKeqMh9AE",
      "include_colab_link": true
    },
    "kernelspec": {
      "name": "python3",
      "display_name": "Python 3"
    },
    "language_info": {
      "name": "python"
    }
  },
  "cells": [
    {
      "cell_type": "markdown",
      "metadata": {
        "id": "view-in-github",
        "colab_type": "text"
      },
      "source": [
        "<a href=\"https://colab.research.google.com/github/vamvieira/Aulas_Senai/blob/main/Semana2_Manipula%C3%A7%C3%A3o_de_Strings.ipynb\" target=\"_parent\"><img src=\"https://colab.research.google.com/assets/colab-badge.svg\" alt=\"Open In Colab\"/></a>"
      ]
    },
    {
      "cell_type": "markdown",
      "source": [
        "# MANIPULAÇÃO DE STRINGS"
      ],
      "metadata": {
        "id": "TJYrvH4hfK2r"
      }
    },
    {
      "cell_type": "code",
      "source": [
        "# FATIAMENTO DE STRINGS\n",
        "\n",
        "\n",
        "texto = \"Curso de Python\"\n",
        "\n",
        "\n",
        "print(texto[6])          # 7º caracterer\n",
        "print(texto[9:15])       # 10º ao 15º caracterer\n",
        "print(texto[9:15:2])     # 10º ao 15º caracterer de 2 em 2\n",
        "print(texto[:5])         # Até o 5º caracterer\n",
        "print(texto[9:])         # 10º caracterer em diante\n",
        "print(texto[::-1])       # Inverter o texto\n",
        "print(texto[-1])         # Último caracter\n"
      ],
      "metadata": {
        "colab": {
          "base_uri": "https://localhost:8080/"
        },
        "id": "_QF7yYCrfPry",
        "outputId": "302b2880-9082-42e0-bccb-fa53cbeaebbf"
      },
      "execution_count": null,
      "outputs": [
        {
          "output_type": "stream",
          "name": "stdout",
          "text": [
            "d\n",
            "Python\n",
            "Pto\n",
            "Curso\n",
            "Python\n",
            "nohtyP ed osruC\n",
            "n\n"
          ]
        }
      ]
    },
    {
      "cell_type": "code",
      "source": [
        "# ANÁLISE DE STRINGS\n",
        "\n",
        "\n",
        "frase = \"SENAI Ary Torres\"\n",
        "\n",
        "\n",
        "# tamanho da string\n",
        "print(len(frase))\n",
        "\n",
        "\n",
        "# contar caracteres\n",
        "print(frase.count('r'))\n",
        "\n",
        "\n",
        "# encontrar índice (retorna -1 se não encontrar)\n",
        "print(frase.find('z'))\n",
        "\n",
        "\n",
        "# encontrar índice (a partir da direita)\n",
        "print(frase.rfind('s'))\n",
        "\n",
        "\n",
        "# encontrar índice (gera erro se não encontrar)\n",
        "print(frase.index('r'))\n",
        "\n",
        "\n",
        "# verificar pertinência\n",
        "print('Ary' in frase)\n"
      ],
      "metadata": {
        "colab": {
          "base_uri": "https://localhost:8080/"
        },
        "id": "YSXWc22PfSHU",
        "outputId": "1c24b3b4-8775-465c-8036-d3dda05f7bcf"
      },
      "execution_count": null,
      "outputs": [
        {
          "output_type": "stream",
          "name": "stdout",
          "text": [
            "16\n",
            "3\n",
            "-1\n",
            "15\n",
            "7\n",
            "True\n"
          ]
        }
      ]
    },
    {
      "cell_type": "code",
      "source": [
        "# TRANSFORMAÇÃO DE STRINGS\n",
        "\n",
        "frase= \"Amigo\"\n",
        "\n",
        "# maiúscula\n",
        "print(frase.upper())\n",
        "\n",
        "\n",
        "# minúscula\n",
        "print(frase.lower())\n",
        "\n",
        "\n",
        "# primeira da frase em maiúscula\n",
        "print(frase.capitalize())\n",
        "\n",
        "\n",
        "# primeira letra de cada palavra em maiúscula\n",
        "print(frase.title())"
      ],
      "metadata": {
        "id": "2oKC2GKciX8E",
        "colab": {
          "base_uri": "https://localhost:8080/"
        },
        "outputId": "adb20bf1-063e-4d90-b9b1-38e31959c72a"
      },
      "execution_count": null,
      "outputs": [
        {
          "output_type": "stream",
          "name": "stdout",
          "text": [
            "AMIGO\n",
            "amigo\n",
            "Amigo\n",
            "Amigo\n"
          ]
        }
      ]
    },
    {
      "cell_type": "code",
      "source": [
        "# TRANSFORMAÇÃO DE STRINGS 2\n",
        "\n",
        "# substituir palavras\n",
        "print(frase.replace('SENAI', 'ESCOLA'))\n",
        "print(frase)\n",
        "frase = frase.replace('SENAI', 'ESCOLA')\n",
        "print(frase)\n",
        "\n",
        "\n",
        "frase2 = \"   oi    SENAI   Ary Torres oi  \"\n",
        "\n",
        "\n",
        "# retirada/limpeza\n",
        "print(frase2.strip())\n",
        "frase2 = frase2.strip() # limpar espaços antes e depois\n",
        "\n",
        "\n",
        "print(frase2.strip('oi'))\n",
        "\n",
        "\n",
        "url = 'https://google.com/h'\n",
        "print(url.rstrip('h'))\n",
        "\n",
        "\n",
        "print(url.lstrip('https://'))"
      ],
      "metadata": {
        "colab": {
          "base_uri": "https://localhost:8080/"
        },
        "id": "anFrOwZwL7R5",
        "outputId": "47c596df-f858-49cd-b4ef-8d15d2d82638"
      },
      "execution_count": null,
      "outputs": [
        {
          "output_type": "stream",
          "name": "stdout",
          "text": [
            "Amigo\n",
            "Amigo\n",
            "Amigo\n",
            "oi    SENAI   Ary Torres oi\n",
            "    SENAI   Ary Torres \n",
            "https://google.com/\n",
            "google.com/h\n"
          ]
        }
      ]
    },
    {
      "cell_type": "code",
      "source": [
        "# JUNÇÃO E DIVISÃO DE STRINGS\n",
        "\n",
        "texto = \"SENAI Ary Torres\"\n",
        "\n",
        "\n",
        "# juntar caracteres com delimitador\n",
        "print('  '.join(texto))\n",
        "\n",
        "\n",
        "# dividir palavras em lista\n",
        "print(texto.split())\n",
        "print(texto.split()[0])   # primeira palavra\n",
        "print(texto.split()[-1])  # última palavra\n",
        "print(texto.split()[1])\n",
        "\n",
        "\n",
        "lista = texto.split()\n",
        "print(', '.join(lista))\n"
      ],
      "metadata": {
        "colab": {
          "base_uri": "https://localhost:8080/"
        },
        "id": "aSJS5_kpL9Wo",
        "outputId": "24db7d22-d5d8-46e3-9abe-f5506e22a867"
      },
      "execution_count": null,
      "outputs": [
        {
          "output_type": "stream",
          "name": "stdout",
          "text": [
            "S  E  N  A  I     A  r  y     T  o  r  r  e  s\n",
            "['SENAI', 'Ary', 'Torres']\n",
            "SENAI\n",
            "Torres\n",
            "Ary\n",
            "SENAI, Ary, Torres\n"
          ]
        }
      ]
    },
    {
      "cell_type": "code",
      "source": [
        "# EXEMPLO DE SANITIZAÇÃO DE FRASE\n",
        "\n",
        "\n",
        "frase2 = \"   oi    SENAI   Ary Torres oi  \".strip()\n",
        "frase2 = frase2.strip('oi')\n",
        "frase2 = frase2.split()\n",
        "frase2 = ' '.join(frase2)\n",
        "print(frase2)"
      ],
      "metadata": {
        "colab": {
          "base_uri": "https://localhost:8080/"
        },
        "id": "WXr0akaUMo65",
        "outputId": "d95231fc-53ff-4cb9-f8e6-34fb8115d38a"
      },
      "execution_count": null,
      "outputs": [
        {
          "output_type": "stream",
          "name": "stdout",
          "text": [
            "SENAI Ary Torres\n"
          ]
        }
      ]
    },
    {
      "cell_type": "code",
      "source": [
        "# EXEMPLO DE SANITIZAÇÃO DE FRASE v2\n",
        "\n",
        "\n",
        "frase2 = ' '.join(\"   oi    SENAI   Ary Torres oi  \".strip().strip('oi').split())\n",
        "print(frase2)\n"
      ],
      "metadata": {
        "colab": {
          "base_uri": "https://localhost:8080/"
        },
        "id": "tEFnXNmYPdqZ",
        "outputId": "0fd45365-797b-4e62-81be-4d44ccfe6b2a"
      },
      "execution_count": null,
      "outputs": [
        {
          "output_type": "stream",
          "name": "stdout",
          "text": [
            "SENAI Ary Torres\n"
          ]
        }
      ]
    },
    {
      "cell_type": "code",
      "source": [
        "# EXEMPLO DE SANITIZAÇÃO DE FRASE v3\n",
        "\n",
        "\n",
        "print(' '.join(\"   oi    SENAI   Ary Torres oi  \".strip().strip('oi').upper().split()))"
      ],
      "metadata": {
        "colab": {
          "base_uri": "https://localhost:8080/"
        },
        "id": "2zw5JZilRfFK",
        "outputId": "2cc194bd-2968-40dc-c56b-8ed4fe45c6df"
      },
      "execution_count": null,
      "outputs": [
        {
          "output_type": "stream",
          "name": "stdout",
          "text": [
            "SENAI ARY TORRES\n"
          ]
        }
      ]
    },
    {
      "cell_type": "code",
      "source": [
        "# EXEMPLO EXIBIR O DOMÍNIO DO E-MAIL\n",
        "\n",
        "\n",
        "email = 'leandro@gmail.com'.split('@')\n",
        "print(email)\n",
        "email_1_parte = email[0]\n",
        "print(email_1_parte)\n",
        "print(email[-1])"
      ],
      "metadata": {
        "colab": {
          "base_uri": "https://localhost:8080/"
        },
        "id": "jymCLAWvRgt5",
        "outputId": "266d5357-13f4-4ea5-baba-a069736a6ff0"
      },
      "execution_count": null,
      "outputs": [
        {
          "output_type": "stream",
          "name": "stdout",
          "text": [
            "['leandro', 'gmail.com']\n",
            "leandro\n",
            "gmail.com\n"
          ]
        }
      ]
    },
    {
      "cell_type": "markdown",
      "source": [
        "# Desafios"
      ],
      "metadata": {
        "id": "YIJtOKDLUJRa"
      }
    },
    {
      "cell_type": "code",
      "source": [
        "# DESAFIO 01\n",
        "\n",
        "#Vitor Antonio Magalhaes Vieira\n",
        "\"\"\"\n",
        "Crie um programa que leia o nome completo de uma pessoa e mostre:\n",
        "    O nome com todas as letras maiúsculas\n",
        "    O nome com todas as letras minúsculas\n",
        "    Quantas letras tem o primeiro nome\n",
        "    Quantas letras ao todo (sem considerar espaços)\n",
        "\"\"\"\n",
        "\n",
        "name = input(\"Digite seu nome completo:\\n \")\n",
        "alto = (name.upper())\n",
        "pequeno = (name.lower())\n",
        "contador = (len(name.split()[0]))\n",
        "contador_total = (len(name.replace(' ', '')))\n",
        "print(\"\\n\", alto,\"\\n\", pequeno,\"\\n\", contador,\"\\n\", contador_total)\n"
      ],
      "metadata": {
        "colab": {
          "base_uri": "https://localhost:8080/"
        },
        "id": "xr8rOSHzSpaq",
        "outputId": "3338f8c6-0876-4073-f2d2-0142b1607a8f"
      },
      "execution_count": null,
      "outputs": [
        {
          "output_type": "stream",
          "name": "stdout",
          "text": [
            "Digite seu nome completo:\n",
            " Vitor Antonio Magalhaes Vieira\n",
            "\n",
            " VITOR ANTONIO MAGALHAES VIEIRA \n",
            " vitor antonio magalhaes vieira \n",
            " 5 \n",
            " 27\n"
          ]
        }
      ]
    },
    {
      "cell_type": "code",
      "source": [
        "#Resolução do professor\n",
        "nome = input(\"Digite seu nome: \")\n",
        "pri_nome = nome.split()[0]\n",
        "\n",
        "\n",
        "tamanho_nome = len(nome.replace(' ', ''))\n",
        "#tamanho_nome = len(nome)-nome.count(' ')\n",
        "#tamanho_nome = len(''.join(nome.split()))\n",
        "\n",
        "\n",
        "print(\"\\nMaiúsculas:\", nome.upper())\n",
        "print(\"Minúsculas:\", nome.lower())\n",
        "print(\"Letras no 1º nome:\", len(pri_nome))\n",
        "print(\"Letras no nome:\", tamanho_nome)"
      ],
      "metadata": {
        "colab": {
          "base_uri": "https://localhost:8080/"
        },
        "id": "73zpn-_llVAF",
        "outputId": "08de53a1-6f77-4bc4-838d-dc8009ee69f7"
      },
      "execution_count": 1,
      "outputs": [
        {
          "output_type": "stream",
          "name": "stdout",
          "text": [
            "Digite seu nome: Vitor Vieira\n",
            "\n",
            "Maiúsculas: VITOR VIEIRA\n",
            "Minúsculas: vitor vieira\n",
            "Letras no 1º nome: 5\n",
            "Letras no nome: 11\n"
          ]
        }
      ]
    },
    {
      "cell_type": "code",
      "source": [
        "# DESAFIO 02\n",
        "\"\"\"\n",
        "Faça um programa que leia um número de quatro dígitos entre 1000 a 9999 e mostre na tela\n",
        "cada um dos dígitos separados.\n",
        "Ex: Digite um numero: 1981\n",
        "\n",
        "\n",
        "Unidade: 1\n",
        "Dezena: 8\n",
        "Centena: 9\n",
        "Milhar: 1\n",
        "\"\"\"\n",
        "num = input(\"Digite o número entre 1000 a 9999: \\n\")\n",
        "leitor_uni = (\"Unidade:\", num[3])\n",
        "leitor_dez = (\"Dezena:\", num[2])\n",
        "leitor_cen = (\"Centena:\", num[1])\n",
        "leitor_milhar = (\"Milhar:\", num[0])\n",
        "print(leitor_uni, leitor_cen,leitor_dez,leitor_milhar)\n",
        "\n",
        "#Versão 2\n",
        "\n",
        "num = input(\"Digite o número entre 1000 a 9999: \\n\")\n",
        "leitor_uni = \"Unidade:\"+str(num[3])\n",
        "leitor_dez = \"Dezena:\"+str(num[2])\n",
        "leitor_cen = \"Centena:\"+str(num[1])\n",
        "leitor_milhar = \"Milhar:\"+str(num[0])\n",
        "print(leitor_uni, leitor_cen,leitor_dez,leitor_milhar)"
      ],
      "metadata": {
        "id": "_fSU-Lm7V4Vr"
      },
      "execution_count": null,
      "outputs": []
    },
    {
      "cell_type": "code",
      "source": [
        "#Resolução do Professor\n",
        "\n",
        "frase = input(\"Digite Uma frase\").upper()\n",
        "\n",
        "print(f\"\\nA letra A aparece {frase.count('A')} vezes.\")"
      ],
      "metadata": {
        "id": "ButRMVGJpxB-"
      },
      "execution_count": null,
      "outputs": []
    },
    {
      "cell_type": "code",
      "source": [
        "# DESAFIO 03\n",
        "\"\"\"\n",
        "Faça um programa que leia uma frase pelo teclado e mostre:\n",
        "\n",
        "Quantas vezes aparece a letra \"A\"\n",
        "Em que posição ela aparece a primeira vez\n",
        "Em que posição ela aparece a última vez\n",
        "\"\"\"\n",
        "\n",
        "frase = input(\"Digite Uma frase:\")\n",
        "leitor_a = frase.count('a')\n",
        "posicao_1 = frase.index('a')\n",
        "posicao_ult = frase.rfind('a')\n",
        "print(leitor_a,posicao_1, posicao_ult)"
      ],
      "metadata": {
        "id": "vFJwns1qjVPN",
        "colab": {
          "base_uri": "https://localhost:8080/"
        },
        "outputId": "b185d513-5d95-4510-8195-907ef2e5b9bd"
      },
      "execution_count": 14,
      "outputs": [
        {
          "output_type": "stream",
          "name": "stdout",
          "text": [
            "Digite Uma frase:paralelepipedo\n",
            "2 1 3\n"
          ]
        }
      ]
    },
    {
      "cell_type": "code",
      "source": [],
      "metadata": {
        "id": "2Q6pcdkYr3_2"
      },
      "execution_count": null,
      "outputs": []
    },
    {
      "cell_type": "code",
      "source": [
        "# DESAFIO 04\n",
        "\"\"\"\n",
        "Faça um programa que leia o nome completo de uma pessoa, mostrando em seguida o primeiro\n",
        "e o último nome separadamente.\n",
        "\n",
        "\n",
        "Exemplo: Leandro Gomes Andrade\n",
        "\n",
        "\n",
        "Primeiro: Leandro\n",
        "Último: Andrade\n",
        "\"\"\"\n"
      ],
      "metadata": {
        "id": "UtDW_WDijWyM"
      },
      "execution_count": null,
      "outputs": []
    }
  ]
}