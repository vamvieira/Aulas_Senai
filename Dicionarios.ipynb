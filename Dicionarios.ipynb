{
  "nbformat": 4,
  "nbformat_minor": 0,
  "metadata": {
    "colab": {
      "provenance": [],
      "authorship_tag": "ABX9TyMTH/dz8a53b5iGVnK0PlKU",
      "include_colab_link": true
    },
    "kernelspec": {
      "name": "python3",
      "display_name": "Python 3"
    },
    "language_info": {
      "name": "python"
    }
  },
  "cells": [
    {
      "cell_type": "markdown",
      "metadata": {
        "id": "view-in-github",
        "colab_type": "text"
      },
      "source": [
        "<a href=\"https://colab.research.google.com/github/vamvieira/Aulas_Senai/blob/main/Dicionarios.ipynb\" target=\"_parent\"><img src=\"https://colab.research.google.com/assets/colab-badge.svg\" alt=\"Open In Colab\"/></a>"
      ]
    },
    {
      "cell_type": "code",
      "execution_count": 1,
      "metadata": {
        "colab": {
          "base_uri": "https://localhost:8080/"
        },
        "id": "hJ58l2dzKGH7",
        "outputId": "4cd39162-cb46-4fae-9d03-70bd8145adbf"
      },
      "outputs": [
        {
          "output_type": "stream",
          "name": "stdout",
          "text": [
            "<class 'dict'>\n",
            "{'comida': 'Lanche', 'bebida': 'Água', 'sobremesa': 'Pudim'}\n",
            "Lanche\n"
          ]
        }
      ],
      "source": [
        "# EXEMPLO 01 (JSON)\n",
        "\n",
        "\n",
        "almoco = {'comida': 'Lanche', 'bebida': 'Água', 'sobremesa': 'Pudim'}\n",
        "print(type(almoco))\n",
        "print(almoco)\n",
        "print(almoco['comida'])"
      ]
    },
    {
      "cell_type": "code",
      "source": [
        "# EXEMPLO 01 v2\n",
        "\n",
        "\n",
        "almoco = {'comida': 'Lanche', 'bebida': 'Água', 'sobremesa': ['Pudim', 'Mousse']}\n",
        "print(almoco['sobremesa'][1])"
      ],
      "metadata": {
        "colab": {
          "base_uri": "https://localhost:8080/"
        },
        "id": "JrhpaWiOKNAU",
        "outputId": "0960222c-7a6b-4dd9-e3be-ab6dacd03538"
      },
      "execution_count": 2,
      "outputs": [
        {
          "output_type": "stream",
          "name": "stdout",
          "text": [
            "Mousse\n"
          ]
        }
      ]
    },
    {
      "cell_type": "code",
      "source": [
        "# EXEMPLO 02 ITENS (FORMATO JSON)\n",
        "\n",
        "\n",
        "almoco = {\n",
        "    'comida': 'Lanche',\n",
        "    'bebida': 'Água',\n",
        "    'sobremesa': 'Pudim'\n",
        "    }\n",
        "\n",
        "\n",
        "print(almoco.items())"
      ],
      "metadata": {
        "colab": {
          "base_uri": "https://localhost:8080/"
        },
        "id": "zb_06MLZKPdC",
        "outputId": "aa7c6bea-1812-4478-9e41-1aa8de00f601"
      },
      "execution_count": 3,
      "outputs": [
        {
          "output_type": "stream",
          "name": "stdout",
          "text": [
            "dict_items([('comida', 'Lanche'), ('bebida', 'Água'), ('sobremesa', 'Pudim')])\n"
          ]
        }
      ]
    },
    {
      "cell_type": "code",
      "source": [
        "# EXEMPLO 03 CHAVES\n",
        "\n",
        "\n",
        "print(almoco.keys())"
      ],
      "metadata": {
        "colab": {
          "base_uri": "https://localhost:8080/"
        },
        "id": "puKGuZ28KQ9i",
        "outputId": "00819698-c564-438d-8575-509c7addd08e"
      },
      "execution_count": 4,
      "outputs": [
        {
          "output_type": "stream",
          "name": "stdout",
          "text": [
            "dict_keys(['comida', 'bebida', 'sobremesa'])\n"
          ]
        }
      ]
    },
    {
      "cell_type": "code",
      "source": [
        "# EXEMPLO 04 VALORES\n",
        "\n",
        "\n",
        "print(almoco.values())"
      ],
      "metadata": {
        "colab": {
          "base_uri": "https://localhost:8080/"
        },
        "id": "PoeLIPRDKScy",
        "outputId": "fb3201ec-a132-4a89-f50b-5d2c1c45d358"
      },
      "execution_count": 5,
      "outputs": [
        {
          "output_type": "stream",
          "name": "stdout",
          "text": [
            "dict_values(['Lanche', 'Água', 'Pudim'])\n"
          ]
        }
      ]
    },
    {
      "cell_type": "code",
      "source": [
        "# EXEMPLO 05\n",
        "\n",
        "\n",
        "for chave, valor in almoco.items():\n",
        "    print(f\"{chave:12} | {valor:>12}\")"
      ],
      "metadata": {
        "colab": {
          "base_uri": "https://localhost:8080/"
        },
        "id": "hjsQRDdTKUuS",
        "outputId": "fdf7bf00-6138-412a-b324-684f83d54b51"
      },
      "execution_count": 6,
      "outputs": [
        {
          "output_type": "stream",
          "name": "stdout",
          "text": [
            "comida       |       Lanche\n",
            "bebida       |         Água\n",
            "sobremesa    |        Pudim\n"
          ]
        }
      ]
    },
    {
      "cell_type": "code",
      "source": [
        "# EXEMPLO 06 (Alterar valores do dicionário)\n",
        "\n",
        "\n",
        "almoco['bebida'] = 'Suco de laranja'\n",
        "for chave, valor in almoco.items():\n",
        "    print(f\"{chave:12} | {valor:>15}\")"
      ],
      "metadata": {
        "colab": {
          "base_uri": "https://localhost:8080/"
        },
        "id": "FtGSi5GvKWki",
        "outputId": "6b8d8d96-8be9-449e-be11-9960a63316fb"
      },
      "execution_count": 7,
      "outputs": [
        {
          "output_type": "stream",
          "name": "stdout",
          "text": [
            "comida       |          Lanche\n",
            "bebida       | Suco de laranja\n",
            "sobremesa    |           Pudim\n"
          ]
        }
      ]
    },
    {
      "cell_type": "code",
      "source": [
        "# EXEMPLO 07 (Remover valores do dicionário)\n",
        "\n",
        "\n",
        "del almoco['sobremesa']\n",
        "for chave, valor in almoco.items():\n",
        "    print(f\"{chave:12} | {valor:12}\")"
      ],
      "metadata": {
        "colab": {
          "base_uri": "https://localhost:8080/"
        },
        "id": "Lf5wOnahKYBC",
        "outputId": "a1158a79-b07e-4089-be5d-c8b7b698a68b"
      },
      "execution_count": 8,
      "outputs": [
        {
          "output_type": "stream",
          "name": "stdout",
          "text": [
            "comida       | Lanche      \n",
            "bebida       | Suco de laranja\n"
          ]
        }
      ]
    },
    {
      "cell_type": "code",
      "source": [
        "# EXEMPLO 08 (Criar chave e valor para o dicionário)\n",
        "\n",
        "\n",
        "almoco['sorvete'] = 'Chocolate'\n",
        "for chave, valor in almoco.items():\n",
        "    print(f\"{chave:12} | {valor:12}\")"
      ],
      "metadata": {
        "colab": {
          "base_uri": "https://localhost:8080/"
        },
        "id": "8DpnvYayKZ9j",
        "outputId": "87cdc5f4-90ee-458f-b22a-b73f65837df9"
      },
      "execution_count": 9,
      "outputs": [
        {
          "output_type": "stream",
          "name": "stdout",
          "text": [
            "comida       | Lanche      \n",
            "bebida       | Suco de laranja\n",
            "sorvete      | Chocolate   \n"
          ]
        }
      ]
    },
    {
      "cell_type": "code",
      "source": [
        "# EXEMPLO 09\n",
        "\n",
        "\n",
        "estado = {}\n",
        "brasil = []\n",
        "\n",
        "\n",
        "for _ in range(2):\n",
        "    estado['uf']    = input(\"Digite a unidade federativa: \")\n",
        "    estado['sigla'] = input(\"Digite a sigla do estado: \")\n",
        "    brasil.append(estado.copy())\n",
        "\n",
        "\n",
        "print(brasil)\n",
        "print(brasil[0]['sigla'])"
      ],
      "metadata": {
        "colab": {
          "base_uri": "https://localhost:8080/"
        },
        "id": "clM_p0q8KbJS",
        "outputId": "2e8b449d-0fc7-4c66-86b5-9ebfca4cb5ff"
      },
      "execution_count": 10,
      "outputs": [
        {
          "output_type": "stream",
          "name": "stdout",
          "text": [
            "Digite a unidade federativa: 5\n",
            "Digite a sigla do estado: SP\n",
            "Digite a unidade federativa: 54\n",
            "Digite a sigla do estado: RJ\n",
            "[{'uf': '5', 'sigla': 'SP'}, {'uf': '54', 'sigla': 'RJ'}]\n",
            "SP\n"
          ]
        }
      ]
    },
    {
      "cell_type": "code",
      "source": [
        "# EXEMPLO 10\n",
        "\n",
        "\n",
        "for e in brasil:\n",
        "    for valor in e.values():\n",
        "        print(valor)"
      ],
      "metadata": {
        "colab": {
          "base_uri": "https://localhost:8080/"
        },
        "id": "45LjLO0mKecD",
        "outputId": "fe6a9be7-edc9-4313-a7e3-0d8254689ace"
      },
      "execution_count": 11,
      "outputs": [
        {
          "output_type": "stream",
          "name": "stdout",
          "text": [
            "5\n",
            "SP\n",
            "54\n",
            "RJ\n"
          ]
        }
      ]
    },
    {
      "cell_type": "code",
      "source": [
        "# DESAFIO 01\n",
        "\"\"\"\n",
        "Dada a lista 'almoco', mostre a comida de Catarina.\n",
        "\"\"\"\n",
        "almoco = [\n",
        "    {\"nome\":\"Leandro\", \"comida\": \"Lanche\", \"bebida\": \"Suco de Laranja\"},\n",
        "    {\"nome\":\"Celia\", \"comida\": \"Lasanha\", \"bebida\": \"Suco de uva\"},\n",
        "    {\"nome\":\"Catarina\", \"comida\": \"Pizza\", \"bebida\": \"Coca-Cola\"}\n",
        "]\n",
        "print(almoco[2]['comida'])"
      ],
      "metadata": {
        "colab": {
          "base_uri": "https://localhost:8080/"
        },
        "id": "2Ixr6G0iKj3y",
        "outputId": "1954df54-5827-4613-b036-ab6e3f0c78bb"
      },
      "execution_count": 12,
      "outputs": [
        {
          "output_type": "stream",
          "name": "stdout",
          "text": [
            "Pizza\n"
          ]
        }
      ]
    },
    {
      "cell_type": "code",
      "source": [
        "# DESAFIO 02\n",
        "\"\"\"\n",
        "Com a lista do DESAFIO anterior, exiba uma lista com o nome da pessoa e o que ela come.\n",
        "\"\"\"\n",
        "for d in almoco:\n",
        "    print(f\"{d['nome']} come {d['comida']} e bebe {d['bebida']}.\")"
      ],
      "metadata": {
        "colab": {
          "base_uri": "https://localhost:8080/"
        },
        "id": "72ztfFWuKnaD",
        "outputId": "614635c9-b810-44e2-e0bb-0609af0823e2"
      },
      "execution_count": 13,
      "outputs": [
        {
          "output_type": "stream",
          "name": "stdout",
          "text": [
            "Leandro come Lanche e bebe Suco de Laranja.\n",
            "Celia come Lasanha e bebe Suco de uva.\n",
            "Catarina come Pizza e bebe Coca-Cola.\n"
          ]
        }
      ]
    },
    {
      "cell_type": "code",
      "source": [
        "# DESAFIO 02 v2 (com busca por nome)\n",
        "\n",
        "\n",
        "cont = 0\n",
        "pessoa = input(\"Digite o nome da pessoa: \")\n",
        "for i in range(len(almoco)):\n",
        "    if pessoa.lower() == almoco[i]['nome'].lower():\n",
        "        cont += 1\n",
        "        print(f\"{almoco[i]['nome']} come {almoco[i]['comida']} e bebe {almoco[i]['bebida']}\")\n",
        "if cont == 0:\n",
        "    print(\"\\nNenhum registro encontrado...\")"
      ],
      "metadata": {
        "colab": {
          "base_uri": "https://localhost:8080/"
        },
        "id": "fAhH84t7KqYC",
        "outputId": "ecb66895-b946-44cb-d041-039df4b714b3"
      },
      "execution_count": 14,
      "outputs": [
        {
          "output_type": "stream",
          "name": "stdout",
          "text": [
            "Digite o nome da pessoa: Vitor\n",
            "\n",
            "Nenhum registro encontrado...\n"
          ]
        }
      ]
    },
    {
      "cell_type": "code",
      "source": [
        "# DESAFIO 03\n",
        "\"\"\"\n",
        "Faça  um programa que leia o nome e média de um aluno, guardando também a\n",
        "situação em um dicionário.\n",
        "(Abaixo de 5: Reprovado | entre 5 e 6,9: Exame | 7: acima Aprovado)\n",
        "No final mostre o conteúdo da estrutura na tela.\n",
        "\"\"\"\n",
        "aluno = {}\n",
        "aluno['nome'] = input(\"Digite seu nome:\")\n",
        "aluno['media'] = float(input(\"Digite sua média: \"))\n",
        "if aluno['media'] < 5:\n",
        "  aluno['situacao'] = 'Reprovado'\n",
        "elif aluno['media'] < 7:\n",
        "  aluno['situacao'] = 'Exame'\n",
        "else:\n",
        "  aluno['situacao'] = 'Aprovado'\n",
        "\n",
        "print(aluno)"
      ],
      "metadata": {
        "colab": {
          "base_uri": "https://localhost:8080/"
        },
        "id": "IJPX5KPIKr3C",
        "outputId": "4136d6bf-6d6d-41da-955a-7fcb49342705"
      },
      "execution_count": 18,
      "outputs": [
        {
          "output_type": "stream",
          "name": "stdout",
          "text": [
            "Digite seu nome:Vitor\n",
            "Digite sua média: 8\n",
            "{'nome': 'Vitor', 'media': 8.0, 'situacao': 'Aprovado'}\n"
          ]
        }
      ]
    },
    {
      "cell_type": "code",
      "source": [
        "# DESAFIO 04 BÔNUS\n",
        "\"\"\"\n",
        "Faça com que o programa anterior possa cadastrar uma quantidade de alunos escolhida pelo usuário.\n",
        "No final apresente as informações tabuladas.\n",
        "\"\"\"\n",
        "\n",
        "aluno = {}\n",
        "lista = []\n",
        "\n",
        "for i in range(1, 5):\n",
        "  aluno['nome'] = input(\"Digite seu nome:\")\n",
        "  aluno['media'] = float(input(\"Digite sua média: \"))\n",
        "  if aluno['media'] < 5:\n",
        "    aluno['situacao'] = 'Reprovado'\n",
        "  elif aluno['media'] < 7:\n",
        "    aluno['situacao'] = 'Exame'\n",
        "  else:\n",
        "    aluno['situacao'] = 'Aprovado'\n",
        "  lista.append(aluno.copy())\n",
        "\n",
        "print(lista)"
      ],
      "metadata": {
        "colab": {
          "base_uri": "https://localhost:8080/"
        },
        "id": "iOB3OYijLfdC",
        "outputId": "54c4e4b4-ee94-4787-b254-744450cff92f"
      },
      "execution_count": 29,
      "outputs": [
        {
          "output_type": "stream",
          "name": "stdout",
          "text": [
            "Digite seu nome:Vitor\n",
            "Digite sua média: 10\n",
            "Digite seu nome:Elias\n",
            "Digite sua média: 6\n",
            "Digite seu nome:Fabiano\n",
            "Digite sua média: 5\n",
            "Digite seu nome:Caique\n",
            "Digite sua média: 2\n",
            "[{'nome': 'Vitor', 'media': 10.0, 'situacao': 'Aprovado'}, {'nome': 'Elias', 'media': 6.0, 'situacao': 'Exame'}, {'nome': 'Fabiano', 'media': 5.0, 'situacao': 'Exame'}, {'nome': 'Caique', 'media': 2.0, 'situacao': 'Reprovado'}]\n"
          ]
        }
      ]
    },
    {
      "cell_type": "code",
      "source": [
        "#Modelo do Professor\n",
        "aluno = {}\n",
        "escola = []\n",
        "\n",
        "\n",
        "for _ in range(int(input(\"Digite qts alunos quer cadastrar: \"))):\n",
        "    aluno['nome'] = input(\"Digite seu nome: \")\n",
        "    aluno['media'] = float(input(\"Digite sua média: \"))\n",
        "    if aluno['media'] < 5:\n",
        "        aluno['situacao'] = 'Reprovado'\n",
        "    elif aluno['media'] < 7:\n",
        "        aluno['situacao'] = 'Exame'\n",
        "    else:\n",
        "        aluno['situacao'] = 'Aprovado'\n",
        "    escola.append(aluno.copy())\n",
        "\n",
        "\n",
        "print(escola)"
      ],
      "metadata": {
        "colab": {
          "base_uri": "https://localhost:8080/"
        },
        "id": "C6m4vjLUQ9wi",
        "outputId": "4c6cbec1-955f-4269-9886-4e3b2575f4a6"
      },
      "execution_count": 30,
      "outputs": [
        {
          "output_type": "stream",
          "name": "stdout",
          "text": [
            "Digite qts alunos quer cadastrar: 2\n",
            "Digite seu nome: Vitor\n",
            "Digite sua média: 10\n",
            "Digite seu nome: Elias\n",
            "Digite sua média: 6\n",
            "[{'nome': 'Vitor', 'media': 10.0, 'situacao': 'Aprovado'}, {'nome': 'Elias', 'media': 6.0, 'situacao': 'Exame'}]\n"
          ]
        }
      ]
    },
    {
      "cell_type": "code",
      "source": [
        "# DESAFIO 04 BÔNUS v2\n",
        "\n",
        "\n",
        "from google.colab import output\n",
        "alunos = []\n",
        "aluno = {}\n",
        "\n",
        "\n",
        "for i in range(int(input(\"Digite o número de alunos para cadastrar: \"))):\n",
        "    output.clear()\n",
        "    aluno['nome'] = input(f\"Digite o {i+1}º nome: \").upper()\n",
        "    aluno['media'] = float(input(f\"Digite a {i+1}ª média: \"))\n",
        "    media = aluno['media']\n",
        "    match media:\n",
        "        case _ if media < 5:\n",
        "            aluno['situacao'] = 'REPROVADO'\n",
        "        case _ if media < 7:\n",
        "            aluno['situacao'] = 'EXAME'\n",
        "        case _:\n",
        "            aluno['situacao'] = 'APROVADO'\n",
        "    alunos.append(aluno.copy())\n",
        "\n",
        "\n",
        "output.clear()\n",
        "print(f\"\\033[0;95m{'ALUNOS'.center(15)} {'MÉDIA'.center(5)} {'SITUAÇÃO'.center(11)}\\033[0m\")\n",
        "for aluno in alunos:\n",
        "    print(f\"\\033[0;30;47m {aluno['nome']:<15} {aluno['media']:^5} {aluno['situacao']:^11} \")"
      ],
      "metadata": {
        "colab": {
          "base_uri": "https://localhost:8080/"
        },
        "id": "ZrfZ8ykCOlfy",
        "outputId": "49ad98cf-36ed-48d7-bd83-8c1025da0230"
      },
      "execution_count": 31,
      "outputs": [
        {
          "output_type": "stream",
          "name": "stdout",
          "text": [
            "\u001b[0;95m     ALUNOS     MÉDIA   SITUAÇÃO \u001b[0m\n",
            "\u001b[0;30;47m VITOR           10.0   APROVADO   \n"
          ]
        }
      ]
    },
    {
      "cell_type": "markdown",
      "source": [
        "## 11 Tratamento de Erros"
      ],
      "metadata": {
        "id": "cNSa8Iana37J"
      }
    },
    {
      "cell_type": "code",
      "source": [
        "# EXEMPLO 01\n",
        "\n",
        "\n",
        "try:\n",
        "    numerador   = int(input(\"Digite o numerador: \"))\n",
        "    denominador = int(input(\"Digite o denominador: \"))\n",
        "    razao = numerador/denominador\n",
        "except Exception as erro:\n",
        "    print(f\"Erro encontrado: {erro}\")\n",
        "    print(f\"Erro encontrado: {erro.__class__}\")\n",
        "else:\n",
        "    print(razao)"
      ],
      "metadata": {
        "colab": {
          "base_uri": "https://localhost:8080/"
        },
        "id": "qrgvU0Kca3uR",
        "outputId": "1acd9268-53dc-4ed7-8e4a-9423c92cf554"
      },
      "execution_count": 32,
      "outputs": [
        {
          "output_type": "stream",
          "name": "stdout",
          "text": [
            "Digite o numerador: 58\n",
            "Digite o denominador: 4\n",
            "14.5\n"
          ]
        }
      ]
    },
    {
      "cell_type": "code",
      "source": [
        "# EXEMPLO 02\n",
        "\n",
        "\n",
        "try:\n",
        "    # Código que pode gerar erro\n",
        "    numero = int(input(\"Digite um número: \"))\n",
        "    resultado = 10 / numero\n",
        "except(ValueError, TypeError):\n",
        "    # Trata erros mencionados acima\n",
        "    print(\"Digite um número válido\")\n",
        "except(ZeroDivisionError):\n",
        "    # Trata erro mencionado acima\n",
        "    print(\"Não é possível dividir por zero\")\n",
        "else:\n",
        "    # Executa se não houver erro\n",
        "    print(f\"\\nResultado: {resultado}\")\n",
        "finally:\n",
        "    # Sempre executa\n",
        "    print(\"\\nEncerrando o programa...\")"
      ],
      "metadata": {
        "colab": {
          "base_uri": "https://localhost:8080/"
        },
        "id": "_ksujj_FYu4A",
        "outputId": "d519bac8-be61-4466-c2e5-443ff36c9751"
      },
      "execution_count": 33,
      "outputs": [
        {
          "output_type": "stream",
          "name": "stdout",
          "text": [
            "Digite um número: 5\n",
            "\n",
            "Resultado: 2.0\n",
            "\n",
            "Encerrando o programa...\n"
          ]
        }
      ]
    },
    {
      "cell_type": "code",
      "source": [
        "# EXEMPLO 03\n",
        "\n",
        "\n",
        "try:\n",
        "    nota1 = float(input(\"Digite a 1ª nota: \"))\n",
        "    nota2 = float(input(\"Digite a 2ª nota: \"))\n",
        "    media = (nota1+nota2)/2\n",
        "except:\n",
        "    print(\"Deu ruim\")\n",
        "else:\n",
        "    if media < 5:\n",
        "        print(f\"\\nMédia: {media:,.1f}\")\n",
        "        print(\"Resultado: REPROVADO\")\n",
        "    elif media < 7:\n",
        "        print(f\"\\nMédia: {media:,.1f}\")\n",
        "        print(\"Resultado: RECUPERAÇÃO\")\n",
        "    else:\n",
        "        print(f\"\\nMédia: {media:,.1f}\")\n",
        "        print(\"Resultado: APROVADO\")"
      ],
      "metadata": {
        "colab": {
          "base_uri": "https://localhost:8080/"
        },
        "id": "2tZiuKFgc1eA",
        "outputId": "39259a82-80e3-4b5a-888f-f64faae17677"
      },
      "execution_count": 34,
      "outputs": [
        {
          "output_type": "stream",
          "name": "stdout",
          "text": [
            "Digite a 1ª nota: 5\n",
            "Digite a 2ª nota: 6\n",
            "\n",
            "Média: 5.5\n",
            "Resultado: RECUPERAÇÃO\n"
          ]
        }
      ]
    },
    {
      "cell_type": "code",
      "source": [
        "# EXEMPLO 04\n",
        "\n",
        "\n",
        "import time\n",
        "from google.colab import output\n",
        "\n",
        "\n",
        "while True:\n",
        "    try:\n",
        "        nota1 = float(input(\"Digite a 1ª nota: \"))\n",
        "        nota2 = float(input(\"Digite a 2ª nota: \"))\n",
        "        media = (nota1+nota2)/2\n",
        "    except:\n",
        "        output.clear()\n",
        "        print(\"Deu ruim\")\n",
        "        time.sleep(3)\n",
        "        print()\n",
        "        continue\n",
        "    else:\n",
        "        if media < 5:\n",
        "            print(f\"\\nMédia: {media:,.1f}\")\n",
        "            print(\"Resultado: REPROVADO\")\n",
        "        elif media < 7:\n",
        "            print(f\"\\nMédia: {media:,.1f}\")\n",
        "            print(\"Resultado: RECUPERAÇÃO\")\n",
        "        else:\n",
        "            print(f\"\\nMédia: {media:,.1f}\")\n",
        "            print(\"Resultado: APROVADO\")\n",
        "        break\n"
      ],
      "metadata": {
        "colab": {
          "base_uri": "https://localhost:8080/"
        },
        "id": "BHTol4Vwde9Q",
        "outputId": "33fc786b-0e2d-4ce3-d6cb-e1ea524a8bb4"
      },
      "execution_count": 35,
      "outputs": [
        {
          "output_type": "stream",
          "name": "stdout",
          "text": [
            "Digite a 1ª nota: 5\n",
            "Digite a 2ª nota: 9\n",
            "\n",
            "Média: 7.0\n",
            "Resultado: APROVADO\n"
          ]
        }
      ]
    },
    {
      "cell_type": "code",
      "source": [],
      "metadata": {
        "id": "Zv4elSAOdkiw"
      },
      "execution_count": null,
      "outputs": []
    }
  ]
}